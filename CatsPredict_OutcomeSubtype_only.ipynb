{
 "cells": [
  {
   "cell_type": "markdown",
   "metadata": {},
   "source": [
    "## Cats predictions only"
   ]
  },
  {
   "cell_type": "code",
   "execution_count": 1,
   "metadata": {},
   "outputs": [
    {
     "name": "stderr",
     "output_type": "stream",
     "text": [
      "C:\\ProgramData\\Anaconda3\\lib\\site-packages\\sklearn\\cross_validation.py:41: DeprecationWarning: This module was deprecated in version 0.18 in favor of the model_selection module into which all the refactored classes and functions are moved. Also note that the interface of the new CV iterators are different from that of this module. This module will be removed in 0.20.\n",
      "  \"This module will be removed in 0.20.\", DeprecationWarning)\n"
     ]
    }
   ],
   "source": [
    "%matplotlib inline\n",
    "from sklearn.model_selection import train_test_split\n",
    "from sklearn.neighbors import KNeighborsClassifier \n",
    "from sklearn.metrics import accuracy_score\n",
    "import pandas as pd \n",
    "import numpy as np \n",
    "from sklearn.neural_network import MLPClassifier\n",
    "from sklearn.model_selection import GridSearchCV\n",
    "from sklearn import metrics\n",
    "from sklearn.cross_validation import cross_val_score\n",
    "from sklearn.tree import DecisionTreeClassifier\n",
    "from sklearn.utils import resample\n",
    "from sklearn.ensemble import RandomForestClassifier\n",
    "from sklearn.ensemble import AdaBoostClassifier\n",
    "from IPython.display import display\n",
    "from matplotlib.pyplot import figure, show\n",
    "from numpy import arange, sin, pi\n",
    "from sklearn import preprocessing\n",
    "from sklearn.decomposition import PCA\n",
    "from sklearn.svm import SVC"
   ]
  },
  {
   "cell_type": "code",
   "execution_count": 2,
   "metadata": {},
   "outputs": [
    {
     "data": {
      "text/plain": [
       "(26729, 10)"
      ]
     },
     "execution_count": 2,
     "metadata": {},
     "output_type": "execute_result"
    }
   ],
   "source": [
    "#load csv file into data frame\n",
    "animal_df = pd.read_csv('train.csv')\n",
    "animal_df.shape"
   ]
  },
  {
   "cell_type": "code",
   "execution_count": 3,
   "metadata": {},
   "outputs": [
    {
     "data": {
      "text/plain": [
       "(26729, 8)"
      ]
     },
     "execution_count": 3,
     "metadata": {},
     "output_type": "execute_result"
    }
   ],
   "source": [
    "#drop animalID\n",
    "animal_df.drop(['AnimalID', 'OutcomeType'], axis=1, inplace=True)\n",
    "animal_df.shape"
   ]
  },
  {
   "cell_type": "code",
   "execution_count": 4,
   "metadata": {},
   "outputs": [
    {
     "data": {
      "text/plain": [
       "(11134, 8)"
      ]
     },
     "execution_count": 4,
     "metadata": {},
     "output_type": "execute_result"
    }
   ],
   "source": [
    "#keep only data for cats\n",
    "animal_df = animal_df[~animal_df['AnimalType'].isin(['Dog'])]\n",
    "animal_df.shape"
   ]
  },
  {
   "cell_type": "code",
   "execution_count": 5,
   "metadata": {},
   "outputs": [
    {
     "data": {
      "text/html": [
       "<div>\n",
       "<style scoped>\n",
       "    .dataframe tbody tr th:only-of-type {\n",
       "        vertical-align: middle;\n",
       "    }\n",
       "\n",
       "    .dataframe tbody tr th {\n",
       "        vertical-align: top;\n",
       "    }\n",
       "\n",
       "    .dataframe thead th {\n",
       "        text-align: right;\n",
       "    }\n",
       "</style>\n",
       "<table border=\"1\" class=\"dataframe\">\n",
       "  <thead>\n",
       "    <tr style=\"text-align: right;\">\n",
       "      <th></th>\n",
       "      <th>Name</th>\n",
       "      <th>DateTime</th>\n",
       "      <th>OutcomeSubtype</th>\n",
       "      <th>AnimalType</th>\n",
       "      <th>SexuponOutcome</th>\n",
       "      <th>AgeuponOutcome</th>\n",
       "      <th>Breed</th>\n",
       "      <th>Color</th>\n",
       "    </tr>\n",
       "  </thead>\n",
       "  <tbody>\n",
       "    <tr>\n",
       "      <th>1</th>\n",
       "      <td>Emily</td>\n",
       "      <td>2013-10-13 12:44:00</td>\n",
       "      <td>0.0</td>\n",
       "      <td>Cat</td>\n",
       "      <td>Spayed Female</td>\n",
       "      <td>1 year</td>\n",
       "      <td>Domestic Shorthair Mix</td>\n",
       "      <td>Cream Tabby</td>\n",
       "    </tr>\n",
       "    <tr>\n",
       "      <th>3</th>\n",
       "      <td>NaN</td>\n",
       "      <td>2014-07-11 19:09:00</td>\n",
       "      <td>2.0</td>\n",
       "      <td>Cat</td>\n",
       "      <td>Intact Male</td>\n",
       "      <td>3 weeks</td>\n",
       "      <td>Domestic Shorthair Mix</td>\n",
       "      <td>Blue Cream</td>\n",
       "    </tr>\n",
       "    <tr>\n",
       "      <th>6</th>\n",
       "      <td>Jimmy</td>\n",
       "      <td>2015-03-28 13:11:00</td>\n",
       "      <td>2.0</td>\n",
       "      <td>Cat</td>\n",
       "      <td>Intact Male</td>\n",
       "      <td>3 weeks</td>\n",
       "      <td>Domestic Shorthair Mix</td>\n",
       "      <td>Blue Tabby</td>\n",
       "    </tr>\n",
       "    <tr>\n",
       "      <th>7</th>\n",
       "      <td>NaN</td>\n",
       "      <td>2015-04-30 17:02:00</td>\n",
       "      <td>2.0</td>\n",
       "      <td>Cat</td>\n",
       "      <td>Unknown</td>\n",
       "      <td>3 weeks</td>\n",
       "      <td>Domestic Shorthair Mix</td>\n",
       "      <td>Brown Tabby</td>\n",
       "    </tr>\n",
       "    <tr>\n",
       "      <th>10</th>\n",
       "      <td>NaN</td>\n",
       "      <td>2013-12-05 15:50:00</td>\n",
       "      <td>4.0</td>\n",
       "      <td>Cat</td>\n",
       "      <td>Unknown</td>\n",
       "      <td>2 years</td>\n",
       "      <td>Domestic Shorthair Mix</td>\n",
       "      <td>Black</td>\n",
       "    </tr>\n",
       "  </tbody>\n",
       "</table>\n",
       "</div>"
      ],
      "text/plain": [
       "     Name             DateTime  OutcomeSubtype AnimalType SexuponOutcome  \\\n",
       "1   Emily  2013-10-13 12:44:00             0.0        Cat  Spayed Female   \n",
       "3     NaN  2014-07-11 19:09:00             2.0        Cat    Intact Male   \n",
       "6   Jimmy  2015-03-28 13:11:00             2.0        Cat    Intact Male   \n",
       "7     NaN  2015-04-30 17:02:00             2.0        Cat        Unknown   \n",
       "10    NaN  2013-12-05 15:50:00             4.0        Cat        Unknown   \n",
       "\n",
       "   AgeuponOutcome                   Breed        Color  \n",
       "1          1 year  Domestic Shorthair Mix  Cream Tabby  \n",
       "3         3 weeks  Domestic Shorthair Mix   Blue Cream  \n",
       "6         3 weeks  Domestic Shorthair Mix   Blue Tabby  \n",
       "7         3 weeks  Domestic Shorthair Mix  Brown Tabby  \n",
       "10        2 years  Domestic Shorthair Mix        Black  "
      ]
     },
     "execution_count": 5,
     "metadata": {},
     "output_type": "execute_result"
    }
   ],
   "source": [
    "# Giving numerical values to our label\n",
    "def categorical_to_numeric(x):\n",
    "    if x == 'Suffering':\n",
    "        return 0\n",
    "    elif x == 'Foster':\n",
    "        return 1\n",
    "    elif x == 'Partner':\n",
    "        return 2\n",
    "    elif x == 'Offsite':\n",
    "        return 3\n",
    "    elif x == 'SCRP':\n",
    "        return 4\n",
    "    elif x == 'Aggressive':\n",
    "        return 5\n",
    "    elif x == 'Rabies Risk':\n",
    "        return 6\n",
    "    elif x == 'Medical':\n",
    "        return 7\n",
    "    elif x == 'In Kennel':\n",
    "        return 8\n",
    "    elif x == 'In Foster':\n",
    "        return 9\n",
    "    elif x == 'Behavior':\n",
    "        return 10\n",
    "    \n",
    "    \n",
    "animal_df['OutcomeSubtype'] = animal_df['OutcomeSubtype'].apply(categorical_to_numeric).astype(np.float32)\n",
    "animal_df.head()"
   ]
  },
  {
   "cell_type": "code",
   "execution_count": 6,
   "metadata": {},
   "outputs": [
    {
     "data": {
      "text/html": [
       "<div>\n",
       "<style scoped>\n",
       "    .dataframe tbody tr th:only-of-type {\n",
       "        vertical-align: middle;\n",
       "    }\n",
       "\n",
       "    .dataframe tbody tr th {\n",
       "        vertical-align: top;\n",
       "    }\n",
       "\n",
       "    .dataframe thead th {\n",
       "        text-align: right;\n",
       "    }\n",
       "</style>\n",
       "<table border=\"1\" class=\"dataframe\">\n",
       "  <thead>\n",
       "    <tr style=\"text-align: right;\">\n",
       "      <th></th>\n",
       "      <th>Name</th>\n",
       "      <th>OutcomeSubtype</th>\n",
       "      <th>SexuponOutcome</th>\n",
       "      <th>AgeuponOutcome</th>\n",
       "      <th>Breed</th>\n",
       "      <th>Color</th>\n",
       "      <th>Year</th>\n",
       "      <th>Month</th>\n",
       "      <th>Day</th>\n",
       "    </tr>\n",
       "  </thead>\n",
       "  <tbody>\n",
       "    <tr>\n",
       "      <th>1</th>\n",
       "      <td>Emily</td>\n",
       "      <td>0.0</td>\n",
       "      <td>Spayed Female</td>\n",
       "      <td>1 year</td>\n",
       "      <td>Domestic Shorthair Mix</td>\n",
       "      <td>Cream Tabby</td>\n",
       "      <td>2013</td>\n",
       "      <td>10</td>\n",
       "      <td>13</td>\n",
       "    </tr>\n",
       "    <tr>\n",
       "      <th>3</th>\n",
       "      <td>NaN</td>\n",
       "      <td>2.0</td>\n",
       "      <td>Intact Male</td>\n",
       "      <td>3 weeks</td>\n",
       "      <td>Domestic Shorthair Mix</td>\n",
       "      <td>Blue Cream</td>\n",
       "      <td>2014</td>\n",
       "      <td>7</td>\n",
       "      <td>11</td>\n",
       "    </tr>\n",
       "    <tr>\n",
       "      <th>6</th>\n",
       "      <td>Jimmy</td>\n",
       "      <td>2.0</td>\n",
       "      <td>Intact Male</td>\n",
       "      <td>3 weeks</td>\n",
       "      <td>Domestic Shorthair Mix</td>\n",
       "      <td>Blue Tabby</td>\n",
       "      <td>2015</td>\n",
       "      <td>3</td>\n",
       "      <td>28</td>\n",
       "    </tr>\n",
       "    <tr>\n",
       "      <th>7</th>\n",
       "      <td>NaN</td>\n",
       "      <td>2.0</td>\n",
       "      <td>Unknown</td>\n",
       "      <td>3 weeks</td>\n",
       "      <td>Domestic Shorthair Mix</td>\n",
       "      <td>Brown Tabby</td>\n",
       "      <td>2015</td>\n",
       "      <td>4</td>\n",
       "      <td>30</td>\n",
       "    </tr>\n",
       "    <tr>\n",
       "      <th>10</th>\n",
       "      <td>NaN</td>\n",
       "      <td>4.0</td>\n",
       "      <td>Unknown</td>\n",
       "      <td>2 years</td>\n",
       "      <td>Domestic Shorthair Mix</td>\n",
       "      <td>Black</td>\n",
       "      <td>2013</td>\n",
       "      <td>12</td>\n",
       "      <td>5</td>\n",
       "    </tr>\n",
       "  </tbody>\n",
       "</table>\n",
       "</div>"
      ],
      "text/plain": [
       "     Name  OutcomeSubtype SexuponOutcome AgeuponOutcome  \\\n",
       "1   Emily             0.0  Spayed Female         1 year   \n",
       "3     NaN             2.0    Intact Male        3 weeks   \n",
       "6   Jimmy             2.0    Intact Male        3 weeks   \n",
       "7     NaN             2.0        Unknown        3 weeks   \n",
       "10    NaN             4.0        Unknown        2 years   \n",
       "\n",
       "                     Breed        Color  Year  Month  Day  \n",
       "1   Domestic Shorthair Mix  Cream Tabby  2013     10   13  \n",
       "3   Domestic Shorthair Mix   Blue Cream  2014      7   11  \n",
       "6   Domestic Shorthair Mix   Blue Tabby  2015      3   28  \n",
       "7   Domestic Shorthair Mix  Brown Tabby  2015      4   30  \n",
       "10  Domestic Shorthair Mix        Black  2013     12    5  "
      ]
     },
     "execution_count": 6,
     "metadata": {},
     "output_type": "execute_result"
    }
   ],
   "source": [
    "#Convert date time to single columns for year, month, day\n",
    "datetime = pd.to_datetime(animal_df['DateTime']).dt\n",
    "animal_df['Year'] = datetime.year\n",
    "animal_df['Month'] = datetime.month\n",
    "animal_df['Day'] = datetime.day\n",
    "animal_df.drop(['DateTime', 'AnimalType'], axis=1, inplace=True)\n",
    "animal_df.head()"
   ]
  },
  {
   "cell_type": "code",
   "execution_count": 7,
   "metadata": {},
   "outputs": [
    {
     "data": {
      "text/html": [
       "<div>\n",
       "<style scoped>\n",
       "    .dataframe tbody tr th:only-of-type {\n",
       "        vertical-align: middle;\n",
       "    }\n",
       "\n",
       "    .dataframe tbody tr th {\n",
       "        vertical-align: top;\n",
       "    }\n",
       "\n",
       "    .dataframe thead th {\n",
       "        text-align: right;\n",
       "    }\n",
       "</style>\n",
       "<table border=\"1\" class=\"dataframe\">\n",
       "  <thead>\n",
       "    <tr style=\"text-align: right;\">\n",
       "      <th></th>\n",
       "      <th>Name</th>\n",
       "      <th>OutcomeSubtype</th>\n",
       "      <th>SexuponOutcome</th>\n",
       "      <th>AgeuponOutcome</th>\n",
       "      <th>Breed</th>\n",
       "      <th>Color</th>\n",
       "      <th>Year</th>\n",
       "      <th>Month</th>\n",
       "      <th>Day</th>\n",
       "    </tr>\n",
       "  </thead>\n",
       "  <tbody>\n",
       "    <tr>\n",
       "      <th>1</th>\n",
       "      <td>1</td>\n",
       "      <td>0.0</td>\n",
       "      <td>Spayed Female</td>\n",
       "      <td>1 year</td>\n",
       "      <td>Domestic Shorthair Mix</td>\n",
       "      <td>Cream Tabby</td>\n",
       "      <td>2013</td>\n",
       "      <td>10</td>\n",
       "      <td>13</td>\n",
       "    </tr>\n",
       "    <tr>\n",
       "      <th>3</th>\n",
       "      <td>0</td>\n",
       "      <td>2.0</td>\n",
       "      <td>Intact Male</td>\n",
       "      <td>3 weeks</td>\n",
       "      <td>Domestic Shorthair Mix</td>\n",
       "      <td>Blue Cream</td>\n",
       "      <td>2014</td>\n",
       "      <td>7</td>\n",
       "      <td>11</td>\n",
       "    </tr>\n",
       "    <tr>\n",
       "      <th>6</th>\n",
       "      <td>1</td>\n",
       "      <td>2.0</td>\n",
       "      <td>Intact Male</td>\n",
       "      <td>3 weeks</td>\n",
       "      <td>Domestic Shorthair Mix</td>\n",
       "      <td>Blue Tabby</td>\n",
       "      <td>2015</td>\n",
       "      <td>3</td>\n",
       "      <td>28</td>\n",
       "    </tr>\n",
       "    <tr>\n",
       "      <th>7</th>\n",
       "      <td>0</td>\n",
       "      <td>2.0</td>\n",
       "      <td>Unknown</td>\n",
       "      <td>3 weeks</td>\n",
       "      <td>Domestic Shorthair Mix</td>\n",
       "      <td>Brown Tabby</td>\n",
       "      <td>2015</td>\n",
       "      <td>4</td>\n",
       "      <td>30</td>\n",
       "    </tr>\n",
       "    <tr>\n",
       "      <th>10</th>\n",
       "      <td>0</td>\n",
       "      <td>4.0</td>\n",
       "      <td>Unknown</td>\n",
       "      <td>2 years</td>\n",
       "      <td>Domestic Shorthair Mix</td>\n",
       "      <td>Black</td>\n",
       "      <td>2013</td>\n",
       "      <td>12</td>\n",
       "      <td>5</td>\n",
       "    </tr>\n",
       "  </tbody>\n",
       "</table>\n",
       "</div>"
      ],
      "text/plain": [
       "    Name  OutcomeSubtype SexuponOutcome AgeuponOutcome  \\\n",
       "1      1             0.0  Spayed Female         1 year   \n",
       "3      0             2.0    Intact Male        3 weeks   \n",
       "6      1             2.0    Intact Male        3 weeks   \n",
       "7      0             2.0        Unknown        3 weeks   \n",
       "10     0             4.0        Unknown        2 years   \n",
       "\n",
       "                     Breed        Color  Year  Month  Day  \n",
       "1   Domestic Shorthair Mix  Cream Tabby  2013     10   13  \n",
       "3   Domestic Shorthair Mix   Blue Cream  2014      7   11  \n",
       "6   Domestic Shorthair Mix   Blue Tabby  2015      3   28  \n",
       "7   Domestic Shorthair Mix  Brown Tabby  2015      4   30  \n",
       "10  Domestic Shorthair Mix        Black  2013     12    5  "
      ]
     },
     "execution_count": 7,
     "metadata": {},
     "output_type": "execute_result"
    }
   ],
   "source": [
    "# fill in the NaN with 0s\n",
    "animal_df['Name'] = animal_df['Name'].fillna(0)\n",
    "\n",
    "# change names to numeric values\n",
    "for names in animal_df['Name']:\n",
    "    if isinstance(names, str) and not 0:\n",
    "        animal_df['Name'].replace(names, '1', inplace=True)\n",
    "animal_df['Name'] = animal_df['Name'].astype(int)\n",
    "animal_df.dropna(inplace= True)\n",
    "animal_df.head()"
   ]
  },
  {
   "cell_type": "code",
   "execution_count": 8,
   "metadata": {},
   "outputs": [
    {
     "data": {
      "text/html": [
       "<div>\n",
       "<style scoped>\n",
       "    .dataframe tbody tr th:only-of-type {\n",
       "        vertical-align: middle;\n",
       "    }\n",
       "\n",
       "    .dataframe tbody tr th {\n",
       "        vertical-align: top;\n",
       "    }\n",
       "\n",
       "    .dataframe thead th {\n",
       "        text-align: right;\n",
       "    }\n",
       "</style>\n",
       "<table border=\"1\" class=\"dataframe\">\n",
       "  <thead>\n",
       "    <tr style=\"text-align: right;\">\n",
       "      <th></th>\n",
       "      <th>Name</th>\n",
       "      <th>OutcomeSubtype</th>\n",
       "      <th>SexuponOutcome</th>\n",
       "      <th>AgeuponOutcome</th>\n",
       "      <th>Breed</th>\n",
       "      <th>Color</th>\n",
       "      <th>Year</th>\n",
       "      <th>Month</th>\n",
       "      <th>Day</th>\n",
       "    </tr>\n",
       "  </thead>\n",
       "  <tbody>\n",
       "    <tr>\n",
       "      <th>1</th>\n",
       "      <td>1</td>\n",
       "      <td>0.0</td>\n",
       "      <td>Spayed Female</td>\n",
       "      <td>52.0</td>\n",
       "      <td>Domestic Shorthair Mix</td>\n",
       "      <td>Cream Tabby</td>\n",
       "      <td>2013</td>\n",
       "      <td>10</td>\n",
       "      <td>13</td>\n",
       "    </tr>\n",
       "    <tr>\n",
       "      <th>3</th>\n",
       "      <td>0</td>\n",
       "      <td>2.0</td>\n",
       "      <td>Intact Male</td>\n",
       "      <td>3.0</td>\n",
       "      <td>Domestic Shorthair Mix</td>\n",
       "      <td>Blue Cream</td>\n",
       "      <td>2014</td>\n",
       "      <td>7</td>\n",
       "      <td>11</td>\n",
       "    </tr>\n",
       "    <tr>\n",
       "      <th>6</th>\n",
       "      <td>1</td>\n",
       "      <td>2.0</td>\n",
       "      <td>Intact Male</td>\n",
       "      <td>3.0</td>\n",
       "      <td>Domestic Shorthair Mix</td>\n",
       "      <td>Blue Tabby</td>\n",
       "      <td>2015</td>\n",
       "      <td>3</td>\n",
       "      <td>28</td>\n",
       "    </tr>\n",
       "    <tr>\n",
       "      <th>7</th>\n",
       "      <td>0</td>\n",
       "      <td>2.0</td>\n",
       "      <td>Unknown</td>\n",
       "      <td>3.0</td>\n",
       "      <td>Domestic Shorthair Mix</td>\n",
       "      <td>Brown Tabby</td>\n",
       "      <td>2015</td>\n",
       "      <td>4</td>\n",
       "      <td>30</td>\n",
       "    </tr>\n",
       "    <tr>\n",
       "      <th>10</th>\n",
       "      <td>0</td>\n",
       "      <td>4.0</td>\n",
       "      <td>Unknown</td>\n",
       "      <td>104.0</td>\n",
       "      <td>Domestic Shorthair Mix</td>\n",
       "      <td>Black</td>\n",
       "      <td>2013</td>\n",
       "      <td>12</td>\n",
       "      <td>5</td>\n",
       "    </tr>\n",
       "  </tbody>\n",
       "</table>\n",
       "</div>"
      ],
      "text/plain": [
       "    Name  OutcomeSubtype SexuponOutcome  AgeuponOutcome  \\\n",
       "1      1             0.0  Spayed Female            52.0   \n",
       "3      0             2.0    Intact Male             3.0   \n",
       "6      1             2.0    Intact Male             3.0   \n",
       "7      0             2.0        Unknown             3.0   \n",
       "10     0             4.0        Unknown           104.0   \n",
       "\n",
       "                     Breed        Color  Year  Month  Day  \n",
       "1   Domestic Shorthair Mix  Cream Tabby  2013     10   13  \n",
       "3   Domestic Shorthair Mix   Blue Cream  2014      7   11  \n",
       "6   Domestic Shorthair Mix   Blue Tabby  2015      3   28  \n",
       "7   Domestic Shorthair Mix  Brown Tabby  2015      4   30  \n",
       "10  Domestic Shorthair Mix        Black  2013     12    5  "
      ]
     },
     "execution_count": 8,
     "metadata": {},
     "output_type": "execute_result"
    }
   ],
   "source": [
    "#Convert age to weeks\n",
    "def change_year_month_to_weeks(x):\n",
    "    count, parse_age = x.split(\" \")\n",
    "    if parse_age == 'month':\n",
    "        return int(4)\n",
    "    elif parse_age == 'months':\n",
    "        return 4 * int(count)\n",
    "    elif parse_age == 'year':\n",
    "        return int(52)\n",
    "    elif parse_age == 'years':\n",
    "        return 52 * int(count)\n",
    "    elif parse_age == 'week':\n",
    "        return int(count)\n",
    "    elif parse_age == 'weeks':\n",
    "        return int(count)\n",
    "    \n",
    "animal_df['AgeuponOutcome'] = animal_df['AgeuponOutcome'].apply(change_year_month_to_weeks).astype(np.float32)\n",
    "\n",
    "animal_df.head()"
   ]
  },
  {
   "cell_type": "code",
   "execution_count": 9,
   "metadata": {},
   "outputs": [
    {
     "data": {
      "text/plain": [
       "(7484, 188)"
      ]
     },
     "execution_count": 9,
     "metadata": {},
     "output_type": "execute_result"
    }
   ],
   "source": [
    "#ONE HOT ENCODE categorical data\n",
    "to_convert = ['SexuponOutcome', 'Breed', 'Color']\n",
    "\n",
    "for col in to_convert:\n",
    "    dummies = pd.get_dummies(animal_df[col])\n",
    "    animal_df[dummies.columns] = dummies\n",
    "    \n",
    "animal_df.shape"
   ]
  },
  {
   "cell_type": "code",
   "execution_count": 10,
   "metadata": {},
   "outputs": [
    {
     "name": "stdout",
     "output_type": "stream",
     "text": [
      "Name                              0\n",
      "OutcomeSubtype                    0\n",
      "SexuponOutcome                    0\n",
      "AgeuponOutcome                    0\n",
      "Breed                             0\n",
      "Color                             0\n",
      "Year                              0\n",
      "Month                             0\n",
      "Day                               0\n",
      "Intact Female                     0\n",
      "Intact Male                       0\n",
      "Neutered Male                     0\n",
      "Spayed Female                     0\n",
      "Unknown                           0\n",
      "American Shorthair Mix            0\n",
      "Angora Mix                        0\n",
      "Balinese Mix                      0\n",
      "Bengal Mix                        0\n",
      "Bombay Mix                        0\n",
      "British Shorthair Mix             0\n",
      "Cymric Mix                        0\n",
      "Devon Rex                         0\n",
      "Domestic Longhair                 0\n",
      "Domestic Longhair Mix             0\n",
      "Domestic Longhair/Persian         0\n",
      "Domestic Longhair/Rex             0\n",
      "Domestic Longhair/Russian Blue    0\n",
      "Domestic Medium Hair              0\n",
      "Domestic Medium Hair Mix          0\n",
      "Domestic Medium Hair/Siamese      0\n",
      "                                 ..\n",
      "Torbie/Brown                      0\n",
      "Torbie/White                      0\n",
      "Tortie                            0\n",
      "Tortie Point                      0\n",
      "Tortie Point/Lynx Point           0\n",
      "Tortie/Black                      0\n",
      "Tortie/Black Smoke                0\n",
      "Tortie/Blue Cream                 0\n",
      "Tortie/Brown                      0\n",
      "Tortie/Calico                     0\n",
      "Tortie/Orange                     0\n",
      "Tortie/White                      0\n",
      "Tricolor                          0\n",
      "Tricolor/Calico                   0\n",
      "White                             0\n",
      "White/Black                       0\n",
      "White/Black Tabby                 0\n",
      "White/Blue                        0\n",
      "White/Blue Tabby                  0\n",
      "White/Brown                       0\n",
      "White/Brown Tabby                 0\n",
      "White/Calico                      0\n",
      "White/Chocolate Point             0\n",
      "White/Cream                       0\n",
      "White/Cream Tabby                 0\n",
      "White/Gray                        0\n",
      "White/Lynx Point                  0\n",
      "White/Orange                      0\n",
      "White/Orange Tabby                0\n",
      "White/White                       0\n",
      "Length: 188, dtype: int64\n"
     ]
    }
   ],
   "source": [
    "animal_df.dropna(inplace = True)\n",
    "\n",
    "#show any null values left\n",
    "print(animal_df.isnull().sum())"
   ]
  },
  {
   "cell_type": "code",
   "execution_count": 12,
   "metadata": {},
   "outputs": [
    {
     "data": {
      "text/plain": [
       "(7168,)"
      ]
     },
     "execution_count": 12,
     "metadata": {},
     "output_type": "execute_result"
    }
   ],
   "source": [
    "#get the label to predict on\n",
    "y = animal_df['OutcomeSubtype']\n",
    "\n",
    "y.shape"
   ]
  },
  {
   "cell_type": "code",
   "execution_count": 14,
   "metadata": {},
   "outputs": [
    {
     "data": {
      "text/html": [
       "<div>\n",
       "<style scoped>\n",
       "    .dataframe tbody tr th:only-of-type {\n",
       "        vertical-align: middle;\n",
       "    }\n",
       "\n",
       "    .dataframe tbody tr th {\n",
       "        vertical-align: top;\n",
       "    }\n",
       "\n",
       "    .dataframe thead th {\n",
       "        text-align: right;\n",
       "    }\n",
       "</style>\n",
       "<table border=\"1\" class=\"dataframe\">\n",
       "  <thead>\n",
       "    <tr style=\"text-align: right;\">\n",
       "      <th></th>\n",
       "      <th>Name</th>\n",
       "      <th>AgeuponOutcome</th>\n",
       "      <th>Year</th>\n",
       "      <th>Month</th>\n",
       "      <th>Day</th>\n",
       "      <th>Intact Female</th>\n",
       "      <th>Intact Male</th>\n",
       "      <th>Neutered Male</th>\n",
       "      <th>Spayed Female</th>\n",
       "      <th>Unknown</th>\n",
       "      <th>...</th>\n",
       "      <th>White/Brown Tabby</th>\n",
       "      <th>White/Calico</th>\n",
       "      <th>White/Chocolate Point</th>\n",
       "      <th>White/Cream</th>\n",
       "      <th>White/Cream Tabby</th>\n",
       "      <th>White/Gray</th>\n",
       "      <th>White/Lynx Point</th>\n",
       "      <th>White/Orange</th>\n",
       "      <th>White/Orange Tabby</th>\n",
       "      <th>White/White</th>\n",
       "    </tr>\n",
       "  </thead>\n",
       "  <tbody>\n",
       "    <tr>\n",
       "      <th>1</th>\n",
       "      <td>1</td>\n",
       "      <td>52.0</td>\n",
       "      <td>2013</td>\n",
       "      <td>10</td>\n",
       "      <td>13</td>\n",
       "      <td>0</td>\n",
       "      <td>0</td>\n",
       "      <td>0</td>\n",
       "      <td>1</td>\n",
       "      <td>0</td>\n",
       "      <td>...</td>\n",
       "      <td>0</td>\n",
       "      <td>0</td>\n",
       "      <td>0</td>\n",
       "      <td>0</td>\n",
       "      <td>0</td>\n",
       "      <td>0</td>\n",
       "      <td>0</td>\n",
       "      <td>0</td>\n",
       "      <td>0</td>\n",
       "      <td>0</td>\n",
       "    </tr>\n",
       "    <tr>\n",
       "      <th>3</th>\n",
       "      <td>0</td>\n",
       "      <td>3.0</td>\n",
       "      <td>2014</td>\n",
       "      <td>7</td>\n",
       "      <td>11</td>\n",
       "      <td>0</td>\n",
       "      <td>1</td>\n",
       "      <td>0</td>\n",
       "      <td>0</td>\n",
       "      <td>0</td>\n",
       "      <td>...</td>\n",
       "      <td>0</td>\n",
       "      <td>0</td>\n",
       "      <td>0</td>\n",
       "      <td>0</td>\n",
       "      <td>0</td>\n",
       "      <td>0</td>\n",
       "      <td>0</td>\n",
       "      <td>0</td>\n",
       "      <td>0</td>\n",
       "      <td>0</td>\n",
       "    </tr>\n",
       "    <tr>\n",
       "      <th>6</th>\n",
       "      <td>1</td>\n",
       "      <td>3.0</td>\n",
       "      <td>2015</td>\n",
       "      <td>3</td>\n",
       "      <td>28</td>\n",
       "      <td>0</td>\n",
       "      <td>1</td>\n",
       "      <td>0</td>\n",
       "      <td>0</td>\n",
       "      <td>0</td>\n",
       "      <td>...</td>\n",
       "      <td>0</td>\n",
       "      <td>0</td>\n",
       "      <td>0</td>\n",
       "      <td>0</td>\n",
       "      <td>0</td>\n",
       "      <td>0</td>\n",
       "      <td>0</td>\n",
       "      <td>0</td>\n",
       "      <td>0</td>\n",
       "      <td>0</td>\n",
       "    </tr>\n",
       "    <tr>\n",
       "      <th>7</th>\n",
       "      <td>0</td>\n",
       "      <td>3.0</td>\n",
       "      <td>2015</td>\n",
       "      <td>4</td>\n",
       "      <td>30</td>\n",
       "      <td>0</td>\n",
       "      <td>0</td>\n",
       "      <td>0</td>\n",
       "      <td>0</td>\n",
       "      <td>1</td>\n",
       "      <td>...</td>\n",
       "      <td>0</td>\n",
       "      <td>0</td>\n",
       "      <td>0</td>\n",
       "      <td>0</td>\n",
       "      <td>0</td>\n",
       "      <td>0</td>\n",
       "      <td>0</td>\n",
       "      <td>0</td>\n",
       "      <td>0</td>\n",
       "      <td>0</td>\n",
       "    </tr>\n",
       "    <tr>\n",
       "      <th>10</th>\n",
       "      <td>0</td>\n",
       "      <td>104.0</td>\n",
       "      <td>2013</td>\n",
       "      <td>12</td>\n",
       "      <td>5</td>\n",
       "      <td>0</td>\n",
       "      <td>0</td>\n",
       "      <td>0</td>\n",
       "      <td>0</td>\n",
       "      <td>1</td>\n",
       "      <td>...</td>\n",
       "      <td>0</td>\n",
       "      <td>0</td>\n",
       "      <td>0</td>\n",
       "      <td>0</td>\n",
       "      <td>0</td>\n",
       "      <td>0</td>\n",
       "      <td>0</td>\n",
       "      <td>0</td>\n",
       "      <td>0</td>\n",
       "      <td>0</td>\n",
       "    </tr>\n",
       "  </tbody>\n",
       "</table>\n",
       "<p>5 rows × 184 columns</p>\n",
       "</div>"
      ],
      "text/plain": [
       "    Name  AgeuponOutcome  Year  Month  Day  Intact Female  Intact Male  \\\n",
       "1      1            52.0  2013     10   13              0            0   \n",
       "3      0             3.0  2014      7   11              0            1   \n",
       "6      1             3.0  2015      3   28              0            1   \n",
       "7      0             3.0  2015      4   30              0            0   \n",
       "10     0           104.0  2013     12    5              0            0   \n",
       "\n",
       "    Neutered Male  Spayed Female  Unknown     ...       White/Brown Tabby  \\\n",
       "1               0              1        0     ...                       0   \n",
       "3               0              0        0     ...                       0   \n",
       "6               0              0        0     ...                       0   \n",
       "7               0              0        1     ...                       0   \n",
       "10              0              0        1     ...                       0   \n",
       "\n",
       "    White/Calico  White/Chocolate Point  White/Cream  White/Cream Tabby  \\\n",
       "1              0                      0            0                  0   \n",
       "3              0                      0            0                  0   \n",
       "6              0                      0            0                  0   \n",
       "7              0                      0            0                  0   \n",
       "10             0                      0            0                  0   \n",
       "\n",
       "    White/Gray  White/Lynx Point  White/Orange  White/Orange Tabby  \\\n",
       "1            0                 0             0                   0   \n",
       "3            0                 0             0                   0   \n",
       "6            0                 0             0                   0   \n",
       "7            0                 0             0                   0   \n",
       "10           0                 0             0                   0   \n",
       "\n",
       "    White/White  \n",
       "1             0  \n",
       "3             0  \n",
       "6             0  \n",
       "7             0  \n",
       "10            0  \n",
       "\n",
       "[5 rows x 184 columns]"
      ]
     },
     "execution_count": 14,
     "metadata": {},
     "output_type": "execute_result"
    }
   ],
   "source": [
    "# Dropping Non-numerical columns and our label column:\n",
    "animal_df.drop(['SexuponOutcome','OutcomeSubtype','Breed','Color'], axis=1, inplace=True)\n",
    "\n",
    "X = animal_df\n",
    "\n",
    "X.head()"
   ]
  },
  {
   "cell_type": "code",
   "execution_count": 15,
   "metadata": {},
   "outputs": [
    {
     "name": "stdout",
     "output_type": "stream",
     "text": [
      "X_Train size: (5734, 184)\n",
      "y_train size: (5734,)\n",
      "X_Test size: (1434, 184)\n",
      "y_test size: (1434,)\n"
     ]
    }
   ],
   "source": [
    "# Splitting the dataset into testing and training:\n",
    "X_train, X_test, y_train, y_test = train_test_split(X, y, test_size=0.20, random_state=2)\n",
    "\n",
    "print(\"X_Train size: \" + str(X_train.shape))\n",
    "print(\"y_train size: \" + str(y_train.shape))\n",
    "print(\"X_Test size: \" + str(X_test.shape))\n",
    "print(\"y_test size: \" + str(y_test.shape))"
   ]
  },
  {
   "cell_type": "code",
   "execution_count": 16,
   "metadata": {},
   "outputs": [
    {
     "name": "stdout",
     "output_type": "stream",
     "text": [
      "Random Forest accuracy: 0.7510460251046025\n"
     ]
    }
   ],
   "source": [
    "#Instantiated Random Forest Classifier\n",
    "my_RandomForest = RandomForestClassifier(n_estimators = 19, bootstrap = True, random_state=2)\n",
    "# Training on the training set:\n",
    "my_RandomForest.fit(X_train, y_train)\n",
    "# Testing on the testing set:\n",
    "y_predict_rf = my_RandomForest.predict(X_test)\n",
    "\n",
    "rf_accuracy = accuracy_score(y_test, y_predict_rf)\n",
    "\n",
    "print(\"Random Forest accuracy: \" + str(rf_accuracy))"
   ]
  },
  {
   "cell_type": "code",
   "execution_count": 17,
   "metadata": {},
   "outputs": [
    {
     "name": "stdout",
     "output_type": "stream",
     "text": [
      "Perdictions from Random Forest: \n",
      "[4. 2. 4. ... 3. 0. 2.]\n",
      "As a percent probablity: \n"
     ]
    },
    {
     "data": {
      "text/plain": [
       "array([4., 2., 4., 2., 2.], dtype=float32)"
      ]
     },
     "metadata": {},
     "output_type": "display_data"
    },
    {
     "ename": "ValueError",
     "evalue": "y_true and y_pred contain different number of classes 9, 10. Please provide the true labels explicitly through the labels argument. Classes found in y_true: [0. 1. 2. 3. 4. 6. 7. 8. 9.]",
     "output_type": "error",
     "traceback": [
      "\u001b[1;31m---------------------------------------------------------------------------\u001b[0m",
      "\u001b[1;31mValueError\u001b[0m                                Traceback (most recent call last)",
      "\u001b[1;32m<ipython-input-17-73ead33ed0b7>\u001b[0m in \u001b[0;36m<module>\u001b[1;34m()\u001b[0m\n\u001b[0;32m     12\u001b[0m \u001b[0mdisplay\u001b[0m\u001b[1;33m(\u001b[0m\u001b[0my_predict_rf\u001b[0m\u001b[1;33m[\u001b[0m\u001b[1;36m0\u001b[0m\u001b[1;33m:\u001b[0m\u001b[1;36m5\u001b[0m\u001b[1;33m]\u001b[0m\u001b[1;33m)\u001b[0m\u001b[1;33m\u001b[0m\u001b[0m\n\u001b[0;32m     13\u001b[0m \u001b[1;33m\u001b[0m\u001b[0m\n\u001b[1;32m---> 14\u001b[1;33m \u001b[0mlogloss_score\u001b[0m \u001b[1;33m=\u001b[0m \u001b[0mmetrics\u001b[0m\u001b[1;33m.\u001b[0m\u001b[0mlog_loss\u001b[0m\u001b[1;33m(\u001b[0m\u001b[0my_test\u001b[0m\u001b[1;33m,\u001b[0m \u001b[0mget_prob\u001b[0m\u001b[1;33m)\u001b[0m\u001b[1;33m\u001b[0m\u001b[0m\n\u001b[0m\u001b[0;32m     15\u001b[0m \u001b[1;33m\u001b[0m\u001b[0m\n\u001b[0;32m     16\u001b[0m \u001b[1;31m# print(\"Y_test: \" + str(y_test.shape))\u001b[0m\u001b[1;33m\u001b[0m\u001b[1;33m\u001b[0m\u001b[0m\n",
      "\u001b[1;32mC:\\ProgramData\\Anaconda3\\lib\\site-packages\\sklearn\\metrics\\classification.py\u001b[0m in \u001b[0;36mlog_loss\u001b[1;34m(y_true, y_pred, eps, normalize, sample_weight, labels)\u001b[0m\n\u001b[0;32m   1684\u001b[0m                              \"y_true: {2}\".format(transformed_labels.shape[1],\n\u001b[0;32m   1685\u001b[0m                                                   \u001b[0my_pred\u001b[0m\u001b[1;33m.\u001b[0m\u001b[0mshape\u001b[0m\u001b[1;33m[\u001b[0m\u001b[1;36m1\u001b[0m\u001b[1;33m]\u001b[0m\u001b[1;33m,\u001b[0m\u001b[1;33m\u001b[0m\u001b[0m\n\u001b[1;32m-> 1686\u001b[1;33m                                                   lb.classes_))\n\u001b[0m\u001b[0;32m   1687\u001b[0m         \u001b[1;32melse\u001b[0m\u001b[1;33m:\u001b[0m\u001b[1;33m\u001b[0m\u001b[0m\n\u001b[0;32m   1688\u001b[0m             raise ValueError('The number of classes in labels is different '\n",
      "\u001b[1;31mValueError\u001b[0m: y_true and y_pred contain different number of classes 9, 10. Please provide the true labels explicitly through the labels argument. Classes found in y_true: [0. 1. 2. 3. 4. 6. 7. 8. 9.]"
     ]
    }
   ],
   "source": [
    "# Dont display Numpy in scientific notation\n",
    "np.set_printoptions(precision=4)\n",
    "np.set_printoptions(suppress=True)\n",
    "\n",
    "# Numpy perdictions:\n",
    "\n",
    "get_prob = my_RandomForest.predict_proba(X_test)\n",
    "print(\"Perdictions from Random Forest: \")\n",
    "print(y_predict_rf)\n",
    "\n",
    "print(\"As a percent probablity: \")\n",
    "display(y_predict_rf[0:5])\n",
    "\n",
    "logloss_score = metrics.log_loss(y_test, get_prob)\n",
    "\n",
    "# print(\"Y_test: \" + str(y_test.shape))\n",
    "\n",
    "# print(\"Y_predict: \" + str(y_predict_rf.shape))\n",
    "\n",
    "print(\"Log Loss score: \" + str(logloss_score))"
   ]
  },
  {
   "cell_type": "code",
   "execution_count": 18,
   "metadata": {},
   "outputs": [
    {
     "data": {
      "text/plain": [
       "Text(0.5,1,'log(x)')"
      ]
     },
     "execution_count": 18,
     "metadata": {},
     "output_type": "execute_result"
    },
    {
     "data": {
      "image/png": "[encoded data removed]",
      "text/plain": [
       "<matplotlib.figure.Figure at 0x24c57547fd0>"
      ]
     },
     "metadata": {},
     "output_type": "display_data"
    }
   ],
   "source": [
    "t = arange(1e-5, 5.0, 0.00001)\n",
    "\n",
    "graph = figure(1, figsize=(12,10))\n",
    "\n",
    "axis = graph.add_subplot(211)\n",
    "\n",
    "axis.plot(t, np.log(t))\n",
    "\n",
    "axis.grid(True)\n",
    "\n",
    "axis.set_ylim(-8,1.5)\n",
    "axis.set_xlim(-0.1,2)\n",
    "axis.set_xlabel('x')\n",
    "axis.set_ylabel('y')\n",
    "axis.set_title('log(x)')"
   ]
  },
  {
   "cell_type": "code",
   "execution_count": 19,
   "metadata": {},
   "outputs": [
    {
     "name": "stdout",
     "output_type": "stream",
     "text": [
      "KNN Accuracy for  1 neighbors 0.6596931659693166\n",
      "KNN Accuracy for  2 neighbors 0.6234309623430963\n",
      "KNN Accuracy for  3 neighbors 0.6541143654114365\n",
      "KNN Accuracy for  4 neighbors 0.6562064156206415\n",
      "KNN Accuracy for  5 neighbors 0.6659693165969317\n",
      "KNN Accuracy for  6 neighbors 0.6582984658298466\n",
      "KNN Accuracy for  7 neighbors 0.6527196652719666\n",
      "KNN Accuracy for  8 neighbors 0.6506276150627615\n",
      "KNN Accuracy for  9 neighbors 0.6603905160390516\n",
      "KNN Accuracy for  10 neighbors 0.6499302649930265\n"
     ]
    }
   ],
   "source": [
    "# Testing out KNN Classifier on Dog Data up 10 neighbors:\n",
    "for i in range(1, 11):\n",
    "    knn_animal = KNeighborsClassifier(n_neighbors = i)\n",
    "    knn_animal.fit(X_train, y_train)\n",
    "    y_predict_knn = knn_animal.predict(X_test)\n",
    "\n",
    "    knn_accuracy = accuracy_score(y_test, y_predict_knn)\n",
    "\n",
    "    print(\"KNN Accuracy for  \" + str(i) + \" neighbors \" + str(knn_accuracy))"
   ]
  },
  {
   "cell_type": "code",
   "execution_count": 20,
   "metadata": {},
   "outputs": [
    {
     "name": "stdout",
     "output_type": "stream",
     "text": [
      "Decision Tree Accuracy: 0.694560669456067\n"
     ]
    }
   ],
   "source": [
    "decision_tree_animal = DecisionTreeClassifier()\n",
    "decision_tree_animal.fit(X_train, y_train)\n",
    "y_predict_decision_tree = decision_tree_animal.predict(X_test)\n",
    "\n",
    "dt_accuracy = accuracy_score(y_test, y_predict_decision_tree)\n",
    "\n",
    "print(\"Decision Tree Accuracy: \" + str(dt_accuracy))"
   ]
  },
  {
   "cell_type": "code",
   "execution_count": 21,
   "metadata": {},
   "outputs": [
    {
     "name": "stdout",
     "output_type": "stream",
     "text": [
      "AdaBoost Classifier Accuracy: 0.7092050209205021\n"
     ]
    }
   ],
   "source": [
    "my_AdaBoost = AdaBoostClassifier(n_estimators = 19,random_state=2)\n",
    "my_AdaBoost.fit(X_train, y_train)\n",
    "y_predict_ada = my_AdaBoost.predict(X_test)\n",
    "score_ada = accuracy_score(y_test, y_predict_ada)\n",
    "\n",
    "# calculating the final accuracy of AdaBoost Classifier\n",
    "print(\"AdaBoost Classifier Accuracy: \" + str(score_ada))"
   ]
  },
  {
   "cell_type": "code",
   "execution_count": 22,
   "metadata": {},
   "outputs": [
    {
     "name": "stdout",
     "output_type": "stream",
     "text": [
      "ANN Accuracy: 0.7552301255230126\n"
     ]
    }
   ],
   "source": [
    "my_ANN = MLPClassifier(hidden_layer_sizes=(100,), activation= 'logistic', \n",
    "                       solver='adam', alpha=1e-5, random_state=1, \n",
    "                       learning_rate_init = 0.002)\n",
    "\n",
    "# Training on Training set\n",
    "my_ANN.fit(X_train, y_train)\n",
    "\n",
    "# Testing on the testing set:\n",
    "y_predict_ann = my_ANN.predict(X_test)\n",
    "#print(y_predict_ann)\n",
    "# We can now compare the \"predicted labels\" for the Testing Set with its \"actual labels\" to evaluate the accuracy \n",
    "score_ann = accuracy_score(y_test, y_predict_ann)\n",
    "\n",
    "print(\"ANN Accuracy: \" + str(score_ann))"
   ]
  },
  {
   "cell_type": "code",
   "execution_count": 23,
   "metadata": {},
   "outputs": [
    {
     "name": "stdout",
     "output_type": "stream",
     "text": [
      "Accuracy of Non-Linear SVM: 0.6324965132496513\n"
     ]
    }
   ],
   "source": [
    "# Instantiating Non_Linear SVM\n",
    "my_nonLinear_SVM = SVC(C=1, kernel='rbf', gamma=0.0005, random_state=1, probability=True)\n",
    "\n",
    "my_nonLinear_SVM.fit (X_train, y_train)\n",
    "\n",
    "# Testing on the testing set:\n",
    "y_predict_nlsvm = my_nonLinear_SVM.predict(X_test)\n",
    "\n",
    "# We can now compare the \"predicted labels\" for the Testing Set with its \"actual labels\" to evaluate the accuracy \n",
    "score_nlsvm = accuracy_score(y_test, y_predict_nlsvm)\n",
    "\n",
    "print(\"Accuracy of Non-Linear SVM: \" + str(score_nlsvm))"
   ]
  },
  {
   "cell_type": "markdown",
   "metadata": {
    "collapsed": true
   },
   "source": [
    "# Using PCA on Cat Data:"
   ]
  },
  {
   "cell_type": "code",
   "execution_count": 24,
   "metadata": {},
   "outputs": [
    {
     "data": {
      "text/html": [
       "<div>\n",
       "<style scoped>\n",
       "    .dataframe tbody tr th:only-of-type {\n",
       "        vertical-align: middle;\n",
       "    }\n",
       "\n",
       "    .dataframe tbody tr th {\n",
       "        vertical-align: top;\n",
       "    }\n",
       "\n",
       "    .dataframe thead th {\n",
       "        text-align: right;\n",
       "    }\n",
       "</style>\n",
       "<table border=\"1\" class=\"dataframe\">\n",
       "  <thead>\n",
       "    <tr style=\"text-align: right;\">\n",
       "      <th></th>\n",
       "      <th>0</th>\n",
       "      <th>1</th>\n",
       "      <th>2</th>\n",
       "      <th>3</th>\n",
       "      <th>4</th>\n",
       "      <th>5</th>\n",
       "      <th>6</th>\n",
       "      <th>7</th>\n",
       "      <th>8</th>\n",
       "      <th>9</th>\n",
       "      <th>...</th>\n",
       "      <th>40</th>\n",
       "      <th>41</th>\n",
       "      <th>42</th>\n",
       "      <th>43</th>\n",
       "      <th>44</th>\n",
       "      <th>45</th>\n",
       "      <th>46</th>\n",
       "      <th>47</th>\n",
       "      <th>48</th>\n",
       "      <th>49</th>\n",
       "    </tr>\n",
       "  </thead>\n",
       "  <tbody>\n",
       "    <tr>\n",
       "      <th>0</th>\n",
       "      <td>-13.673126</td>\n",
       "      <td>-2.862924</td>\n",
       "      <td>-2.891927</td>\n",
       "      <td>1.057730</td>\n",
       "      <td>-0.897734</td>\n",
       "      <td>-0.056986</td>\n",
       "      <td>-0.398675</td>\n",
       "      <td>0.649493</td>\n",
       "      <td>0.206347</td>\n",
       "      <td>-0.033484</td>\n",
       "      <td>...</td>\n",
       "      <td>-0.001568</td>\n",
       "      <td>-0.014200</td>\n",
       "      <td>-0.002756</td>\n",
       "      <td>-0.007418</td>\n",
       "      <td>0.008742</td>\n",
       "      <td>0.013271</td>\n",
       "      <td>0.007329</td>\n",
       "      <td>0.005371</td>\n",
       "      <td>-0.008680</td>\n",
       "      <td>-0.001175</td>\n",
       "    </tr>\n",
       "    <tr>\n",
       "      <th>1</th>\n",
       "      <td>-62.671047</td>\n",
       "      <td>-4.833914</td>\n",
       "      <td>0.277023</td>\n",
       "      <td>0.492999</td>\n",
       "      <td>0.453909</td>\n",
       "      <td>-0.719995</td>\n",
       "      <td>-0.022870</td>\n",
       "      <td>0.105194</td>\n",
       "      <td>-0.216384</td>\n",
       "      <td>-0.030421</td>\n",
       "      <td>...</td>\n",
       "      <td>0.016017</td>\n",
       "      <td>0.070481</td>\n",
       "      <td>-0.005007</td>\n",
       "      <td>0.043540</td>\n",
       "      <td>0.000884</td>\n",
       "      <td>-0.043071</td>\n",
       "      <td>-0.023093</td>\n",
       "      <td>0.019133</td>\n",
       "      <td>0.013287</td>\n",
       "      <td>0.027548</td>\n",
       "    </tr>\n",
       "    <tr>\n",
       "      <th>2</th>\n",
       "      <td>-62.658900</td>\n",
       "      <td>12.179156</td>\n",
       "      <td>4.260138</td>\n",
       "      <td>-0.274344</td>\n",
       "      <td>-0.310313</td>\n",
       "      <td>-0.647408</td>\n",
       "      <td>-0.083891</td>\n",
       "      <td>0.106214</td>\n",
       "      <td>-0.678618</td>\n",
       "      <td>-0.091818</td>\n",
       "      <td>...</td>\n",
       "      <td>-0.000712</td>\n",
       "      <td>-0.000855</td>\n",
       "      <td>0.009432</td>\n",
       "      <td>0.004645</td>\n",
       "      <td>-0.003098</td>\n",
       "      <td>-0.003870</td>\n",
       "      <td>0.000408</td>\n",
       "      <td>-0.001924</td>\n",
       "      <td>0.007403</td>\n",
       "      <td>-0.002164</td>\n",
       "    </tr>\n",
       "    <tr>\n",
       "      <th>3</th>\n",
       "      <td>-62.659967</td>\n",
       "      <td>14.176944</td>\n",
       "      <td>3.289686</td>\n",
       "      <td>-0.440563</td>\n",
       "      <td>0.394368</td>\n",
       "      <td>-0.045439</td>\n",
       "      <td>-0.302405</td>\n",
       "      <td>-0.027555</td>\n",
       "      <td>0.818685</td>\n",
       "      <td>0.754884</td>\n",
       "      <td>...</td>\n",
       "      <td>0.003627</td>\n",
       "      <td>0.002762</td>\n",
       "      <td>-0.002126</td>\n",
       "      <td>-0.006041</td>\n",
       "      <td>-0.002368</td>\n",
       "      <td>-0.003161</td>\n",
       "      <td>0.001166</td>\n",
       "      <td>-0.000938</td>\n",
       "      <td>0.007824</td>\n",
       "      <td>-0.000574</td>\n",
       "    </tr>\n",
       "    <tr>\n",
       "      <th>4</th>\n",
       "      <td>38.319890</td>\n",
       "      <td>-10.887780</td>\n",
       "      <td>-4.890835</td>\n",
       "      <td>0.956999</td>\n",
       "      <td>0.483123</td>\n",
       "      <td>-0.201309</td>\n",
       "      <td>-0.344210</td>\n",
       "      <td>-0.092088</td>\n",
       "      <td>1.107503</td>\n",
       "      <td>-0.535213</td>\n",
       "      <td>...</td>\n",
       "      <td>-0.003974</td>\n",
       "      <td>-0.005896</td>\n",
       "      <td>0.001127</td>\n",
       "      <td>-0.008189</td>\n",
       "      <td>-0.000541</td>\n",
       "      <td>0.002620</td>\n",
       "      <td>-0.000061</td>\n",
       "      <td>-0.001216</td>\n",
       "      <td>-0.004299</td>\n",
       "      <td>0.002588</td>\n",
       "    </tr>\n",
       "  </tbody>\n",
       "</table>\n",
       "<p>5 rows × 50 columns</p>\n",
       "</div>"
      ],
      "text/plain": [
       "          0          1         2         3         4         5         6   \\\n",
       "0 -13.673126  -2.862924 -2.891927  1.057730 -0.897734 -0.056986 -0.398675   \n",
       "1 -62.671047  -4.833914  0.277023  0.492999  0.453909 -0.719995 -0.022870   \n",
       "2 -62.658900  12.179156  4.260138 -0.274344 -0.310313 -0.647408 -0.083891   \n",
       "3 -62.659967  14.176944  3.289686 -0.440563  0.394368 -0.045439 -0.302405   \n",
       "4  38.319890 -10.887780 -4.890835  0.956999  0.483123 -0.201309 -0.344210   \n",
       "\n",
       "         7         8         9     ...           40        41        42  \\\n",
       "0  0.649493  0.206347 -0.033484    ...    -0.001568 -0.014200 -0.002756   \n",
       "1  0.105194 -0.216384 -0.030421    ...     0.016017  0.070481 -0.005007   \n",
       "2  0.106214 -0.678618 -0.091818    ...    -0.000712 -0.000855  0.009432   \n",
       "3 -0.027555  0.818685  0.754884    ...     0.003627  0.002762 -0.002126   \n",
       "4 -0.092088  1.107503 -0.535213    ...    -0.003974 -0.005896  0.001127   \n",
       "\n",
       "         43        44        45        46        47        48        49  \n",
       "0 -0.007418  0.008742  0.013271  0.007329  0.005371 -0.008680 -0.001175  \n",
       "1  0.043540  0.000884 -0.043071 -0.023093  0.019133  0.013287  0.027548  \n",
       "2  0.004645 -0.003098 -0.003870  0.000408 -0.001924  0.007403 -0.002164  \n",
       "3 -0.006041 -0.002368 -0.003161  0.001166 -0.000938  0.007824 -0.000574  \n",
       "4 -0.008189 -0.000541  0.002620 -0.000061 -0.001216 -0.004299  0.002588  \n",
       "\n",
       "[5 rows x 50 columns]"
      ]
     },
     "execution_count": 24,
     "metadata": {},
     "output_type": "execute_result"
    }
   ],
   "source": [
    "# Setting up PCA on data after OneHotEncoding:\n",
    "n = 50\n",
    "\n",
    "my_pca = PCA(n_components = n)\n",
    "\n",
    "X_PCA = my_pca.fit_transform(X)\n",
    "\n",
    "#Stored my result from PCA into a new DataFrame\n",
    "X_2 = pd.DataFrame(X_PCA)\n",
    "\n",
    "X_2.head()"
   ]
  },
  {
   "cell_type": "code",
   "execution_count": 25,
   "metadata": {},
   "outputs": [
    {
     "name": "stdout",
     "output_type": "stream",
     "text": [
      "X_Train size: (5734, 50)\n",
      "y_train size: (5734,)\n",
      "X_Test size: (1434, 50)\n",
      "y_test size: (1434,)\n"
     ]
    }
   ],
   "source": [
    "# Splitting the dataset into testing and training:\n",
    "X_train, X_test, y_train, y_test = train_test_split(X_2, y, test_size=0.20, random_state=2)\n",
    "\n",
    "print(\"X_Train size: \" + str(X_train.shape))\n",
    "print(\"y_train size: \" + str(y_train.shape))\n",
    "print(\"X_Test size: \" + str(X_test.shape))\n",
    "print(\"y_test size: \" + str(y_test.shape))"
   ]
  },
  {
   "cell_type": "code",
   "execution_count": 26,
   "metadata": {},
   "outputs": [
    {
     "name": "stdout",
     "output_type": "stream",
     "text": [
      "Random Forest accuracy(PCA): 0.7510460251046025\n"
     ]
    }
   ],
   "source": [
    "#Instantiated Random Forest Classifier\n",
    "my_RandomForest_PCA = RandomForestClassifier(n_estimators = 19, bootstrap = True, random_state=2)\n",
    "\n",
    "# Training on the training set:\n",
    "my_RandomForest_PCA.fit(X_train, y_train)\n",
    "\n",
    "# Testing on the testing set:\n",
    "y_predict_rf_PCA = my_RandomForest_PCA.predict(X_test)\n",
    "\n",
    "rf_accuracy_PCA = accuracy_score(y_test, y_predict_rf_PCA)\n",
    "\n",
    "print(\"Random Forest accuracy(PCA): \" + str(rf_accuracy_PCA))"
   ]
  },
  {
   "cell_type": "code",
   "execution_count": 27,
   "metadata": {},
   "outputs": [
    {
     "ename": "ValueError",
     "evalue": "y_true and y_pred contain different number of classes 9, 10. Please provide the true labels explicitly through the labels argument. Classes found in y_true: [0. 1. 2. 3. 4. 6. 7. 8. 9.]",
     "output_type": "error",
     "traceback": [
      "\u001b[1;31m---------------------------------------------------------------------------\u001b[0m",
      "\u001b[1;31mValueError\u001b[0m                                Traceback (most recent call last)",
      "\u001b[1;32m<ipython-input-27-a4843a69526a>\u001b[0m in \u001b[0;36m<module>\u001b[1;34m()\u001b[0m\n\u001b[0;32m      5\u001b[0m \u001b[0mget_prob\u001b[0m \u001b[1;33m=\u001b[0m \u001b[0mmy_RandomForest_PCA\u001b[0m\u001b[1;33m.\u001b[0m\u001b[0mpredict_proba\u001b[0m\u001b[1;33m(\u001b[0m\u001b[0mX_test\u001b[0m\u001b[1;33m)\u001b[0m\u001b[1;33m\u001b[0m\u001b[0m\n\u001b[0;32m      6\u001b[0m \u001b[1;33m\u001b[0m\u001b[0m\n\u001b[1;32m----> 7\u001b[1;33m \u001b[0mlogloss_score\u001b[0m \u001b[1;33m=\u001b[0m \u001b[0mmetrics\u001b[0m\u001b[1;33m.\u001b[0m\u001b[0mlog_loss\u001b[0m\u001b[1;33m(\u001b[0m\u001b[0my_test\u001b[0m\u001b[1;33m,\u001b[0m \u001b[0mget_prob\u001b[0m\u001b[1;33m)\u001b[0m\u001b[1;33m\u001b[0m\u001b[0m\n\u001b[0m\u001b[0;32m      8\u001b[0m \u001b[1;33m\u001b[0m\u001b[0m\n\u001b[0;32m      9\u001b[0m \u001b[0mprint\u001b[0m\u001b[1;33m(\u001b[0m\u001b[1;34m\"Log Loss score(Random Forest Classifier): \"\u001b[0m \u001b[1;33m+\u001b[0m \u001b[0mstr\u001b[0m\u001b[1;33m(\u001b[0m\u001b[0mlogloss_score\u001b[0m\u001b[1;33m)\u001b[0m\u001b[1;33m)\u001b[0m\u001b[1;33m\u001b[0m\u001b[0m\n",
      "\u001b[1;32mC:\\ProgramData\\Anaconda3\\lib\\site-packages\\sklearn\\metrics\\classification.py\u001b[0m in \u001b[0;36mlog_loss\u001b[1;34m(y_true, y_pred, eps, normalize, sample_weight, labels)\u001b[0m\n\u001b[0;32m   1684\u001b[0m                              \"y_true: {2}\".format(transformed_labels.shape[1],\n\u001b[0;32m   1685\u001b[0m                                                   \u001b[0my_pred\u001b[0m\u001b[1;33m.\u001b[0m\u001b[0mshape\u001b[0m\u001b[1;33m[\u001b[0m\u001b[1;36m1\u001b[0m\u001b[1;33m]\u001b[0m\u001b[1;33m,\u001b[0m\u001b[1;33m\u001b[0m\u001b[0m\n\u001b[1;32m-> 1686\u001b[1;33m                                                   lb.classes_))\n\u001b[0m\u001b[0;32m   1687\u001b[0m         \u001b[1;32melse\u001b[0m\u001b[1;33m:\u001b[0m\u001b[1;33m\u001b[0m\u001b[0m\n\u001b[0;32m   1688\u001b[0m             raise ValueError('The number of classes in labels is different '\n",
      "\u001b[1;31mValueError\u001b[0m: y_true and y_pred contain different number of classes 9, 10. Please provide the true labels explicitly through the labels argument. Classes found in y_true: [0. 1. 2. 3. 4. 6. 7. 8. 9.]"
     ]
    }
   ],
   "source": [
    "# Dont display Numpy in scientific notation\n",
    "np.set_printoptions(precision=4)\n",
    "np.set_printoptions(suppress=True)\n",
    "\n",
    "get_prob = my_RandomForest_PCA.predict_proba(X_test)\n",
    "\n",
    "logloss_score = metrics.log_loss(y_test, get_prob)\n",
    "\n",
    "print(\"Log Loss score(Random Forest Classifier): \" + str(logloss_score))"
   ]
  },
  {
   "cell_type": "code",
   "execution_count": 28,
   "metadata": {},
   "outputs": [
    {
     "name": "stdout",
     "output_type": "stream",
     "text": [
      "KNN Accuracy(PCA) for  1 neighbors 0.6638772663877266\n",
      "KNN Accuracy(PCA) for  2 neighbors 0.6241283124128313\n",
      "KNN Accuracy(PCA) for  3 neighbors 0.6478382147838215\n",
      "KNN Accuracy(PCA) for  4 neighbors 0.6492329149232915\n",
      "KNN Accuracy(PCA) for  5 neighbors 0.6645746164574616\n",
      "KNN Accuracy(PCA) for  6 neighbors 0.6527196652719666\n",
      "KNN Accuracy(PCA) for  7 neighbors 0.6534170153417015\n",
      "KNN Accuracy(PCA) for  8 neighbors 0.6506276150627615\n",
      "KNN Accuracy(PCA) for  9 neighbors 0.6527196652719666\n",
      "KNN Accuracy(PCA) for  10 neighbors 0.6534170153417015\n"
     ]
    }
   ],
   "source": [
    "# Testing out KNN Classifier on Dog Data up 10 neighbors:\n",
    "for i in range(1, 11):\n",
    "    knn_animal_PCA = KNeighborsClassifier(n_neighbors = i)\n",
    "    knn_animal_PCA.fit(X_train, y_train)\n",
    "    y_predict_knn_PCA = knn_animal_PCA.predict(X_test)\n",
    "\n",
    "    knn_accuracy_PCA = accuracy_score(y_test, y_predict_knn_PCA)\n",
    "\n",
    "    print(\"KNN Accuracy(PCA) for  \" + str(i) + \" neighbors \" + str(knn_accuracy_PCA))"
   ]
  },
  {
   "cell_type": "code",
   "execution_count": 29,
   "metadata": {},
   "outputs": [
    {
     "ename": "ValueError",
     "evalue": "y_true and y_pred contain different number of classes 9, 10. Please provide the true labels explicitly through the labels argument. Classes found in y_true: [0. 1. 2. 3. 4. 6. 7. 8. 9.]",
     "output_type": "error",
     "traceback": [
      "\u001b[1;31m---------------------------------------------------------------------------\u001b[0m",
      "\u001b[1;31mValueError\u001b[0m                                Traceback (most recent call last)",
      "\u001b[1;32m<ipython-input-29-7b2584a47574>\u001b[0m in \u001b[0;36m<module>\u001b[1;34m()\u001b[0m\n\u001b[0;32m      5\u001b[0m \u001b[0mget_prob\u001b[0m \u001b[1;33m=\u001b[0m \u001b[0mknn_animal_PCA\u001b[0m\u001b[1;33m.\u001b[0m\u001b[0mpredict_proba\u001b[0m\u001b[1;33m(\u001b[0m\u001b[0mX_test\u001b[0m\u001b[1;33m)\u001b[0m\u001b[1;33m\u001b[0m\u001b[0m\n\u001b[0;32m      6\u001b[0m \u001b[1;33m\u001b[0m\u001b[0m\n\u001b[1;32m----> 7\u001b[1;33m \u001b[0mlogloss_score\u001b[0m \u001b[1;33m=\u001b[0m \u001b[0mmetrics\u001b[0m\u001b[1;33m.\u001b[0m\u001b[0mlog_loss\u001b[0m\u001b[1;33m(\u001b[0m\u001b[0my_test\u001b[0m\u001b[1;33m,\u001b[0m \u001b[0mget_prob\u001b[0m\u001b[1;33m)\u001b[0m\u001b[1;33m\u001b[0m\u001b[0m\n\u001b[0m\u001b[0;32m      8\u001b[0m \u001b[1;33m\u001b[0m\u001b[0m\n\u001b[0;32m      9\u001b[0m \u001b[0mprint\u001b[0m\u001b[1;33m(\u001b[0m\u001b[1;34m\"Log Loss score(KNN): \"\u001b[0m \u001b[1;33m+\u001b[0m \u001b[0mstr\u001b[0m\u001b[1;33m(\u001b[0m\u001b[0mlogloss_score\u001b[0m\u001b[1;33m)\u001b[0m\u001b[1;33m)\u001b[0m\u001b[1;33m\u001b[0m\u001b[0m\n",
      "\u001b[1;32mC:\\ProgramData\\Anaconda3\\lib\\site-packages\\sklearn\\metrics\\classification.py\u001b[0m in \u001b[0;36mlog_loss\u001b[1;34m(y_true, y_pred, eps, normalize, sample_weight, labels)\u001b[0m\n\u001b[0;32m   1684\u001b[0m                              \"y_true: {2}\".format(transformed_labels.shape[1],\n\u001b[0;32m   1685\u001b[0m                                                   \u001b[0my_pred\u001b[0m\u001b[1;33m.\u001b[0m\u001b[0mshape\u001b[0m\u001b[1;33m[\u001b[0m\u001b[1;36m1\u001b[0m\u001b[1;33m]\u001b[0m\u001b[1;33m,\u001b[0m\u001b[1;33m\u001b[0m\u001b[0m\n\u001b[1;32m-> 1686\u001b[1;33m                                                   lb.classes_))\n\u001b[0m\u001b[0;32m   1687\u001b[0m         \u001b[1;32melse\u001b[0m\u001b[1;33m:\u001b[0m\u001b[1;33m\u001b[0m\u001b[0m\n\u001b[0;32m   1688\u001b[0m             raise ValueError('The number of classes in labels is different '\n",
      "\u001b[1;31mValueError\u001b[0m: y_true and y_pred contain different number of classes 9, 10. Please provide the true labels explicitly through the labels argument. Classes found in y_true: [0. 1. 2. 3. 4. 6. 7. 8. 9.]"
     ]
    }
   ],
   "source": [
    "# Dont display Numpy in scientific notation\n",
    "np.set_printoptions(precision=4)\n",
    "np.set_printoptions(suppress=True)\n",
    "\n",
    "get_prob = knn_animal_PCA.predict_proba(X_test)\n",
    "\n",
    "logloss_score = metrics.log_loss(y_test, get_prob)\n",
    "\n",
    "print(\"Log Loss score(KNN): \" + str(logloss_score))"
   ]
  },
  {
   "cell_type": "code",
   "execution_count": 30,
   "metadata": {},
   "outputs": [
    {
     "name": "stdout",
     "output_type": "stream",
     "text": [
      "Decision Tree Accuracy(PCA): 0.6757322175732218\n"
     ]
    }
   ],
   "source": [
    "decision_tree_animal_PCA = DecisionTreeClassifier()\n",
    "decision_tree_animal_PCA.fit(X_train, y_train)\n",
    "y_predict_decision_tree = decision_tree_animal_PCA.predict(X_test)\n",
    "\n",
    "dt_accuracy = accuracy_score(y_test, y_predict_decision_tree)\n",
    "\n",
    "print(\"Decision Tree Accuracy(PCA): \" + str(dt_accuracy))"
   ]
  },
  {
   "cell_type": "code",
   "execution_count": 31,
   "metadata": {},
   "outputs": [
    {
     "ename": "ValueError",
     "evalue": "y_true and y_pred contain different number of classes 9, 10. Please provide the true labels explicitly through the labels argument. Classes found in y_true: [0. 1. 2. 3. 4. 6. 7. 8. 9.]",
     "output_type": "error",
     "traceback": [
      "\u001b[1;31m---------------------------------------------------------------------------\u001b[0m",
      "\u001b[1;31mValueError\u001b[0m                                Traceback (most recent call last)",
      "\u001b[1;32m<ipython-input-31-4dba86f9cfbc>\u001b[0m in \u001b[0;36m<module>\u001b[1;34m()\u001b[0m\n\u001b[0;32m      5\u001b[0m \u001b[0mget_prob\u001b[0m \u001b[1;33m=\u001b[0m \u001b[0mdecision_tree_animal_PCA\u001b[0m\u001b[1;33m.\u001b[0m\u001b[0mpredict_proba\u001b[0m\u001b[1;33m(\u001b[0m\u001b[0mX_test\u001b[0m\u001b[1;33m)\u001b[0m\u001b[1;33m\u001b[0m\u001b[0m\n\u001b[0;32m      6\u001b[0m \u001b[1;33m\u001b[0m\u001b[0m\n\u001b[1;32m----> 7\u001b[1;33m \u001b[0mlogloss_score\u001b[0m \u001b[1;33m=\u001b[0m \u001b[0mmetrics\u001b[0m\u001b[1;33m.\u001b[0m\u001b[0mlog_loss\u001b[0m\u001b[1;33m(\u001b[0m\u001b[0my_test\u001b[0m\u001b[1;33m,\u001b[0m \u001b[0mget_prob\u001b[0m\u001b[1;33m)\u001b[0m\u001b[1;33m\u001b[0m\u001b[0m\n\u001b[0m\u001b[0;32m      8\u001b[0m \u001b[1;33m\u001b[0m\u001b[0m\n\u001b[0;32m      9\u001b[0m \u001b[0mprint\u001b[0m\u001b[1;33m(\u001b[0m\u001b[1;34m\"Log Loss score(Decision Tree): \"\u001b[0m \u001b[1;33m+\u001b[0m \u001b[0mstr\u001b[0m\u001b[1;33m(\u001b[0m\u001b[0mlogloss_score\u001b[0m\u001b[1;33m)\u001b[0m\u001b[1;33m)\u001b[0m\u001b[1;33m\u001b[0m\u001b[0m\n",
      "\u001b[1;32mC:\\ProgramData\\Anaconda3\\lib\\site-packages\\sklearn\\metrics\\classification.py\u001b[0m in \u001b[0;36mlog_loss\u001b[1;34m(y_true, y_pred, eps, normalize, sample_weight, labels)\u001b[0m\n\u001b[0;32m   1684\u001b[0m                              \"y_true: {2}\".format(transformed_labels.shape[1],\n\u001b[0;32m   1685\u001b[0m                                                   \u001b[0my_pred\u001b[0m\u001b[1;33m.\u001b[0m\u001b[0mshape\u001b[0m\u001b[1;33m[\u001b[0m\u001b[1;36m1\u001b[0m\u001b[1;33m]\u001b[0m\u001b[1;33m,\u001b[0m\u001b[1;33m\u001b[0m\u001b[0m\n\u001b[1;32m-> 1686\u001b[1;33m                                                   lb.classes_))\n\u001b[0m\u001b[0;32m   1687\u001b[0m         \u001b[1;32melse\u001b[0m\u001b[1;33m:\u001b[0m\u001b[1;33m\u001b[0m\u001b[0m\n\u001b[0;32m   1688\u001b[0m             raise ValueError('The number of classes in labels is different '\n",
      "\u001b[1;31mValueError\u001b[0m: y_true and y_pred contain different number of classes 9, 10. Please provide the true labels explicitly through the labels argument. Classes found in y_true: [0. 1. 2. 3. 4. 6. 7. 8. 9.]"
     ]
    }
   ],
   "source": [
    "# Dont display Numpy in scientific notation\n",
    "np.set_printoptions(precision=4)\n",
    "np.set_printoptions(suppress=True)\n",
    "\n",
    "get_prob = decision_tree_animal_PCA.predict_proba(X_test)\n",
    "\n",
    "logloss_score = metrics.log_loss(y_test, get_prob)\n",
    "\n",
    "print(\"Log Loss score(Decision Tree): \" + str(logloss_score))"
   ]
  },
  {
   "cell_type": "code",
   "execution_count": 32,
   "metadata": {},
   "outputs": [
    {
     "name": "stdout",
     "output_type": "stream",
     "text": [
      "AdaBoost Classifier Accuracy(PCA): 0.4916317991631799\n"
     ]
    }
   ],
   "source": [
    "my_AdaBoost_PCA = AdaBoostClassifier(n_estimators = 19,random_state=2)\n",
    "my_AdaBoost_PCA.fit(X_train, y_train)\n",
    "y_predict_ada = my_AdaBoost_PCA.predict(X_test)\n",
    "score_ada = accuracy_score(y_test, y_predict_ada)\n",
    "\n",
    "# calculating the final accuracy of AdaBoost Classifier\n",
    "print(\"AdaBoost Classifier Accuracy(PCA): \" + str(score_ada))"
   ]
  },
  {
   "cell_type": "code",
   "execution_count": 33,
   "metadata": {},
   "outputs": [
    {
     "ename": "ValueError",
     "evalue": "y_true and y_pred contain different number of classes 9, 10. Please provide the true labels explicitly through the labels argument. Classes found in y_true: [0. 1. 2. 3. 4. 6. 7. 8. 9.]",
     "output_type": "error",
     "traceback": [
      "\u001b[1;31m---------------------------------------------------------------------------\u001b[0m",
      "\u001b[1;31mValueError\u001b[0m                                Traceback (most recent call last)",
      "\u001b[1;32m<ipython-input-33-fec847b4f7e9>\u001b[0m in \u001b[0;36m<module>\u001b[1;34m()\u001b[0m\n\u001b[0;32m      5\u001b[0m \u001b[0mget_prob\u001b[0m \u001b[1;33m=\u001b[0m \u001b[0mmy_AdaBoost_PCA\u001b[0m\u001b[1;33m.\u001b[0m\u001b[0mpredict_proba\u001b[0m\u001b[1;33m(\u001b[0m\u001b[0mX_test\u001b[0m\u001b[1;33m)\u001b[0m\u001b[1;33m\u001b[0m\u001b[0m\n\u001b[0;32m      6\u001b[0m \u001b[1;33m\u001b[0m\u001b[0m\n\u001b[1;32m----> 7\u001b[1;33m \u001b[0mlogloss_score\u001b[0m \u001b[1;33m=\u001b[0m \u001b[0mmetrics\u001b[0m\u001b[1;33m.\u001b[0m\u001b[0mlog_loss\u001b[0m\u001b[1;33m(\u001b[0m\u001b[0my_test\u001b[0m\u001b[1;33m,\u001b[0m \u001b[0mget_prob\u001b[0m\u001b[1;33m)\u001b[0m\u001b[1;33m\u001b[0m\u001b[0m\n\u001b[0m\u001b[0;32m      8\u001b[0m \u001b[1;33m\u001b[0m\u001b[0m\n\u001b[0;32m      9\u001b[0m \u001b[0mprint\u001b[0m\u001b[1;33m(\u001b[0m\u001b[1;34m\"Log Loss score(AdaBoost): \"\u001b[0m \u001b[1;33m+\u001b[0m \u001b[0mstr\u001b[0m\u001b[1;33m(\u001b[0m\u001b[0mlogloss_score\u001b[0m\u001b[1;33m)\u001b[0m\u001b[1;33m)\u001b[0m\u001b[1;33m\u001b[0m\u001b[0m\n",
      "\u001b[1;32mC:\\ProgramData\\Anaconda3\\lib\\site-packages\\sklearn\\metrics\\classification.py\u001b[0m in \u001b[0;36mlog_loss\u001b[1;34m(y_true, y_pred, eps, normalize, sample_weight, labels)\u001b[0m\n\u001b[0;32m   1684\u001b[0m                              \"y_true: {2}\".format(transformed_labels.shape[1],\n\u001b[0;32m   1685\u001b[0m                                                   \u001b[0my_pred\u001b[0m\u001b[1;33m.\u001b[0m\u001b[0mshape\u001b[0m\u001b[1;33m[\u001b[0m\u001b[1;36m1\u001b[0m\u001b[1;33m]\u001b[0m\u001b[1;33m,\u001b[0m\u001b[1;33m\u001b[0m\u001b[0m\n\u001b[1;32m-> 1686\u001b[1;33m                                                   lb.classes_))\n\u001b[0m\u001b[0;32m   1687\u001b[0m         \u001b[1;32melse\u001b[0m\u001b[1;33m:\u001b[0m\u001b[1;33m\u001b[0m\u001b[0m\n\u001b[0;32m   1688\u001b[0m             raise ValueError('The number of classes in labels is different '\n",
      "\u001b[1;31mValueError\u001b[0m: y_true and y_pred contain different number of classes 9, 10. Please provide the true labels explicitly through the labels argument. Classes found in y_true: [0. 1. 2. 3. 4. 6. 7. 8. 9.]"
     ]
    }
   ],
   "source": [
    "# Dont display Numpy in scientific notation\n",
    "np.set_printoptions(precision=4)\n",
    "np.set_printoptions(suppress=True)\n",
    "\n",
    "get_prob = my_AdaBoost_PCA.predict_proba(X_test)\n",
    "\n",
    "logloss_score = metrics.log_loss(y_test, get_prob)\n",
    "\n",
    "print(\"Log Loss score(AdaBoost): \" + str(logloss_score))"
   ]
  },
  {
   "cell_type": "code",
   "execution_count": 34,
   "metadata": {},
   "outputs": [
    {
     "name": "stdout",
     "output_type": "stream",
     "text": [
      "ANN Accuracy(PCA): 0.7524407252440726\n"
     ]
    }
   ],
   "source": [
    "my_ANN_PCA = MLPClassifier(hidden_layer_sizes=(100,), activation= 'logistic', \n",
    "                       solver='adam', alpha=1e-5, random_state=1, \n",
    "                       learning_rate_init = 0.002)\n",
    "\n",
    "# Training on Training set\n",
    "my_ANN_PCA.fit(X_train, y_train)\n",
    "\n",
    "# Testing on the testing set:\n",
    "y_predict_ann_PCA = my_ANN_PCA.predict(X_test)\n",
    "#print(y_predict_ann)\n",
    "# We can now compare the \"predicted labels\" for the Testing Set with its \"actual labels\" to evaluate the accuracy \n",
    "score_ann = accuracy_score(y_test, y_predict_ann_PCA)\n",
    "\n",
    "print(\"ANN Accuracy(PCA): \" + str(score_ann))"
   ]
  },
  {
   "cell_type": "code",
   "execution_count": 35,
   "metadata": {},
   "outputs": [
    {
     "name": "stdout",
     "output_type": "stream",
     "text": [
      "ANN Accuracy(PCA): 0.7629009762900977\n"
     ]
    }
   ],
   "source": [
    "my_ANN_PCA = MLPClassifier(hidden_layer_sizes=(100,100,), activation= 'logistic', \n",
    "                       solver='adam', alpha=1e-5, random_state=1, \n",
    "                       learning_rate_init = 0.002)\n",
    "\n",
    "# Training on Training set\n",
    "my_ANN_PCA.fit(X_train, y_train)\n",
    "\n",
    "# Testing on the testing set:\n",
    "y_predict_ann_PCA = my_ANN_PCA.predict(X_test)\n",
    "#print(y_predict_ann)\n",
    "# We can now compare the \"predicted labels\" for the Testing Set with its \"actual labels\" to evaluate the accuracy \n",
    "score_ann = accuracy_score(y_test, y_predict_ann_PCA)\n",
    "\n",
    "print(\"ANN Accuracy(PCA): \" + str(score_ann))"
   ]
  },
  {
   "cell_type": "code",
   "execution_count": 36,
   "metadata": {},
   "outputs": [
    {
     "name": "stdout",
     "output_type": "stream",
     "text": [
      "ANN Accuracy(PCA): 0.7615062761506276\n"
     ]
    }
   ],
   "source": [
    "my_ANN_PCA = MLPClassifier(hidden_layer_sizes=(100,100,100,), activation= 'logistic', \n",
    "                       solver='adam', alpha=1e-5, random_state=1, \n",
    "                       learning_rate_init = 0.002)\n",
    "\n",
    "# Training on Training set\n",
    "my_ANN_PCA.fit(X_train, y_train)\n",
    "\n",
    "# Testing on the testing set:\n",
    "y_predict_ann_PCA = my_ANN_PCA.predict(X_test)\n",
    "#print(y_predict_ann)\n",
    "# We can now compare the \"predicted labels\" for the Testing Set with its \"actual labels\" to evaluate the accuracy \n",
    "score_ann = accuracy_score(y_test, y_predict_ann_PCA)\n",
    "\n",
    "print(\"ANN Accuracy(PCA): \" + str(score_ann))"
   ]
  },
  {
   "cell_type": "code",
   "execution_count": 37,
   "metadata": {},
   "outputs": [
    {
     "name": "stdout",
     "output_type": "stream",
     "text": [
      "Accuracy of Non-Linear SVM(PCA): 0.6324965132496513\n"
     ]
    }
   ],
   "source": [
    "# Instantiating Non_Linear SVM\n",
    "my_nonLinear_SVM_PCA = SVC(C=1, kernel='rbf', gamma=0.0005, random_state=1, probability=True)\n",
    "\n",
    "my_nonLinear_SVM_PCA.fit (X_train, y_train)\n",
    "\n",
    "# Testing on the testing set:\n",
    "y_predict_nlsvm = my_nonLinear_SVM_PCA.predict(X_test)\n",
    "\n",
    "# We can now compare the \"predicted labels\" for the Testing Set with its \"actual labels\" to evaluate the accuracy \n",
    "score_nlsvm = accuracy_score(y_test, y_predict_nlsvm)\n",
    "\n",
    "print(\"Accuracy of Non-Linear SVM(PCA): \" + str(score_nlsvm))"
   ]
  },
  {
   "cell_type": "code",
   "execution_count": null,
   "metadata": {},
   "outputs": [],
   "source": []
  }
 ],
 "metadata": {
  "kernelspec": {
   "display_name": "Python 3",
   "language": "python",
   "name": "python3"
  },
  "language_info": {
   "codemirror_mode": {
    "name": "ipython",
    "version": 3
   },
   "file_extension": ".py",
   "mimetype": "text/x-python",
   "name": "python",
   "nbconvert_exporter": "python",
   "pygments_lexer": "ipython3",
   "version": "3.6.4"
  }
 },
 "nbformat": 4,
 "nbformat_minor": 2
}
