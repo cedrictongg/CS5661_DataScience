{
 "cells": [
  {
   "cell_type": "code",
   "execution_count": 1,
   "metadata": {},
   "outputs": [
    {
     "name": "stderr",
     "output_type": "stream",
     "text": [
      "C:\\Users\\toki__000\\Anaconda3\\lib\\site-packages\\sklearn\\cross_validation.py:44: DeprecationWarning: This module was deprecated in version 0.18 in favor of the model_selection module into which all the refactored classes and functions are moved. Also note that the interface of the new CV iterators are different from that of this module. This module will be removed in 0.20.\n",
      "  \"This module will be removed in 0.20.\", DeprecationWarning)\n"
     ]
    }
   ],
   "source": [
    "%matplotlib inline\n",
    "from sklearn.model_selection import train_test_split\n",
    "from sklearn.neighbors import KNeighborsClassifier \n",
    "from sklearn.metrics import accuracy_score\n",
    "import pandas as pd \n",
    "import numpy as np \n",
    "from sklearn.neural_network import MLPClassifier\n",
    "from sklearn.model_selection import GridSearchCV\n",
    "from sklearn import metrics\n",
    "from sklearn.cross_validation import cross_val_score\n",
    "from sklearn.tree import DecisionTreeClassifier\n",
    "from sklearn.utils import resample\n",
    "from sklearn.ensemble import RandomForestClassifier\n",
    "from sklearn.ensemble import AdaBoostClassifier\n",
    "from IPython.display import display\n",
    "from matplotlib.pyplot import figure, show\n",
    "from numpy import arange, sin, pi\n",
    "from sklearn import preprocessing\n",
    "from sklearn.decomposition import PCA\n",
    "from sklearn.svm import SVC"
   ]
  },
  {
   "cell_type": "code",
   "execution_count": 2,
   "metadata": {},
   "outputs": [
    {
     "data": {
      "text/plain": [
       "(26729, 10)"
      ]
     },
     "execution_count": 2,
     "metadata": {},
     "output_type": "execute_result"
    }
   ],
   "source": [
    "#load csv file into data frame\n",
    "animal_df = pd.read_csv('train.csv')\n",
    "animal_df.shape"
   ]
  },
  {
   "cell_type": "code",
   "execution_count": 3,
   "metadata": {},
   "outputs": [
    {
     "data": {
      "text/plain": [
       "(26729, 8)"
      ]
     },
     "execution_count": 3,
     "metadata": {},
     "output_type": "execute_result"
    }
   ],
   "source": [
    "#drop animalID\n",
    "animal_df.drop(['AnimalID', 'OutcomeSubtype'], axis=1, inplace=True)\n",
    "animal_df.shape"
   ]
  },
  {
   "cell_type": "code",
   "execution_count": 4,
   "metadata": {},
   "outputs": [
    {
     "data": {
      "text/plain": [
       "(11134, 8)"
      ]
     },
     "execution_count": 4,
     "metadata": {},
     "output_type": "execute_result"
    }
   ],
   "source": [
    "#keep only data for cats\n",
    "animal_df = animal_df[~animal_df['AnimalType'].isin(['Dog'])]\n",
    "animal_df.shape"
   ]
  },
  {
   "cell_type": "code",
   "execution_count": 5,
   "metadata": {},
   "outputs": [
    {
     "data": {
      "text/html": [
       "<div>\n",
       "<style>\n",
       "    .dataframe thead tr:only-child th {\n",
       "        text-align: right;\n",
       "    }\n",
       "\n",
       "    .dataframe thead th {\n",
       "        text-align: left;\n",
       "    }\n",
       "\n",
       "    .dataframe tbody tr th {\n",
       "        vertical-align: top;\n",
       "    }\n",
       "</style>\n",
       "<table border=\"1\" class=\"dataframe\">\n",
       "  <thead>\n",
       "    <tr style=\"text-align: right;\">\n",
       "      <th></th>\n",
       "      <th>Name</th>\n",
       "      <th>DateTime</th>\n",
       "      <th>OutcomeType</th>\n",
       "      <th>AnimalType</th>\n",
       "      <th>SexuponOutcome</th>\n",
       "      <th>AgeuponOutcome</th>\n",
       "      <th>Breed</th>\n",
       "      <th>Color</th>\n",
       "    </tr>\n",
       "  </thead>\n",
       "  <tbody>\n",
       "    <tr>\n",
       "      <th>1</th>\n",
       "      <td>Emily</td>\n",
       "      <td>2013-10-13 12:44:00</td>\n",
       "      <td>1.0</td>\n",
       "      <td>Cat</td>\n",
       "      <td>Spayed Female</td>\n",
       "      <td>1 year</td>\n",
       "      <td>Domestic Shorthair Mix</td>\n",
       "      <td>Cream Tabby</td>\n",
       "    </tr>\n",
       "    <tr>\n",
       "      <th>3</th>\n",
       "      <td>NaN</td>\n",
       "      <td>2014-07-11 19:09:00</td>\n",
       "      <td>3.0</td>\n",
       "      <td>Cat</td>\n",
       "      <td>Intact Male</td>\n",
       "      <td>3 weeks</td>\n",
       "      <td>Domestic Shorthair Mix</td>\n",
       "      <td>Blue Cream</td>\n",
       "    </tr>\n",
       "    <tr>\n",
       "      <th>6</th>\n",
       "      <td>Jimmy</td>\n",
       "      <td>2015-03-28 13:11:00</td>\n",
       "      <td>3.0</td>\n",
       "      <td>Cat</td>\n",
       "      <td>Intact Male</td>\n",
       "      <td>3 weeks</td>\n",
       "      <td>Domestic Shorthair Mix</td>\n",
       "      <td>Blue Tabby</td>\n",
       "    </tr>\n",
       "    <tr>\n",
       "      <th>7</th>\n",
       "      <td>NaN</td>\n",
       "      <td>2015-04-30 17:02:00</td>\n",
       "      <td>3.0</td>\n",
       "      <td>Cat</td>\n",
       "      <td>Unknown</td>\n",
       "      <td>3 weeks</td>\n",
       "      <td>Domestic Shorthair Mix</td>\n",
       "      <td>Brown Tabby</td>\n",
       "    </tr>\n",
       "    <tr>\n",
       "      <th>10</th>\n",
       "      <td>NaN</td>\n",
       "      <td>2013-12-05 15:50:00</td>\n",
       "      <td>3.0</td>\n",
       "      <td>Cat</td>\n",
       "      <td>Unknown</td>\n",
       "      <td>2 years</td>\n",
       "      <td>Domestic Shorthair Mix</td>\n",
       "      <td>Black</td>\n",
       "    </tr>\n",
       "  </tbody>\n",
       "</table>\n",
       "</div>"
      ],
      "text/plain": [
       "     Name             DateTime  OutcomeType AnimalType SexuponOutcome  \\\n",
       "1   Emily  2013-10-13 12:44:00          1.0        Cat  Spayed Female   \n",
       "3     NaN  2014-07-11 19:09:00          3.0        Cat    Intact Male   \n",
       "6   Jimmy  2015-03-28 13:11:00          3.0        Cat    Intact Male   \n",
       "7     NaN  2015-04-30 17:02:00          3.0        Cat        Unknown   \n",
       "10    NaN  2013-12-05 15:50:00          3.0        Cat        Unknown   \n",
       "\n",
       "   AgeuponOutcome                   Breed        Color  \n",
       "1          1 year  Domestic Shorthair Mix  Cream Tabby  \n",
       "3         3 weeks  Domestic Shorthair Mix   Blue Cream  \n",
       "6         3 weeks  Domestic Shorthair Mix   Blue Tabby  \n",
       "7         3 weeks  Domestic Shorthair Mix  Brown Tabby  \n",
       "10        2 years  Domestic Shorthair Mix        Black  "
      ]
     },
     "execution_count": 5,
     "metadata": {},
     "output_type": "execute_result"
    }
   ],
   "source": [
    "# Giving numerical values to our label\n",
    "def categorical_to_numeric(x):\n",
    "    if x == 'Return_to_owner':\n",
    "        return 0\n",
    "    elif x == 'Euthanasia':\n",
    "        return 1\n",
    "    elif x == 'Adoption':\n",
    "        return 2\n",
    "    elif x == 'Transfer':\n",
    "        return 3\n",
    "    \n",
    "animal_df['OutcomeType'] = animal_df['OutcomeType'].apply(categorical_to_numeric).astype(np.float32)\n",
    "animal_df.head()"
   ]
  },
  {
   "cell_type": "code",
   "execution_count": 6,
   "metadata": {},
   "outputs": [
    {
     "data": {
      "text/html": [
       "<div>\n",
       "<style>\n",
       "    .dataframe thead tr:only-child th {\n",
       "        text-align: right;\n",
       "    }\n",
       "\n",
       "    .dataframe thead th {\n",
       "        text-align: left;\n",
       "    }\n",
       "\n",
       "    .dataframe tbody tr th {\n",
       "        vertical-align: top;\n",
       "    }\n",
       "</style>\n",
       "<table border=\"1\" class=\"dataframe\">\n",
       "  <thead>\n",
       "    <tr style=\"text-align: right;\">\n",
       "      <th></th>\n",
       "      <th>Name</th>\n",
       "      <th>OutcomeType</th>\n",
       "      <th>SexuponOutcome</th>\n",
       "      <th>AgeuponOutcome</th>\n",
       "      <th>Breed</th>\n",
       "      <th>Color</th>\n",
       "      <th>Year</th>\n",
       "      <th>Month</th>\n",
       "      <th>Day</th>\n",
       "    </tr>\n",
       "  </thead>\n",
       "  <tbody>\n",
       "    <tr>\n",
       "      <th>1</th>\n",
       "      <td>Emily</td>\n",
       "      <td>1.0</td>\n",
       "      <td>Spayed Female</td>\n",
       "      <td>1 year</td>\n",
       "      <td>Domestic Shorthair Mix</td>\n",
       "      <td>Cream Tabby</td>\n",
       "      <td>2013</td>\n",
       "      <td>10</td>\n",
       "      <td>13</td>\n",
       "    </tr>\n",
       "    <tr>\n",
       "      <th>3</th>\n",
       "      <td>NaN</td>\n",
       "      <td>3.0</td>\n",
       "      <td>Intact Male</td>\n",
       "      <td>3 weeks</td>\n",
       "      <td>Domestic Shorthair Mix</td>\n",
       "      <td>Blue Cream</td>\n",
       "      <td>2014</td>\n",
       "      <td>7</td>\n",
       "      <td>11</td>\n",
       "    </tr>\n",
       "    <tr>\n",
       "      <th>6</th>\n",
       "      <td>Jimmy</td>\n",
       "      <td>3.0</td>\n",
       "      <td>Intact Male</td>\n",
       "      <td>3 weeks</td>\n",
       "      <td>Domestic Shorthair Mix</td>\n",
       "      <td>Blue Tabby</td>\n",
       "      <td>2015</td>\n",
       "      <td>3</td>\n",
       "      <td>28</td>\n",
       "    </tr>\n",
       "    <tr>\n",
       "      <th>7</th>\n",
       "      <td>NaN</td>\n",
       "      <td>3.0</td>\n",
       "      <td>Unknown</td>\n",
       "      <td>3 weeks</td>\n",
       "      <td>Domestic Shorthair Mix</td>\n",
       "      <td>Brown Tabby</td>\n",
       "      <td>2015</td>\n",
       "      <td>4</td>\n",
       "      <td>30</td>\n",
       "    </tr>\n",
       "    <tr>\n",
       "      <th>10</th>\n",
       "      <td>NaN</td>\n",
       "      <td>3.0</td>\n",
       "      <td>Unknown</td>\n",
       "      <td>2 years</td>\n",
       "      <td>Domestic Shorthair Mix</td>\n",
       "      <td>Black</td>\n",
       "      <td>2013</td>\n",
       "      <td>12</td>\n",
       "      <td>5</td>\n",
       "    </tr>\n",
       "  </tbody>\n",
       "</table>\n",
       "</div>"
      ],
      "text/plain": [
       "     Name  OutcomeType SexuponOutcome AgeuponOutcome                   Breed  \\\n",
       "1   Emily          1.0  Spayed Female         1 year  Domestic Shorthair Mix   \n",
       "3     NaN          3.0    Intact Male        3 weeks  Domestic Shorthair Mix   \n",
       "6   Jimmy          3.0    Intact Male        3 weeks  Domestic Shorthair Mix   \n",
       "7     NaN          3.0        Unknown        3 weeks  Domestic Shorthair Mix   \n",
       "10    NaN          3.0        Unknown        2 years  Domestic Shorthair Mix   \n",
       "\n",
       "          Color  Year  Month  Day  \n",
       "1   Cream Tabby  2013     10   13  \n",
       "3    Blue Cream  2014      7   11  \n",
       "6    Blue Tabby  2015      3   28  \n",
       "7   Brown Tabby  2015      4   30  \n",
       "10        Black  2013     12    5  "
      ]
     },
     "execution_count": 6,
     "metadata": {},
     "output_type": "execute_result"
    }
   ],
   "source": [
    "#Convert date time to single columns for year, month, day\n",
    "datetime = pd.to_datetime(animal_df['DateTime']).dt\n",
    "animal_df['Year'] = datetime.year\n",
    "animal_df['Month'] = datetime.month\n",
    "animal_df['Day'] = datetime.day\n",
    "animal_df.drop(['DateTime', 'AnimalType'], axis=1, inplace=True)\n",
    "animal_df.head()"
   ]
  },
  {
   "cell_type": "code",
   "execution_count": 7,
   "metadata": {},
   "outputs": [
    {
     "data": {
      "text/html": [
       "<div>\n",
       "<style>\n",
       "    .dataframe thead tr:only-child th {\n",
       "        text-align: right;\n",
       "    }\n",
       "\n",
       "    .dataframe thead th {\n",
       "        text-align: left;\n",
       "    }\n",
       "\n",
       "    .dataframe tbody tr th {\n",
       "        vertical-align: top;\n",
       "    }\n",
       "</style>\n",
       "<table border=\"1\" class=\"dataframe\">\n",
       "  <thead>\n",
       "    <tr style=\"text-align: right;\">\n",
       "      <th></th>\n",
       "      <th>Name</th>\n",
       "      <th>OutcomeType</th>\n",
       "      <th>SexuponOutcome</th>\n",
       "      <th>AgeuponOutcome</th>\n",
       "      <th>Breed</th>\n",
       "      <th>Color</th>\n",
       "      <th>Year</th>\n",
       "      <th>Month</th>\n",
       "      <th>Day</th>\n",
       "    </tr>\n",
       "  </thead>\n",
       "  <tbody>\n",
       "    <tr>\n",
       "      <th>1</th>\n",
       "      <td>1</td>\n",
       "      <td>1.0</td>\n",
       "      <td>Spayed Female</td>\n",
       "      <td>1 year</td>\n",
       "      <td>Domestic Shorthair Mix</td>\n",
       "      <td>Cream Tabby</td>\n",
       "      <td>2013</td>\n",
       "      <td>10</td>\n",
       "      <td>13</td>\n",
       "    </tr>\n",
       "    <tr>\n",
       "      <th>3</th>\n",
       "      <td>0</td>\n",
       "      <td>3.0</td>\n",
       "      <td>Intact Male</td>\n",
       "      <td>3 weeks</td>\n",
       "      <td>Domestic Shorthair Mix</td>\n",
       "      <td>Blue Cream</td>\n",
       "      <td>2014</td>\n",
       "      <td>7</td>\n",
       "      <td>11</td>\n",
       "    </tr>\n",
       "    <tr>\n",
       "      <th>6</th>\n",
       "      <td>1</td>\n",
       "      <td>3.0</td>\n",
       "      <td>Intact Male</td>\n",
       "      <td>3 weeks</td>\n",
       "      <td>Domestic Shorthair Mix</td>\n",
       "      <td>Blue Tabby</td>\n",
       "      <td>2015</td>\n",
       "      <td>3</td>\n",
       "      <td>28</td>\n",
       "    </tr>\n",
       "    <tr>\n",
       "      <th>7</th>\n",
       "      <td>0</td>\n",
       "      <td>3.0</td>\n",
       "      <td>Unknown</td>\n",
       "      <td>3 weeks</td>\n",
       "      <td>Domestic Shorthair Mix</td>\n",
       "      <td>Brown Tabby</td>\n",
       "      <td>2015</td>\n",
       "      <td>4</td>\n",
       "      <td>30</td>\n",
       "    </tr>\n",
       "    <tr>\n",
       "      <th>10</th>\n",
       "      <td>0</td>\n",
       "      <td>3.0</td>\n",
       "      <td>Unknown</td>\n",
       "      <td>2 years</td>\n",
       "      <td>Domestic Shorthair Mix</td>\n",
       "      <td>Black</td>\n",
       "      <td>2013</td>\n",
       "      <td>12</td>\n",
       "      <td>5</td>\n",
       "    </tr>\n",
       "  </tbody>\n",
       "</table>\n",
       "</div>"
      ],
      "text/plain": [
       "    Name  OutcomeType SexuponOutcome AgeuponOutcome                   Breed  \\\n",
       "1      1          1.0  Spayed Female         1 year  Domestic Shorthair Mix   \n",
       "3      0          3.0    Intact Male        3 weeks  Domestic Shorthair Mix   \n",
       "6      1          3.0    Intact Male        3 weeks  Domestic Shorthair Mix   \n",
       "7      0          3.0        Unknown        3 weeks  Domestic Shorthair Mix   \n",
       "10     0          3.0        Unknown        2 years  Domestic Shorthair Mix   \n",
       "\n",
       "          Color  Year  Month  Day  \n",
       "1   Cream Tabby  2013     10   13  \n",
       "3    Blue Cream  2014      7   11  \n",
       "6    Blue Tabby  2015      3   28  \n",
       "7   Brown Tabby  2015      4   30  \n",
       "10        Black  2013     12    5  "
      ]
     },
     "execution_count": 7,
     "metadata": {},
     "output_type": "execute_result"
    }
   ],
   "source": [
    "# fill in the NaN with 0s\n",
    "animal_df['Name'] = animal_df['Name'].fillna(0)\n",
    "\n",
    "# change names to numeric values\n",
    "for names in animal_df['Name']:\n",
    "    if isinstance(names, str) and not 0:\n",
    "        animal_df['Name'].replace(names, '1', inplace=True)\n",
    "animal_df['Name'] = animal_df['Name'].astype(int)\n",
    "animal_df.dropna(inplace= True)\n",
    "animal_df.head()"
   ]
  },
  {
   "cell_type": "code",
   "execution_count": 8,
   "metadata": {},
   "outputs": [
    {
     "data": {
      "text/html": [
       "<div>\n",
       "<style>\n",
       "    .dataframe thead tr:only-child th {\n",
       "        text-align: right;\n",
       "    }\n",
       "\n",
       "    .dataframe thead th {\n",
       "        text-align: left;\n",
       "    }\n",
       "\n",
       "    .dataframe tbody tr th {\n",
       "        vertical-align: top;\n",
       "    }\n",
       "</style>\n",
       "<table border=\"1\" class=\"dataframe\">\n",
       "  <thead>\n",
       "    <tr style=\"text-align: right;\">\n",
       "      <th></th>\n",
       "      <th>Name</th>\n",
       "      <th>OutcomeType</th>\n",
       "      <th>SexuponOutcome</th>\n",
       "      <th>AgeuponOutcome</th>\n",
       "      <th>Breed</th>\n",
       "      <th>Color</th>\n",
       "      <th>Year</th>\n",
       "      <th>Month</th>\n",
       "      <th>Day</th>\n",
       "    </tr>\n",
       "  </thead>\n",
       "  <tbody>\n",
       "    <tr>\n",
       "      <th>1</th>\n",
       "      <td>1</td>\n",
       "      <td>1.0</td>\n",
       "      <td>Spayed Female</td>\n",
       "      <td>52.0</td>\n",
       "      <td>Domestic Shorthair Mix</td>\n",
       "      <td>Cream Tabby</td>\n",
       "      <td>2013</td>\n",
       "      <td>10</td>\n",
       "      <td>13</td>\n",
       "    </tr>\n",
       "    <tr>\n",
       "      <th>3</th>\n",
       "      <td>0</td>\n",
       "      <td>3.0</td>\n",
       "      <td>Intact Male</td>\n",
       "      <td>3.0</td>\n",
       "      <td>Domestic Shorthair Mix</td>\n",
       "      <td>Blue Cream</td>\n",
       "      <td>2014</td>\n",
       "      <td>7</td>\n",
       "      <td>11</td>\n",
       "    </tr>\n",
       "    <tr>\n",
       "      <th>6</th>\n",
       "      <td>1</td>\n",
       "      <td>3.0</td>\n",
       "      <td>Intact Male</td>\n",
       "      <td>3.0</td>\n",
       "      <td>Domestic Shorthair Mix</td>\n",
       "      <td>Blue Tabby</td>\n",
       "      <td>2015</td>\n",
       "      <td>3</td>\n",
       "      <td>28</td>\n",
       "    </tr>\n",
       "    <tr>\n",
       "      <th>7</th>\n",
       "      <td>0</td>\n",
       "      <td>3.0</td>\n",
       "      <td>Unknown</td>\n",
       "      <td>3.0</td>\n",
       "      <td>Domestic Shorthair Mix</td>\n",
       "      <td>Brown Tabby</td>\n",
       "      <td>2015</td>\n",
       "      <td>4</td>\n",
       "      <td>30</td>\n",
       "    </tr>\n",
       "    <tr>\n",
       "      <th>10</th>\n",
       "      <td>0</td>\n",
       "      <td>3.0</td>\n",
       "      <td>Unknown</td>\n",
       "      <td>104.0</td>\n",
       "      <td>Domestic Shorthair Mix</td>\n",
       "      <td>Black</td>\n",
       "      <td>2013</td>\n",
       "      <td>12</td>\n",
       "      <td>5</td>\n",
       "    </tr>\n",
       "  </tbody>\n",
       "</table>\n",
       "</div>"
      ],
      "text/plain": [
       "    Name  OutcomeType SexuponOutcome  AgeuponOutcome                   Breed  \\\n",
       "1      1          1.0  Spayed Female            52.0  Domestic Shorthair Mix   \n",
       "3      0          3.0    Intact Male             3.0  Domestic Shorthair Mix   \n",
       "6      1          3.0    Intact Male             3.0  Domestic Shorthair Mix   \n",
       "7      0          3.0        Unknown             3.0  Domestic Shorthair Mix   \n",
       "10     0          3.0        Unknown           104.0  Domestic Shorthair Mix   \n",
       "\n",
       "          Color  Year  Month  Day  \n",
       "1   Cream Tabby  2013     10   13  \n",
       "3    Blue Cream  2014      7   11  \n",
       "6    Blue Tabby  2015      3   28  \n",
       "7   Brown Tabby  2015      4   30  \n",
       "10        Black  2013     12    5  "
      ]
     },
     "execution_count": 8,
     "metadata": {},
     "output_type": "execute_result"
    }
   ],
   "source": [
    "#Convert age to weeks\n",
    "def change_year_month_to_weeks(x):\n",
    "    count, parse_age = x.split(\" \")\n",
    "    if parse_age == 'month':\n",
    "        return int(4)\n",
    "    elif parse_age == 'months':\n",
    "        return 4 * int(count)\n",
    "    elif parse_age == 'year':\n",
    "        return int(52)\n",
    "    elif parse_age == 'years':\n",
    "        return 52 * int(count)\n",
    "    elif parse_age == 'week':\n",
    "        return int(count)\n",
    "    elif parse_age == 'weeks':\n",
    "        return int(count)\n",
    "    \n",
    "animal_df['AgeuponOutcome'] = animal_df['AgeuponOutcome'].apply(change_year_month_to_weeks).astype(np.float32)\n",
    "\n",
    "animal_df.head()"
   ]
  },
  {
   "cell_type": "code",
   "execution_count": 9,
   "metadata": {},
   "outputs": [
    {
     "data": {
      "text/plain": [
       "(10970, 220)"
      ]
     },
     "execution_count": 9,
     "metadata": {},
     "output_type": "execute_result"
    }
   ],
   "source": [
    "#ONE HOT ENCODE categorical data\n",
    "to_convert = ['SexuponOutcome', 'Breed', 'Color']\n",
    "\n",
    "for col in to_convert:\n",
    "    dummies = pd.get_dummies(animal_df[col])\n",
    "    animal_df[dummies.columns] = dummies\n",
    "    \n",
    "animal_df.shape"
   ]
  },
  {
   "cell_type": "code",
   "execution_count": 11,
   "metadata": {},
   "outputs": [
    {
     "name": "stdout",
     "output_type": "stream",
     "text": [
      "Name                      0\n",
      "OutcomeType               0\n",
      "SexuponOutcome            0\n",
      "AgeuponOutcome            0\n",
      "Breed                     0\n",
      "Color                     0\n",
      "Year                      0\n",
      "Month                     0\n",
      "Day                       0\n",
      "Intact Female             0\n",
      "Intact Male               0\n",
      "Neutered Male             0\n",
      "Spayed Female             0\n",
      "Unknown                   0\n",
      "Abyssinian Mix            0\n",
      "American Shorthair Mix    0\n",
      "Angora Mix                0\n",
      "Balinese Mix              0\n",
      "Bengal                    0\n",
      "Bengal Mix                0\n",
      "Bombay Mix                0\n",
      "British Shorthair         0\n",
      "British Shorthair Mix     0\n",
      "Burmese                   0\n",
      "Cornish Rex Mix           0\n",
      "Cymric Mix                0\n",
      "Devon Rex                 0\n",
      "Devon Rex Mix             0\n",
      "Domestic Longhair         0\n",
      "Domestic Longhair Mix     0\n",
      "                         ..\n",
      "Tortie Point/White        0\n",
      "Tortie/Black              0\n",
      "Tortie/Black Smoke        0\n",
      "Tortie/Blue Cream         0\n",
      "Tortie/Brown              0\n",
      "Tortie/Calico             0\n",
      "Tortie/Orange             0\n",
      "Tortie/White              0\n",
      "Tricolor                  0\n",
      "Tricolor/Calico           0\n",
      "White                     0\n",
      "White/Black               0\n",
      "White/Black Smoke         0\n",
      "White/Black Tabby         0\n",
      "White/Blue                0\n",
      "White/Blue Tabby          0\n",
      "White/Brown               0\n",
      "White/Brown Tabby         0\n",
      "White/Calico              0\n",
      "White/Chocolate Point     0\n",
      "White/Cream               0\n",
      "White/Cream Tabby         0\n",
      "White/Flame Point         0\n",
      "White/Gray                0\n",
      "White/Gray Tabby          0\n",
      "White/Lynx Point          0\n",
      "White/Orange              0\n",
      "White/Orange Tabby        0\n",
      "White/White               0\n",
      "White/Yellow              0\n",
      "Length: 220, dtype: int64\n"
     ]
    }
   ],
   "source": [
    "animal_df.dropna(inplace = True)\n",
    "\n",
    "#show any null values left\n",
    "print(animal_df.isnull().sum())"
   ]
  },
  {
   "cell_type": "code",
   "execution_count": 12,
   "metadata": {},
   "outputs": [
    {
     "data": {
      "text/plain": [
       "(10670,)"
      ]
     },
     "execution_count": 12,
     "metadata": {},
     "output_type": "execute_result"
    }
   ],
   "source": [
    "y = animal_df['OutcomeType']\n",
    "\n",
    "y.shape"
   ]
  },
  {
   "cell_type": "code",
   "execution_count": 13,
   "metadata": {},
   "outputs": [
    {
     "data": {
      "text/html": [
       "<div>\n",
       "<style>\n",
       "    .dataframe thead tr:only-child th {\n",
       "        text-align: right;\n",
       "    }\n",
       "\n",
       "    .dataframe thead th {\n",
       "        text-align: left;\n",
       "    }\n",
       "\n",
       "    .dataframe tbody tr th {\n",
       "        vertical-align: top;\n",
       "    }\n",
       "</style>\n",
       "<table border=\"1\" class=\"dataframe\">\n",
       "  <thead>\n",
       "    <tr style=\"text-align: right;\">\n",
       "      <th></th>\n",
       "      <th>Name</th>\n",
       "      <th>AgeuponOutcome</th>\n",
       "      <th>Year</th>\n",
       "      <th>Month</th>\n",
       "      <th>Day</th>\n",
       "      <th>Intact Female</th>\n",
       "      <th>Intact Male</th>\n",
       "      <th>Neutered Male</th>\n",
       "      <th>Spayed Female</th>\n",
       "      <th>Unknown</th>\n",
       "      <th>...</th>\n",
       "      <th>White/Cream</th>\n",
       "      <th>White/Cream Tabby</th>\n",
       "      <th>White/Flame Point</th>\n",
       "      <th>White/Gray</th>\n",
       "      <th>White/Gray Tabby</th>\n",
       "      <th>White/Lynx Point</th>\n",
       "      <th>White/Orange</th>\n",
       "      <th>White/Orange Tabby</th>\n",
       "      <th>White/White</th>\n",
       "      <th>White/Yellow</th>\n",
       "    </tr>\n",
       "  </thead>\n",
       "  <tbody>\n",
       "    <tr>\n",
       "      <th>1</th>\n",
       "      <td>1</td>\n",
       "      <td>52.0</td>\n",
       "      <td>2013</td>\n",
       "      <td>10</td>\n",
       "      <td>13</td>\n",
       "      <td>0</td>\n",
       "      <td>0</td>\n",
       "      <td>0</td>\n",
       "      <td>1</td>\n",
       "      <td>0</td>\n",
       "      <td>...</td>\n",
       "      <td>0</td>\n",
       "      <td>0</td>\n",
       "      <td>0</td>\n",
       "      <td>0</td>\n",
       "      <td>0</td>\n",
       "      <td>0</td>\n",
       "      <td>0</td>\n",
       "      <td>0</td>\n",
       "      <td>0</td>\n",
       "      <td>0</td>\n",
       "    </tr>\n",
       "    <tr>\n",
       "      <th>3</th>\n",
       "      <td>0</td>\n",
       "      <td>3.0</td>\n",
       "      <td>2014</td>\n",
       "      <td>7</td>\n",
       "      <td>11</td>\n",
       "      <td>0</td>\n",
       "      <td>1</td>\n",
       "      <td>0</td>\n",
       "      <td>0</td>\n",
       "      <td>0</td>\n",
       "      <td>...</td>\n",
       "      <td>0</td>\n",
       "      <td>0</td>\n",
       "      <td>0</td>\n",
       "      <td>0</td>\n",
       "      <td>0</td>\n",
       "      <td>0</td>\n",
       "      <td>0</td>\n",
       "      <td>0</td>\n",
       "      <td>0</td>\n",
       "      <td>0</td>\n",
       "    </tr>\n",
       "    <tr>\n",
       "      <th>6</th>\n",
       "      <td>1</td>\n",
       "      <td>3.0</td>\n",
       "      <td>2015</td>\n",
       "      <td>3</td>\n",
       "      <td>28</td>\n",
       "      <td>0</td>\n",
       "      <td>1</td>\n",
       "      <td>0</td>\n",
       "      <td>0</td>\n",
       "      <td>0</td>\n",
       "      <td>...</td>\n",
       "      <td>0</td>\n",
       "      <td>0</td>\n",
       "      <td>0</td>\n",
       "      <td>0</td>\n",
       "      <td>0</td>\n",
       "      <td>0</td>\n",
       "      <td>0</td>\n",
       "      <td>0</td>\n",
       "      <td>0</td>\n",
       "      <td>0</td>\n",
       "    </tr>\n",
       "    <tr>\n",
       "      <th>7</th>\n",
       "      <td>0</td>\n",
       "      <td>3.0</td>\n",
       "      <td>2015</td>\n",
       "      <td>4</td>\n",
       "      <td>30</td>\n",
       "      <td>0</td>\n",
       "      <td>0</td>\n",
       "      <td>0</td>\n",
       "      <td>0</td>\n",
       "      <td>1</td>\n",
       "      <td>...</td>\n",
       "      <td>0</td>\n",
       "      <td>0</td>\n",
       "      <td>0</td>\n",
       "      <td>0</td>\n",
       "      <td>0</td>\n",
       "      <td>0</td>\n",
       "      <td>0</td>\n",
       "      <td>0</td>\n",
       "      <td>0</td>\n",
       "      <td>0</td>\n",
       "    </tr>\n",
       "    <tr>\n",
       "      <th>10</th>\n",
       "      <td>0</td>\n",
       "      <td>104.0</td>\n",
       "      <td>2013</td>\n",
       "      <td>12</td>\n",
       "      <td>5</td>\n",
       "      <td>0</td>\n",
       "      <td>0</td>\n",
       "      <td>0</td>\n",
       "      <td>0</td>\n",
       "      <td>1</td>\n",
       "      <td>...</td>\n",
       "      <td>0</td>\n",
       "      <td>0</td>\n",
       "      <td>0</td>\n",
       "      <td>0</td>\n",
       "      <td>0</td>\n",
       "      <td>0</td>\n",
       "      <td>0</td>\n",
       "      <td>0</td>\n",
       "      <td>0</td>\n",
       "      <td>0</td>\n",
       "    </tr>\n",
       "  </tbody>\n",
       "</table>\n",
       "<p>5 rows × 216 columns</p>\n",
       "</div>"
      ],
      "text/plain": [
       "    Name  AgeuponOutcome  Year  Month  Day  Intact Female  Intact Male  \\\n",
       "1      1            52.0  2013     10   13              0            0   \n",
       "3      0             3.0  2014      7   11              0            1   \n",
       "6      1             3.0  2015      3   28              0            1   \n",
       "7      0             3.0  2015      4   30              0            0   \n",
       "10     0           104.0  2013     12    5              0            0   \n",
       "\n",
       "    Neutered Male  Spayed Female  Unknown      ...       White/Cream  \\\n",
       "1               0              1        0      ...                 0   \n",
       "3               0              0        0      ...                 0   \n",
       "6               0              0        0      ...                 0   \n",
       "7               0              0        1      ...                 0   \n",
       "10              0              0        1      ...                 0   \n",
       "\n",
       "    White/Cream Tabby  White/Flame Point  White/Gray  White/Gray Tabby  \\\n",
       "1                   0                  0           0                 0   \n",
       "3                   0                  0           0                 0   \n",
       "6                   0                  0           0                 0   \n",
       "7                   0                  0           0                 0   \n",
       "10                  0                  0           0                 0   \n",
       "\n",
       "    White/Lynx Point  White/Orange  White/Orange Tabby  White/White  \\\n",
       "1                  0             0                   0            0   \n",
       "3                  0             0                   0            0   \n",
       "6                  0             0                   0            0   \n",
       "7                  0             0                   0            0   \n",
       "10                 0             0                   0            0   \n",
       "\n",
       "    White/Yellow  \n",
       "1              0  \n",
       "3              0  \n",
       "6              0  \n",
       "7              0  \n",
       "10             0  \n",
       "\n",
       "[5 rows x 216 columns]"
      ]
     },
     "execution_count": 13,
     "metadata": {},
     "output_type": "execute_result"
    }
   ],
   "source": [
    "# Dropping Non-numerical columns and our label column:\n",
    "animal_df.drop(['SexuponOutcome','OutcomeType','Breed','Color'], axis=1, inplace=True)\n",
    "\n",
    "X = animal_df\n",
    "\n",
    "X.head()"
   ]
  },
  {
   "cell_type": "code",
   "execution_count": 14,
   "metadata": {},
   "outputs": [
    {
     "name": "stdout",
     "output_type": "stream",
     "text": [
      "X_Train size: (8536, 216)\n",
      "y_train size: (8536,)\n",
      "X_Test size: (2134, 216)\n",
      "y_test size: (2134,)\n"
     ]
    }
   ],
   "source": [
    "# Splitting the dataset into testing and training:\n",
    "X_train, X_test, y_train, y_test = train_test_split(X, y, test_size=0.20, random_state=2)\n",
    "\n",
    "print(\"X_Train size: \" + str(X_train.shape))\n",
    "print(\"y_train size: \" + str(y_train.shape))\n",
    "print(\"X_Test size: \" + str(X_test.shape))\n",
    "print(\"y_test size: \" + str(y_test.shape))"
   ]
  },
  {
   "cell_type": "code",
   "execution_count": 15,
   "metadata": {},
   "outputs": [
    {
     "name": "stdout",
     "output_type": "stream",
     "text": [
      "Random Forest accuracy: 0.748359887535\n"
     ]
    }
   ],
   "source": [
    "#Instantiated Random Forest Classifier\n",
    "my_RandomForest = RandomForestClassifier(n_estimators = 19, bootstrap = True, random_state=2)\n",
    "# Training on the training set:\n",
    "my_RandomForest.fit(X_train, y_train)\n",
    "# Testing on the testing set:\n",
    "y_predict_rf = my_RandomForest.predict(X_test)\n",
    "\n",
    "rf_accuracy = accuracy_score(y_test, y_predict_rf)\n",
    "\n",
    "print(\"Random Forest accuracy: \" + str(rf_accuracy))"
   ]
  },
  {
   "cell_type": "code",
   "execution_count": 16,
   "metadata": {},
   "outputs": [
    {
     "name": "stdout",
     "output_type": "stream",
     "text": [
      "Perdictions from Random Forest: \n",
      "[ 3.  3.  3. ...,  2.  3.  3.]\n",
      "As a percent probablity: \n"
     ]
    },
    {
     "data": {
      "text/plain": [
       "array([ 3.,  3.,  3.,  3.,  3.], dtype=float32)"
      ]
     },
     "metadata": {},
     "output_type": "display_data"
    },
    {
     "name": "stdout",
     "output_type": "stream",
     "text": [
      "Log Loss score: 1.56086448987\n"
     ]
    }
   ],
   "source": [
    "# Dont display Numpy in scientific notation\n",
    "np.set_printoptions(precision=4)\n",
    "np.set_printoptions(suppress=True)\n",
    "\n",
    "# Numpy perdictions:\n",
    "\n",
    "get_prob = my_RandomForest.predict_proba(X_test)\n",
    "print(\"Perdictions from Random Forest: \")\n",
    "print(y_predict_rf)\n",
    "\n",
    "print(\"As a percent probablity: \")\n",
    "display(y_predict_rf[0:5])\n",
    "\n",
    "logloss_score = metrics.log_loss(y_test, get_prob)\n",
    "\n",
    "# print(\"Y_test: \" + str(y_test.shape))\n",
    "\n",
    "# print(\"Y_predict: \" + str(y_predict_rf.shape))\n",
    "\n",
    "print(\"Log Loss score: \" + str(logloss_score))"
   ]
  },
  {
   "cell_type": "code",
   "execution_count": 17,
   "metadata": {},
   "outputs": [
    {
     "data": {
      "text/plain": [
       "<matplotlib.text.Text at 0x23e0efbd940>"
      ]
     },
     "execution_count": 17,
     "metadata": {},
     "output_type": "execute_result"
    },
    {
     "data": {
      "image/png": "[encoded data removed]",
      "text/plain": [
       "<matplotlib.figure.Figure at 0x23e0efda128>"
      ]
     },
     "metadata": {},
     "output_type": "display_data"
    }
   ],
   "source": [
    "t = arange(1e-5, 5.0, 0.00001)\n",
    "\n",
    "graph = figure(1, figsize=(12,10))\n",
    "\n",
    "axis = graph.add_subplot(211)\n",
    "\n",
    "axis.plot(t, np.log(t))\n",
    "\n",
    "axis.grid(True)\n",
    "\n",
    "axis.set_ylim(-8,1.5)\n",
    "axis.set_xlim(-0.1,2)\n",
    "axis.set_xlabel('x')\n",
    "axis.set_ylabel('y')\n",
    "axis.set_title('log(x)')"
   ]
  },
  {
   "cell_type": "code",
   "execution_count": 18,
   "metadata": {},
   "outputs": [
    {
     "name": "stdout",
     "output_type": "stream",
     "text": [
      "KNN Accuracy for  1 neighbors 0.674789128397\n",
      "KNN Accuracy for  2 neighbors 0.637300843486\n",
      "KNN Accuracy for  3 neighbors 0.680880974695\n",
      "KNN Accuracy for  4 neighbors 0.687910028116\n",
      "KNN Accuracy for  5 neighbors 0.684629803187\n",
      "KNN Accuracy for  6 neighbors 0.685098406748\n",
      "KNN Accuracy for  7 neighbors 0.691658856607\n",
      "KNN Accuracy for  8 neighbors 0.694001874414\n",
      "KNN Accuracy for  9 neighbors 0.690721649485\n",
      "KNN Accuracy for  10 neighbors 0.688847235239\n"
     ]
    }
   ],
   "source": [
    "# Testing out KNN Classifier on Dog Data up 10 neighbors:\n",
    "for i in range(1, 11):\n",
    "    knn_animal = KNeighborsClassifier(n_neighbors = i)\n",
    "    knn_animal.fit(X_train, y_train)\n",
    "    y_predict_knn = knn_animal.predict(X_test)\n",
    "\n",
    "    knn_accuracy = accuracy_score(y_test, y_predict_knn)\n",
    "\n",
    "    print(\"KNN Accuracy for  \" + str(i) + \" neighbors \" + str(knn_accuracy))"
   ]
  },
  {
   "cell_type": "code",
   "execution_count": 19,
   "metadata": {},
   "outputs": [
    {
     "name": "stdout",
     "output_type": "stream",
     "text": [
      "Decision Tree Accuracy: 0.698687910028\n"
     ]
    }
   ],
   "source": [
    "decision_tree_animal = DecisionTreeClassifier()\n",
    "decision_tree_animal.fit(X_train, y_train)\n",
    "y_predict_decision_tree = decision_tree_animal.predict(X_test)\n",
    "\n",
    "dt_accuracy = accuracy_score(y_test, y_predict_decision_tree)\n",
    "\n",
    "print(\"Decision Tree Accuracy: \" + str(dt_accuracy))"
   ]
  },
  {
   "cell_type": "code",
   "execution_count": 20,
   "metadata": {},
   "outputs": [
    {
     "name": "stdout",
     "output_type": "stream",
     "text": [
      "AdaBoost Classifier Accuracy: 0.740862230553\n"
     ]
    }
   ],
   "source": [
    "my_AdaBoost = AdaBoostClassifier(n_estimators = 19,random_state=2)\n",
    "my_AdaBoost.fit(X_train, y_train)\n",
    "y_predict_ada = my_AdaBoost.predict(X_test)\n",
    "score_ada = accuracy_score(y_test, y_predict_ada)\n",
    "\n",
    "# calculating the final accuracy of AdaBoost Classifier\n",
    "print(\"AdaBoost Classifier Accuracy: \" + str(score_ada))"
   ]
  },
  {
   "cell_type": "code",
   "execution_count": 21,
   "metadata": {},
   "outputs": [
    {
     "name": "stdout",
     "output_type": "stream",
     "text": [
      "ANN Accuracy: 0.748828491097\n"
     ]
    }
   ],
   "source": [
    "my_ANN = MLPClassifier(hidden_layer_sizes=(100,), activation= 'logistic', \n",
    "                       solver='adam', alpha=1e-5, random_state=1, \n",
    "                       learning_rate_init = 0.002)\n",
    "\n",
    "# Training on Training set\n",
    "my_ANN.fit(X_train, y_train)\n",
    "\n",
    "# Testing on the testing set:\n",
    "y_predict_ann = my_ANN.predict(X_test)\n",
    "#print(y_predict_ann)\n",
    "# We can now compare the \"predicted labels\" for the Testing Set with its \"actual labels\" to evaluate the accuracy \n",
    "score_ann = accuracy_score(y_test, y_predict_ann)\n",
    "\n",
    "print(\"ANN Accuracy: \" + str(score_ann))"
   ]
  },
  {
   "cell_type": "code",
   "execution_count": 22,
   "metadata": {},
   "outputs": [
    {
     "name": "stdout",
     "output_type": "stream",
     "text": [
      "Accuracy of Non-Linear SVM: 0.701030927835\n"
     ]
    }
   ],
   "source": [
    "# Instantiating Non_Linear SVM\n",
    "my_nonLinear_SVM = SVC(C=1, kernel='rbf', gamma=0.0005, random_state=1, probability=True)\n",
    "\n",
    "my_nonLinear_SVM.fit (X_train, y_train)\n",
    "\n",
    "# Testing on the testing set:\n",
    "y_predict_nlsvm = my_nonLinear_SVM.predict(X_test)\n",
    "\n",
    "# We can now compare the \"predicted labels\" for the Testing Set with its \"actual labels\" to evaluate the accuracy \n",
    "score_nlsvm = accuracy_score(y_test, y_predict_nlsvm)\n",
    "\n",
    "print(\"Accuracy of Non-Linear SVM: \" + str(score_nlsvm))"
   ]
  },
  {
   "cell_type": "code",
   "execution_count": null,
   "metadata": {
    "collapsed": true
   },
   "outputs": [],
   "source": []
  }
 ],
 "metadata": {
  "kernelspec": {
   "display_name": "Python 3",
   "language": "python",
   "name": "python3"
  },
  "language_info": {
   "codemirror_mode": {
    "name": "ipython",
    "version": 3
   },
   "file_extension": ".py",
   "mimetype": "text/x-python",
   "name": "python",
   "nbconvert_exporter": "python",
   "pygments_lexer": "ipython3",
   "version": "3.6.1"
  }
 },
 "nbformat": 4,
 "nbformat_minor": 2
}
