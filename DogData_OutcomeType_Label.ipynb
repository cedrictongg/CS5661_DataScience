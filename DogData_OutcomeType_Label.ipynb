{
 "cells": [
  {
   "cell_type": "code",
   "execution_count": 1,
   "metadata": {},
   "outputs": [
    {
     "name": "stderr",
     "output_type": "stream",
     "text": [
      "/anaconda3/lib/python3.6/site-packages/sklearn/cross_validation.py:41: DeprecationWarning: This module was deprecated in version 0.18 in favor of the model_selection module into which all the refactored classes and functions are moved. Also note that the interface of the new CV iterators are different from that of this module. This module will be removed in 0.20.\n",
      "  \"This module will be removed in 0.20.\", DeprecationWarning)\n"
     ]
    }
   ],
   "source": [
    "# Importing required libraries \n",
    "\n",
    "%matplotlib inline\n",
    "from sklearn.model_selection import train_test_split\n",
    "from sklearn.neighbors import KNeighborsClassifier \n",
    "from sklearn.metrics import accuracy_score\n",
    "import pandas as pd \n",
    "import numpy as np \n",
    "from sklearn.neural_network import MLPClassifier\n",
    "from sklearn.model_selection import GridSearchCV\n",
    "from sklearn import metrics\n",
    "from sklearn.cross_validation import cross_val_score\n",
    "from sklearn.tree import DecisionTreeClassifier\n",
    "from sklearn.utils import resample\n",
    "from sklearn.ensemble import RandomForestClassifier\n",
    "from sklearn.ensemble import AdaBoostClassifier\n",
    "from IPython.display import display\n",
    "from matplotlib.pyplot import figure, show\n",
    "from numpy import arange, sin, pi\n",
    "from sklearn import preprocessing\n",
    "from sklearn.decomposition import PCA\n",
    "from sklearn.svm import SVC\n",
    "\n"
   ]
  },
  {
   "cell_type": "markdown",
   "metadata": {},
   "source": [
    "# Results on Dog Data using OutcomeType Label:"
   ]
  },
  {
   "cell_type": "markdown",
   "metadata": {},
   "source": [
    "# Reading our Training Set:"
   ]
  },
  {
   "cell_type": "code",
   "execution_count": 2,
   "metadata": {},
   "outputs": [
    {
     "data": {
      "text/html": [
       "<div>\n",
       "<style>\n",
       "    .dataframe thead tr:only-child th {\n",
       "        text-align: right;\n",
       "    }\n",
       "\n",
       "    .dataframe thead th {\n",
       "        text-align: left;\n",
       "    }\n",
       "\n",
       "    .dataframe tbody tr th {\n",
       "        vertical-align: top;\n",
       "    }\n",
       "</style>\n",
       "<table border=\"1\" class=\"dataframe\">\n",
       "  <thead>\n",
       "    <tr style=\"text-align: right;\">\n",
       "      <th></th>\n",
       "      <th>AnimalID</th>\n",
       "      <th>Name</th>\n",
       "      <th>DateTime</th>\n",
       "      <th>OutcomeType</th>\n",
       "      <th>OutcomeSubtype</th>\n",
       "      <th>AnimalType</th>\n",
       "      <th>SexuponOutcome</th>\n",
       "      <th>AgeuponOutcome</th>\n",
       "      <th>Breed</th>\n",
       "      <th>Color</th>\n",
       "    </tr>\n",
       "  </thead>\n",
       "  <tbody>\n",
       "    <tr>\n",
       "      <th>0</th>\n",
       "      <td>A671945</td>\n",
       "      <td>Hambone</td>\n",
       "      <td>2014-02-12 18:22:00</td>\n",
       "      <td>Return_to_owner</td>\n",
       "      <td>NaN</td>\n",
       "      <td>Dog</td>\n",
       "      <td>Neutered Male</td>\n",
       "      <td>1 year</td>\n",
       "      <td>Shetland Sheepdog Mix</td>\n",
       "      <td>Brown/White</td>\n",
       "    </tr>\n",
       "    <tr>\n",
       "      <th>1</th>\n",
       "      <td>A656520</td>\n",
       "      <td>Emily</td>\n",
       "      <td>2013-10-13 12:44:00</td>\n",
       "      <td>Euthanasia</td>\n",
       "      <td>Suffering</td>\n",
       "      <td>Cat</td>\n",
       "      <td>Spayed Female</td>\n",
       "      <td>1 year</td>\n",
       "      <td>Domestic Shorthair Mix</td>\n",
       "      <td>Cream Tabby</td>\n",
       "    </tr>\n",
       "    <tr>\n",
       "      <th>2</th>\n",
       "      <td>A686464</td>\n",
       "      <td>Pearce</td>\n",
       "      <td>2015-01-31 12:28:00</td>\n",
       "      <td>Adoption</td>\n",
       "      <td>Foster</td>\n",
       "      <td>Dog</td>\n",
       "      <td>Neutered Male</td>\n",
       "      <td>2 years</td>\n",
       "      <td>Pit Bull Mix</td>\n",
       "      <td>Blue/White</td>\n",
       "    </tr>\n",
       "    <tr>\n",
       "      <th>3</th>\n",
       "      <td>A683430</td>\n",
       "      <td>NaN</td>\n",
       "      <td>2014-07-11 19:09:00</td>\n",
       "      <td>Transfer</td>\n",
       "      <td>Partner</td>\n",
       "      <td>Cat</td>\n",
       "      <td>Intact Male</td>\n",
       "      <td>3 weeks</td>\n",
       "      <td>Domestic Shorthair Mix</td>\n",
       "      <td>Blue Cream</td>\n",
       "    </tr>\n",
       "    <tr>\n",
       "      <th>4</th>\n",
       "      <td>A667013</td>\n",
       "      <td>NaN</td>\n",
       "      <td>2013-11-15 12:52:00</td>\n",
       "      <td>Transfer</td>\n",
       "      <td>Partner</td>\n",
       "      <td>Dog</td>\n",
       "      <td>Neutered Male</td>\n",
       "      <td>2 years</td>\n",
       "      <td>Lhasa Apso/Miniature Poodle</td>\n",
       "      <td>Tan</td>\n",
       "    </tr>\n",
       "  </tbody>\n",
       "</table>\n",
       "</div>"
      ],
      "text/plain": [
       "  AnimalID     Name             DateTime      OutcomeType OutcomeSubtype  \\\n",
       "0  A671945  Hambone  2014-02-12 18:22:00  Return_to_owner            NaN   \n",
       "1  A656520    Emily  2013-10-13 12:44:00       Euthanasia      Suffering   \n",
       "2  A686464   Pearce  2015-01-31 12:28:00         Adoption         Foster   \n",
       "3  A683430      NaN  2014-07-11 19:09:00         Transfer        Partner   \n",
       "4  A667013      NaN  2013-11-15 12:52:00         Transfer        Partner   \n",
       "\n",
       "  AnimalType SexuponOutcome AgeuponOutcome                        Breed  \\\n",
       "0        Dog  Neutered Male         1 year        Shetland Sheepdog Mix   \n",
       "1        Cat  Spayed Female         1 year       Domestic Shorthair Mix   \n",
       "2        Dog  Neutered Male        2 years                 Pit Bull Mix   \n",
       "3        Cat    Intact Male        3 weeks       Domestic Shorthair Mix   \n",
       "4        Dog  Neutered Male        2 years  Lhasa Apso/Miniature Poodle   \n",
       "\n",
       "         Color  \n",
       "0  Brown/White  \n",
       "1  Cream Tabby  \n",
       "2   Blue/White  \n",
       "3   Blue Cream  \n",
       "4          Tan  "
      ]
     },
     "execution_count": 2,
     "metadata": {},
     "output_type": "execute_result"
    }
   ],
   "source": [
    "animal_df = pd.read_csv('train.csv')\n",
    "\n",
    "# Ignoring Rows with NaN values (to avoid any future issues with implementations)\n",
    "# animal_df.dropna(inplace= True)\n",
    "\n",
    "\n",
    "# print(animal_df.isnull().sum())\n",
    "animal_df.head()\n",
    "\n",
    "# (26729, 10) --> Without ignoring rows with NaNs\n",
    "\n",
    "# (6979, 10) --> Ignoring rows with NaNs\n",
    "\n",
    "# (26729, 6) --> Ingoring columns with NaNs\n",
    "\n",
    "\n",
    "# animal_df.shape\n"
   ]
  },
  {
   "cell_type": "markdown",
   "metadata": {},
   "source": [
    "# Removing Columns we do not need:"
   ]
  },
  {
   "cell_type": "code",
   "execution_count": 3,
   "metadata": {},
   "outputs": [
    {
     "data": {
      "text/html": [
       "<div>\n",
       "<style>\n",
       "    .dataframe thead tr:only-child th {\n",
       "        text-align: right;\n",
       "    }\n",
       "\n",
       "    .dataframe thead th {\n",
       "        text-align: left;\n",
       "    }\n",
       "\n",
       "    .dataframe tbody tr th {\n",
       "        vertical-align: top;\n",
       "    }\n",
       "</style>\n",
       "<table border=\"1\" class=\"dataframe\">\n",
       "  <thead>\n",
       "    <tr style=\"text-align: right;\">\n",
       "      <th></th>\n",
       "      <th>DateTime</th>\n",
       "      <th>OutcomeType</th>\n",
       "      <th>AnimalType</th>\n",
       "      <th>SexuponOutcome</th>\n",
       "      <th>AgeuponOutcome</th>\n",
       "      <th>Breed</th>\n",
       "      <th>Color</th>\n",
       "    </tr>\n",
       "  </thead>\n",
       "  <tbody>\n",
       "    <tr>\n",
       "      <th>0</th>\n",
       "      <td>2014-02-12 18:22:00</td>\n",
       "      <td>Return_to_owner</td>\n",
       "      <td>Dog</td>\n",
       "      <td>Neutered Male</td>\n",
       "      <td>1 year</td>\n",
       "      <td>Shetland Sheepdog Mix</td>\n",
       "      <td>Brown/White</td>\n",
       "    </tr>\n",
       "    <tr>\n",
       "      <th>1</th>\n",
       "      <td>2013-10-13 12:44:00</td>\n",
       "      <td>Euthanasia</td>\n",
       "      <td>Cat</td>\n",
       "      <td>Spayed Female</td>\n",
       "      <td>1 year</td>\n",
       "      <td>Domestic Shorthair Mix</td>\n",
       "      <td>Cream Tabby</td>\n",
       "    </tr>\n",
       "    <tr>\n",
       "      <th>2</th>\n",
       "      <td>2015-01-31 12:28:00</td>\n",
       "      <td>Adoption</td>\n",
       "      <td>Dog</td>\n",
       "      <td>Neutered Male</td>\n",
       "      <td>2 years</td>\n",
       "      <td>Pit Bull Mix</td>\n",
       "      <td>Blue/White</td>\n",
       "    </tr>\n",
       "    <tr>\n",
       "      <th>3</th>\n",
       "      <td>2014-07-11 19:09:00</td>\n",
       "      <td>Transfer</td>\n",
       "      <td>Cat</td>\n",
       "      <td>Intact Male</td>\n",
       "      <td>3 weeks</td>\n",
       "      <td>Domestic Shorthair Mix</td>\n",
       "      <td>Blue Cream</td>\n",
       "    </tr>\n",
       "    <tr>\n",
       "      <th>4</th>\n",
       "      <td>2013-11-15 12:52:00</td>\n",
       "      <td>Transfer</td>\n",
       "      <td>Dog</td>\n",
       "      <td>Neutered Male</td>\n",
       "      <td>2 years</td>\n",
       "      <td>Lhasa Apso/Miniature Poodle</td>\n",
       "      <td>Tan</td>\n",
       "    </tr>\n",
       "  </tbody>\n",
       "</table>\n",
       "</div>"
      ],
      "text/plain": [
       "              DateTime      OutcomeType AnimalType SexuponOutcome  \\\n",
       "0  2014-02-12 18:22:00  Return_to_owner        Dog  Neutered Male   \n",
       "1  2013-10-13 12:44:00       Euthanasia        Cat  Spayed Female   \n",
       "2  2015-01-31 12:28:00         Adoption        Dog  Neutered Male   \n",
       "3  2014-07-11 19:09:00         Transfer        Cat    Intact Male   \n",
       "4  2013-11-15 12:52:00         Transfer        Dog  Neutered Male   \n",
       "\n",
       "  AgeuponOutcome                        Breed        Color  \n",
       "0         1 year        Shetland Sheepdog Mix  Brown/White  \n",
       "1         1 year       Domestic Shorthair Mix  Cream Tabby  \n",
       "2        2 years                 Pit Bull Mix   Blue/White  \n",
       "3        3 weeks       Domestic Shorthair Mix   Blue Cream  \n",
       "4        2 years  Lhasa Apso/Miniature Poodle          Tan  "
      ]
     },
     "execution_count": 3,
     "metadata": {},
     "output_type": "execute_result"
    }
   ],
   "source": [
    "animal_df.drop(['AnimalID','Name','OutcomeSubtype'], axis=1, inplace=True)\n",
    "\n",
    "\n",
    "animal_df.dropna(inplace= True)\n",
    "\n",
    "# animal_df.shape\n",
    "\n",
    "# (26710, 7) --> Size of Data when ignoring columns with most NaNs but also ignoring rows with NaNs thus \n",
    "# we're able to keep most of our data \n",
    "\n",
    "# print(animal_df.isnull().sum())\n",
    "\n",
    "# df = df[~df['your column'].isin(['list of strings'])]\n",
    "\n",
    "\n",
    "# animal_df.shape\n",
    "animal_df.head()"
   ]
  },
  {
   "cell_type": "markdown",
   "metadata": {},
   "source": [
    "# Will be setting up our Data and  Predictions based on DOGS only:"
   ]
  },
  {
   "cell_type": "code",
   "execution_count": 4,
   "metadata": {},
   "outputs": [
    {
     "data": {
      "text/html": [
       "<div>\n",
       "<style>\n",
       "    .dataframe thead tr:only-child th {\n",
       "        text-align: right;\n",
       "    }\n",
       "\n",
       "    .dataframe thead th {\n",
       "        text-align: left;\n",
       "    }\n",
       "\n",
       "    .dataframe tbody tr th {\n",
       "        vertical-align: top;\n",
       "    }\n",
       "</style>\n",
       "<table border=\"1\" class=\"dataframe\">\n",
       "  <thead>\n",
       "    <tr style=\"text-align: right;\">\n",
       "      <th></th>\n",
       "      <th>DateTime</th>\n",
       "      <th>OutcomeType</th>\n",
       "      <th>AnimalType</th>\n",
       "      <th>SexuponOutcome</th>\n",
       "      <th>AgeuponOutcome</th>\n",
       "      <th>Breed</th>\n",
       "      <th>Color</th>\n",
       "    </tr>\n",
       "  </thead>\n",
       "  <tbody>\n",
       "    <tr>\n",
       "      <th>0</th>\n",
       "      <td>2014-02-12 18:22:00</td>\n",
       "      <td>Return_to_owner</td>\n",
       "      <td>Dog</td>\n",
       "      <td>Neutered Male</td>\n",
       "      <td>1 year</td>\n",
       "      <td>Shetland Sheepdog Mix</td>\n",
       "      <td>Brown/White</td>\n",
       "    </tr>\n",
       "    <tr>\n",
       "      <th>2</th>\n",
       "      <td>2015-01-31 12:28:00</td>\n",
       "      <td>Adoption</td>\n",
       "      <td>Dog</td>\n",
       "      <td>Neutered Male</td>\n",
       "      <td>2 years</td>\n",
       "      <td>Pit Bull Mix</td>\n",
       "      <td>Blue/White</td>\n",
       "    </tr>\n",
       "    <tr>\n",
       "      <th>4</th>\n",
       "      <td>2013-11-15 12:52:00</td>\n",
       "      <td>Transfer</td>\n",
       "      <td>Dog</td>\n",
       "      <td>Neutered Male</td>\n",
       "      <td>2 years</td>\n",
       "      <td>Lhasa Apso/Miniature Poodle</td>\n",
       "      <td>Tan</td>\n",
       "    </tr>\n",
       "    <tr>\n",
       "      <th>5</th>\n",
       "      <td>2014-04-25 13:04:00</td>\n",
       "      <td>Transfer</td>\n",
       "      <td>Dog</td>\n",
       "      <td>Intact Female</td>\n",
       "      <td>1 month</td>\n",
       "      <td>Cairn Terrier/Chihuahua Shorthair</td>\n",
       "      <td>Black/Tan</td>\n",
       "    </tr>\n",
       "    <tr>\n",
       "      <th>8</th>\n",
       "      <td>2014-02-04 17:17:00</td>\n",
       "      <td>Adoption</td>\n",
       "      <td>Dog</td>\n",
       "      <td>Spayed Female</td>\n",
       "      <td>5 months</td>\n",
       "      <td>American Pit Bull Terrier Mix</td>\n",
       "      <td>Red/White</td>\n",
       "    </tr>\n",
       "  </tbody>\n",
       "</table>\n",
       "</div>"
      ],
      "text/plain": [
       "              DateTime      OutcomeType AnimalType SexuponOutcome  \\\n",
       "0  2014-02-12 18:22:00  Return_to_owner        Dog  Neutered Male   \n",
       "2  2015-01-31 12:28:00         Adoption        Dog  Neutered Male   \n",
       "4  2013-11-15 12:52:00         Transfer        Dog  Neutered Male   \n",
       "5  2014-04-25 13:04:00         Transfer        Dog  Intact Female   \n",
       "8  2014-02-04 17:17:00         Adoption        Dog  Spayed Female   \n",
       "\n",
       "  AgeuponOutcome                              Breed        Color  \n",
       "0         1 year              Shetland Sheepdog Mix  Brown/White  \n",
       "2        2 years                       Pit Bull Mix   Blue/White  \n",
       "4        2 years        Lhasa Apso/Miniature Poodle          Tan  \n",
       "5        1 month  Cairn Terrier/Chihuahua Shorthair    Black/Tan  \n",
       "8       5 months      American Pit Bull Terrier Mix    Red/White  "
      ]
     },
     "execution_count": 4,
     "metadata": {},
     "output_type": "execute_result"
    }
   ],
   "source": [
    "# Ignoring every row that contains 'Cat'\n",
    "\n",
    "animal_df = animal_df[~animal_df['AnimalType'].isin(['Cat'])]\n",
    "\n",
    "# animal_df.shape\n",
    "\n",
    "# (15593, 7) --> size of data when ignoring rows that contain 'Cat'\n",
    "\n",
    "animal_df.head()"
   ]
  },
  {
   "cell_type": "markdown",
   "metadata": {},
   "source": [
    "# Converting our Label Vector from Categorical to numerical:"
   ]
  },
  {
   "cell_type": "code",
   "execution_count": 5,
   "metadata": {},
   "outputs": [
    {
     "data": {
      "text/html": [
       "<div>\n",
       "<style>\n",
       "    .dataframe thead tr:only-child th {\n",
       "        text-align: right;\n",
       "    }\n",
       "\n",
       "    .dataframe thead th {\n",
       "        text-align: left;\n",
       "    }\n",
       "\n",
       "    .dataframe tbody tr th {\n",
       "        vertical-align: top;\n",
       "    }\n",
       "</style>\n",
       "<table border=\"1\" class=\"dataframe\">\n",
       "  <thead>\n",
       "    <tr style=\"text-align: right;\">\n",
       "      <th></th>\n",
       "      <th>DateTime</th>\n",
       "      <th>OutcomeType</th>\n",
       "      <th>AnimalType</th>\n",
       "      <th>SexuponOutcome</th>\n",
       "      <th>AgeuponOutcome</th>\n",
       "      <th>Breed</th>\n",
       "      <th>Color</th>\n",
       "    </tr>\n",
       "  </thead>\n",
       "  <tbody>\n",
       "    <tr>\n",
       "      <th>0</th>\n",
       "      <td>2014-02-12 18:22:00</td>\n",
       "      <td>0.0</td>\n",
       "      <td>Dog</td>\n",
       "      <td>Neutered Male</td>\n",
       "      <td>1 year</td>\n",
       "      <td>Shetland Sheepdog Mix</td>\n",
       "      <td>Brown/White</td>\n",
       "    </tr>\n",
       "    <tr>\n",
       "      <th>2</th>\n",
       "      <td>2015-01-31 12:28:00</td>\n",
       "      <td>2.0</td>\n",
       "      <td>Dog</td>\n",
       "      <td>Neutered Male</td>\n",
       "      <td>2 years</td>\n",
       "      <td>Pit Bull Mix</td>\n",
       "      <td>Blue/White</td>\n",
       "    </tr>\n",
       "    <tr>\n",
       "      <th>4</th>\n",
       "      <td>2013-11-15 12:52:00</td>\n",
       "      <td>3.0</td>\n",
       "      <td>Dog</td>\n",
       "      <td>Neutered Male</td>\n",
       "      <td>2 years</td>\n",
       "      <td>Lhasa Apso/Miniature Poodle</td>\n",
       "      <td>Tan</td>\n",
       "    </tr>\n",
       "    <tr>\n",
       "      <th>5</th>\n",
       "      <td>2014-04-25 13:04:00</td>\n",
       "      <td>3.0</td>\n",
       "      <td>Dog</td>\n",
       "      <td>Intact Female</td>\n",
       "      <td>1 month</td>\n",
       "      <td>Cairn Terrier/Chihuahua Shorthair</td>\n",
       "      <td>Black/Tan</td>\n",
       "    </tr>\n",
       "    <tr>\n",
       "      <th>8</th>\n",
       "      <td>2014-02-04 17:17:00</td>\n",
       "      <td>2.0</td>\n",
       "      <td>Dog</td>\n",
       "      <td>Spayed Female</td>\n",
       "      <td>5 months</td>\n",
       "      <td>American Pit Bull Terrier Mix</td>\n",
       "      <td>Red/White</td>\n",
       "    </tr>\n",
       "  </tbody>\n",
       "</table>\n",
       "</div>"
      ],
      "text/plain": [
       "              DateTime  OutcomeType AnimalType SexuponOutcome AgeuponOutcome  \\\n",
       "0  2014-02-12 18:22:00          0.0        Dog  Neutered Male         1 year   \n",
       "2  2015-01-31 12:28:00          2.0        Dog  Neutered Male        2 years   \n",
       "4  2013-11-15 12:52:00          3.0        Dog  Neutered Male        2 years   \n",
       "5  2014-04-25 13:04:00          3.0        Dog  Intact Female        1 month   \n",
       "8  2014-02-04 17:17:00          2.0        Dog  Spayed Female       5 months   \n",
       "\n",
       "                               Breed        Color  \n",
       "0              Shetland Sheepdog Mix  Brown/White  \n",
       "2                       Pit Bull Mix   Blue/White  \n",
       "4        Lhasa Apso/Miniature Poodle          Tan  \n",
       "5  Cairn Terrier/Chihuahua Shorthair    Black/Tan  \n",
       "8      American Pit Bull Terrier Mix    Red/White  "
      ]
     },
     "execution_count": 5,
     "metadata": {},
     "output_type": "execute_result"
    }
   ],
   "source": [
    "# Giving numerical values to our label\n",
    "def categorical_to_numeric(x):\n",
    "    if x == 'Return_to_owner':\n",
    "        return 0\n",
    "    elif x == 'Euthanasia':\n",
    "        return 1\n",
    "    elif x == 'Adoption':\n",
    "        return 2\n",
    "    elif x == 'Transfer':\n",
    "        return 3\n",
    "    \n",
    "animal_df['OutcomeType'] = animal_df['OutcomeType'].apply(categorical_to_numeric).astype(np.float32)\n",
    "\n",
    "\n",
    "animal_df.dropna(inplace= True)\n",
    "\n",
    "# animal_df.shape\n",
    "\n",
    "# (26513, 7) --> Size of Data when removing rows with NaNs from our OutCometype Column\n",
    "\n",
    "# print(animal_df.isnull().sum())\n",
    "\n",
    "animal_df.head()"
   ]
  },
  {
   "cell_type": "markdown",
   "metadata": {},
   "source": [
    "# Converting our DateTime Column to Year, Month, Day:"
   ]
  },
  {
   "cell_type": "code",
   "execution_count": 6,
   "metadata": {},
   "outputs": [
    {
     "data": {
      "text/html": [
       "<div>\n",
       "<style>\n",
       "    .dataframe thead tr:only-child th {\n",
       "        text-align: right;\n",
       "    }\n",
       "\n",
       "    .dataframe thead th {\n",
       "        text-align: left;\n",
       "    }\n",
       "\n",
       "    .dataframe tbody tr th {\n",
       "        vertical-align: top;\n",
       "    }\n",
       "</style>\n",
       "<table border=\"1\" class=\"dataframe\">\n",
       "  <thead>\n",
       "    <tr style=\"text-align: right;\">\n",
       "      <th></th>\n",
       "      <th>OutcomeType</th>\n",
       "      <th>AnimalType</th>\n",
       "      <th>SexuponOutcome</th>\n",
       "      <th>AgeuponOutcome</th>\n",
       "      <th>Breed</th>\n",
       "      <th>Color</th>\n",
       "      <th>Year</th>\n",
       "      <th>Month</th>\n",
       "      <th>Day</th>\n",
       "    </tr>\n",
       "  </thead>\n",
       "  <tbody>\n",
       "    <tr>\n",
       "      <th>0</th>\n",
       "      <td>0.0</td>\n",
       "      <td>Dog</td>\n",
       "      <td>Neutered Male</td>\n",
       "      <td>1 year</td>\n",
       "      <td>Shetland Sheepdog Mix</td>\n",
       "      <td>Brown/White</td>\n",
       "      <td>2014</td>\n",
       "      <td>2</td>\n",
       "      <td>12</td>\n",
       "    </tr>\n",
       "    <tr>\n",
       "      <th>2</th>\n",
       "      <td>2.0</td>\n",
       "      <td>Dog</td>\n",
       "      <td>Neutered Male</td>\n",
       "      <td>2 years</td>\n",
       "      <td>Pit Bull Mix</td>\n",
       "      <td>Blue/White</td>\n",
       "      <td>2015</td>\n",
       "      <td>1</td>\n",
       "      <td>31</td>\n",
       "    </tr>\n",
       "    <tr>\n",
       "      <th>4</th>\n",
       "      <td>3.0</td>\n",
       "      <td>Dog</td>\n",
       "      <td>Neutered Male</td>\n",
       "      <td>2 years</td>\n",
       "      <td>Lhasa Apso/Miniature Poodle</td>\n",
       "      <td>Tan</td>\n",
       "      <td>2013</td>\n",
       "      <td>11</td>\n",
       "      <td>15</td>\n",
       "    </tr>\n",
       "    <tr>\n",
       "      <th>5</th>\n",
       "      <td>3.0</td>\n",
       "      <td>Dog</td>\n",
       "      <td>Intact Female</td>\n",
       "      <td>1 month</td>\n",
       "      <td>Cairn Terrier/Chihuahua Shorthair</td>\n",
       "      <td>Black/Tan</td>\n",
       "      <td>2014</td>\n",
       "      <td>4</td>\n",
       "      <td>25</td>\n",
       "    </tr>\n",
       "    <tr>\n",
       "      <th>8</th>\n",
       "      <td>2.0</td>\n",
       "      <td>Dog</td>\n",
       "      <td>Spayed Female</td>\n",
       "      <td>5 months</td>\n",
       "      <td>American Pit Bull Terrier Mix</td>\n",
       "      <td>Red/White</td>\n",
       "      <td>2014</td>\n",
       "      <td>2</td>\n",
       "      <td>4</td>\n",
       "    </tr>\n",
       "  </tbody>\n",
       "</table>\n",
       "</div>"
      ],
      "text/plain": [
       "   OutcomeType AnimalType SexuponOutcome AgeuponOutcome  \\\n",
       "0          0.0        Dog  Neutered Male         1 year   \n",
       "2          2.0        Dog  Neutered Male        2 years   \n",
       "4          3.0        Dog  Neutered Male        2 years   \n",
       "5          3.0        Dog  Intact Female        1 month   \n",
       "8          2.0        Dog  Spayed Female       5 months   \n",
       "\n",
       "                               Breed        Color  Year  Month  Day  \n",
       "0              Shetland Sheepdog Mix  Brown/White  2014      2   12  \n",
       "2                       Pit Bull Mix   Blue/White  2015      1   31  \n",
       "4        Lhasa Apso/Miniature Poodle          Tan  2013     11   15  \n",
       "5  Cairn Terrier/Chihuahua Shorthair    Black/Tan  2014      4   25  \n",
       "8      American Pit Bull Terrier Mix    Red/White  2014      2    4  "
      ]
     },
     "execution_count": 6,
     "metadata": {},
     "output_type": "execute_result"
    }
   ],
   "source": [
    "datetime = pd.to_datetime(animal_df['DateTime']).dt\n",
    "animal_df['Year'] = datetime.year\n",
    "animal_df['Month'] = datetime.month\n",
    "animal_df['Day'] = datetime.day\n",
    "animal_df.drop(['DateTime'], axis=1, inplace=True)\n",
    "\n",
    "animal_df.head()"
   ]
  },
  {
   "cell_type": "markdown",
   "metadata": {},
   "source": [
    "# Converting AgeUponOutcome to total number of weeks:"
   ]
  },
  {
   "cell_type": "code",
   "execution_count": 7,
   "metadata": {},
   "outputs": [
    {
     "data": {
      "text/html": [
       "<div>\n",
       "<style>\n",
       "    .dataframe thead tr:only-child th {\n",
       "        text-align: right;\n",
       "    }\n",
       "\n",
       "    .dataframe thead th {\n",
       "        text-align: left;\n",
       "    }\n",
       "\n",
       "    .dataframe tbody tr th {\n",
       "        vertical-align: top;\n",
       "    }\n",
       "</style>\n",
       "<table border=\"1\" class=\"dataframe\">\n",
       "  <thead>\n",
       "    <tr style=\"text-align: right;\">\n",
       "      <th></th>\n",
       "      <th>OutcomeType</th>\n",
       "      <th>AnimalType</th>\n",
       "      <th>SexuponOutcome</th>\n",
       "      <th>AgeuponOutcome</th>\n",
       "      <th>Breed</th>\n",
       "      <th>Color</th>\n",
       "      <th>Year</th>\n",
       "      <th>Month</th>\n",
       "      <th>Day</th>\n",
       "    </tr>\n",
       "  </thead>\n",
       "  <tbody>\n",
       "    <tr>\n",
       "      <th>0</th>\n",
       "      <td>0.0</td>\n",
       "      <td>Dog</td>\n",
       "      <td>Neutered Male</td>\n",
       "      <td>52.0</td>\n",
       "      <td>Shetland Sheepdog Mix</td>\n",
       "      <td>Brown/White</td>\n",
       "      <td>2014</td>\n",
       "      <td>2</td>\n",
       "      <td>12</td>\n",
       "    </tr>\n",
       "    <tr>\n",
       "      <th>2</th>\n",
       "      <td>2.0</td>\n",
       "      <td>Dog</td>\n",
       "      <td>Neutered Male</td>\n",
       "      <td>104.0</td>\n",
       "      <td>Pit Bull Mix</td>\n",
       "      <td>Blue/White</td>\n",
       "      <td>2015</td>\n",
       "      <td>1</td>\n",
       "      <td>31</td>\n",
       "    </tr>\n",
       "    <tr>\n",
       "      <th>4</th>\n",
       "      <td>3.0</td>\n",
       "      <td>Dog</td>\n",
       "      <td>Neutered Male</td>\n",
       "      <td>104.0</td>\n",
       "      <td>Lhasa Apso/Miniature Poodle</td>\n",
       "      <td>Tan</td>\n",
       "      <td>2013</td>\n",
       "      <td>11</td>\n",
       "      <td>15</td>\n",
       "    </tr>\n",
       "    <tr>\n",
       "      <th>5</th>\n",
       "      <td>3.0</td>\n",
       "      <td>Dog</td>\n",
       "      <td>Intact Female</td>\n",
       "      <td>4.0</td>\n",
       "      <td>Cairn Terrier/Chihuahua Shorthair</td>\n",
       "      <td>Black/Tan</td>\n",
       "      <td>2014</td>\n",
       "      <td>4</td>\n",
       "      <td>25</td>\n",
       "    </tr>\n",
       "    <tr>\n",
       "      <th>8</th>\n",
       "      <td>2.0</td>\n",
       "      <td>Dog</td>\n",
       "      <td>Spayed Female</td>\n",
       "      <td>20.0</td>\n",
       "      <td>American Pit Bull Terrier Mix</td>\n",
       "      <td>Red/White</td>\n",
       "      <td>2014</td>\n",
       "      <td>2</td>\n",
       "      <td>4</td>\n",
       "    </tr>\n",
       "  </tbody>\n",
       "</table>\n",
       "</div>"
      ],
      "text/plain": [
       "   OutcomeType AnimalType SexuponOutcome  AgeuponOutcome  \\\n",
       "0          0.0        Dog  Neutered Male            52.0   \n",
       "2          2.0        Dog  Neutered Male           104.0   \n",
       "4          3.0        Dog  Neutered Male           104.0   \n",
       "5          3.0        Dog  Intact Female             4.0   \n",
       "8          2.0        Dog  Spayed Female            20.0   \n",
       "\n",
       "                               Breed        Color  Year  Month  Day  \n",
       "0              Shetland Sheepdog Mix  Brown/White  2014      2   12  \n",
       "2                       Pit Bull Mix   Blue/White  2015      1   31  \n",
       "4        Lhasa Apso/Miniature Poodle          Tan  2013     11   15  \n",
       "5  Cairn Terrier/Chihuahua Shorthair    Black/Tan  2014      4   25  \n",
       "8      American Pit Bull Terrier Mix    Red/White  2014      2    4  "
      ]
     },
     "execution_count": 7,
     "metadata": {},
     "output_type": "execute_result"
    }
   ],
   "source": [
    "def change_year_month_to_weeks(x):\n",
    "    count, parse_age = x.split(\" \")\n",
    "    if parse_age == 'month':\n",
    "        return int(4)\n",
    "    elif parse_age == 'months':\n",
    "        return 4 * int(count)\n",
    "    elif parse_age == 'year':\n",
    "        return int(52)\n",
    "    elif parse_age == 'years':\n",
    "        return 52 * int(count)\n",
    "    elif parse_age == 'week':\n",
    "        return int(count)\n",
    "    elif parse_age == 'weeks':\n",
    "        return int(count)\n",
    "    \n",
    "animal_df['AgeuponOutcome'] = animal_df['AgeuponOutcome'].apply(change_year_month_to_weeks).astype(np.float32)\n",
    "\n",
    "animal_df.head()"
   ]
  },
  {
   "cell_type": "markdown",
   "metadata": {},
   "source": [
    "# Using One-Hot Encoding on our categorical features:"
   ]
  },
  {
   "cell_type": "code",
   "execution_count": 8,
   "metadata": {},
   "outputs": [
    {
     "data": {
      "text/html": [
       "<div>\n",
       "<style>\n",
       "    .dataframe thead tr:only-child th {\n",
       "        text-align: right;\n",
       "    }\n",
       "\n",
       "    .dataframe thead th {\n",
       "        text-align: left;\n",
       "    }\n",
       "\n",
       "    .dataframe tbody tr th {\n",
       "        vertical-align: top;\n",
       "    }\n",
       "</style>\n",
       "<table border=\"1\" class=\"dataframe\">\n",
       "  <thead>\n",
       "    <tr style=\"text-align: right;\">\n",
       "      <th></th>\n",
       "      <th>OutcomeType</th>\n",
       "      <th>AnimalType</th>\n",
       "      <th>SexuponOutcome</th>\n",
       "      <th>AgeuponOutcome</th>\n",
       "      <th>Breed</th>\n",
       "      <th>Color</th>\n",
       "      <th>Year</th>\n",
       "      <th>Month</th>\n",
       "      <th>Day</th>\n",
       "      <th>Dog</th>\n",
       "      <th>...</th>\n",
       "      <th>Yellow Brindle/Tan</th>\n",
       "      <th>Yellow Brindle/White</th>\n",
       "      <th>Yellow/Black</th>\n",
       "      <th>Yellow/White</th>\n",
       "      <th>Yellow/Yellow</th>\n",
       "      <th>Intact Female</th>\n",
       "      <th>Intact Male</th>\n",
       "      <th>Neutered Male</th>\n",
       "      <th>Spayed Female</th>\n",
       "      <th>Unknown</th>\n",
       "    </tr>\n",
       "  </thead>\n",
       "  <tbody>\n",
       "    <tr>\n",
       "      <th>0</th>\n",
       "      <td>0.0</td>\n",
       "      <td>Dog</td>\n",
       "      <td>Neutered Male</td>\n",
       "      <td>52.0</td>\n",
       "      <td>Shetland Sheepdog Mix</td>\n",
       "      <td>Brown/White</td>\n",
       "      <td>2014</td>\n",
       "      <td>2</td>\n",
       "      <td>12</td>\n",
       "      <td>1</td>\n",
       "      <td>...</td>\n",
       "      <td>0</td>\n",
       "      <td>0</td>\n",
       "      <td>0</td>\n",
       "      <td>0</td>\n",
       "      <td>0</td>\n",
       "      <td>0</td>\n",
       "      <td>0</td>\n",
       "      <td>1</td>\n",
       "      <td>0</td>\n",
       "      <td>0</td>\n",
       "    </tr>\n",
       "    <tr>\n",
       "      <th>2</th>\n",
       "      <td>2.0</td>\n",
       "      <td>Dog</td>\n",
       "      <td>Neutered Male</td>\n",
       "      <td>104.0</td>\n",
       "      <td>Pit Bull Mix</td>\n",
       "      <td>Blue/White</td>\n",
       "      <td>2015</td>\n",
       "      <td>1</td>\n",
       "      <td>31</td>\n",
       "      <td>1</td>\n",
       "      <td>...</td>\n",
       "      <td>0</td>\n",
       "      <td>0</td>\n",
       "      <td>0</td>\n",
       "      <td>0</td>\n",
       "      <td>0</td>\n",
       "      <td>0</td>\n",
       "      <td>0</td>\n",
       "      <td>1</td>\n",
       "      <td>0</td>\n",
       "      <td>0</td>\n",
       "    </tr>\n",
       "    <tr>\n",
       "      <th>4</th>\n",
       "      <td>3.0</td>\n",
       "      <td>Dog</td>\n",
       "      <td>Neutered Male</td>\n",
       "      <td>104.0</td>\n",
       "      <td>Lhasa Apso/Miniature Poodle</td>\n",
       "      <td>Tan</td>\n",
       "      <td>2013</td>\n",
       "      <td>11</td>\n",
       "      <td>15</td>\n",
       "      <td>1</td>\n",
       "      <td>...</td>\n",
       "      <td>0</td>\n",
       "      <td>0</td>\n",
       "      <td>0</td>\n",
       "      <td>0</td>\n",
       "      <td>0</td>\n",
       "      <td>0</td>\n",
       "      <td>0</td>\n",
       "      <td>1</td>\n",
       "      <td>0</td>\n",
       "      <td>0</td>\n",
       "    </tr>\n",
       "    <tr>\n",
       "      <th>5</th>\n",
       "      <td>3.0</td>\n",
       "      <td>Dog</td>\n",
       "      <td>Intact Female</td>\n",
       "      <td>4.0</td>\n",
       "      <td>Cairn Terrier/Chihuahua Shorthair</td>\n",
       "      <td>Black/Tan</td>\n",
       "      <td>2014</td>\n",
       "      <td>4</td>\n",
       "      <td>25</td>\n",
       "      <td>1</td>\n",
       "      <td>...</td>\n",
       "      <td>0</td>\n",
       "      <td>0</td>\n",
       "      <td>0</td>\n",
       "      <td>0</td>\n",
       "      <td>0</td>\n",
       "      <td>1</td>\n",
       "      <td>0</td>\n",
       "      <td>0</td>\n",
       "      <td>0</td>\n",
       "      <td>0</td>\n",
       "    </tr>\n",
       "    <tr>\n",
       "      <th>8</th>\n",
       "      <td>2.0</td>\n",
       "      <td>Dog</td>\n",
       "      <td>Spayed Female</td>\n",
       "      <td>20.0</td>\n",
       "      <td>American Pit Bull Terrier Mix</td>\n",
       "      <td>Red/White</td>\n",
       "      <td>2014</td>\n",
       "      <td>2</td>\n",
       "      <td>4</td>\n",
       "      <td>1</td>\n",
       "      <td>...</td>\n",
       "      <td>0</td>\n",
       "      <td>0</td>\n",
       "      <td>0</td>\n",
       "      <td>0</td>\n",
       "      <td>0</td>\n",
       "      <td>0</td>\n",
       "      <td>0</td>\n",
       "      <td>0</td>\n",
       "      <td>1</td>\n",
       "      <td>0</td>\n",
       "    </tr>\n",
       "  </tbody>\n",
       "</table>\n",
       "<p>5 rows × 1596 columns</p>\n",
       "</div>"
      ],
      "text/plain": [
       "   OutcomeType AnimalType SexuponOutcome  AgeuponOutcome  \\\n",
       "0          0.0        Dog  Neutered Male            52.0   \n",
       "2          2.0        Dog  Neutered Male           104.0   \n",
       "4          3.0        Dog  Neutered Male           104.0   \n",
       "5          3.0        Dog  Intact Female             4.0   \n",
       "8          2.0        Dog  Spayed Female            20.0   \n",
       "\n",
       "                               Breed        Color  Year  Month  Day  Dog  \\\n",
       "0              Shetland Sheepdog Mix  Brown/White  2014      2   12    1   \n",
       "2                       Pit Bull Mix   Blue/White  2015      1   31    1   \n",
       "4        Lhasa Apso/Miniature Poodle          Tan  2013     11   15    1   \n",
       "5  Cairn Terrier/Chihuahua Shorthair    Black/Tan  2014      4   25    1   \n",
       "8      American Pit Bull Terrier Mix    Red/White  2014      2    4    1   \n",
       "\n",
       "    ...     Yellow Brindle/Tan  Yellow Brindle/White  Yellow/Black  \\\n",
       "0   ...                      0                     0             0   \n",
       "2   ...                      0                     0             0   \n",
       "4   ...                      0                     0             0   \n",
       "5   ...                      0                     0             0   \n",
       "8   ...                      0                     0             0   \n",
       "\n",
       "   Yellow/White  Yellow/Yellow  Intact Female  Intact Male  Neutered Male  \\\n",
       "0             0              0              0            0              1   \n",
       "2             0              0              0            0              1   \n",
       "4             0              0              0            0              1   \n",
       "5             0              0              1            0              0   \n",
       "8             0              0              0            0              0   \n",
       "\n",
       "   Spayed Female  Unknown  \n",
       "0              0        0  \n",
       "2              0        0  \n",
       "4              0        0  \n",
       "5              0        0  \n",
       "8              1        0  \n",
       "\n",
       "[5 rows x 1596 columns]"
      ]
     },
     "execution_count": 8,
     "metadata": {},
     "output_type": "execute_result"
    }
   ],
   "source": [
    "#Used OneHotEncoding on Non-Numerical Features\n",
    "\n",
    "list_nonNumerical = ['AnimalType','Breed','Color','SexuponOutcome']\n",
    "\n",
    "for column in list_nonNumerical:\n",
    "    dummies = pd.get_dummies(animal_df[column])\n",
    "    animal_df[dummies.columns] = dummies\n",
    "    \n",
    "oneHotEncoding_features = animal_df\n",
    "\n",
    "# (26729, 31081) --> Without Ignoring Rows with NaNs (After OneHotEncoding)\n",
    "\n",
    "# (6979, 10211) --> Ignoring Rows with NaNs (After OneHotEncoding)\n",
    "\n",
    "# (26729, 1755) --> Ignoring Columns with NaNs (After OneHotEncoding)\n",
    "\n",
    "\n",
    "# #get first 5 rows of new table\n",
    "\n",
    "oneHotEncoding_features.head()\n",
    "\n",
    "# getnewFeatures_X.shape\n"
   ]
  },
  {
   "cell_type": "code",
   "execution_count": 9,
   "metadata": {},
   "outputs": [
    {
     "name": "stdout",
     "output_type": "stream",
     "text": [
      "OutcomeType                              0\n",
      "AnimalType                               0\n",
      "SexuponOutcome                           0\n",
      "AgeuponOutcome                          76\n",
      "Breed                                    0\n",
      "Color                                    0\n",
      "Year                                     0\n",
      "Month                                    0\n",
      "Day                                      0\n",
      "Dog                                      0\n",
      "Affenpinscher Mix                        0\n",
      "Afghan Hound Mix                         0\n",
      "Airedale Terrier                         0\n",
      "Airedale Terrier Mix                     0\n",
      "Airedale Terrier/Labrador Retriever      0\n",
      "Airedale Terrier/Miniature Schnauzer     0\n",
      "Akita                                    0\n",
      "Akita Mix                                0\n",
      "Akita/Australian Cattle Dog              0\n",
      "Akita/Chow Chow                          0\n",
      "Akita/German Shepherd                    0\n",
      "Akita/Labrador Retriever                 0\n",
      "Akita/Pit Bull                           0\n",
      "Akita/Siberian Husky                     0\n",
      "Alaskan Husky                            0\n",
      "Alaskan Husky Mix                        0\n",
      "Alaskan Husky/Australian Shepherd        0\n",
      "Alaskan Husky/Border Collie              0\n",
      "Alaskan Husky/German Shepherd            0\n",
      "Alaskan Malamute                         0\n",
      "                                        ..\n",
      "White/Buff                               0\n",
      "White/Chocolate                          0\n",
      "White/Cream                              0\n",
      "White/Gold                               0\n",
      "White/Gray                               0\n",
      "White/Liver                              0\n",
      "White/Orange                             0\n",
      "White/Pink                               0\n",
      "White/Red                                0\n",
      "White/Red Merle                          0\n",
      "White/Red Tick                           0\n",
      "White/Silver                             0\n",
      "White/Tan                                0\n",
      "White/Tricolor                           0\n",
      "White/White                              0\n",
      "White/Yellow                             0\n",
      "White/Yellow Brindle                     0\n",
      "Yellow                                   0\n",
      "Yellow Brindle                           0\n",
      "Yellow Brindle/Blue                      0\n",
      "Yellow Brindle/Tan                       0\n",
      "Yellow Brindle/White                     0\n",
      "Yellow/Black                             0\n",
      "Yellow/White                             0\n",
      "Yellow/Yellow                            0\n",
      "Intact Female                            0\n",
      "Intact Male                              0\n",
      "Neutered Male                            0\n",
      "Spayed Female                            0\n",
      "Unknown                                  0\n",
      "Length: 1596, dtype: int64\n"
     ]
    }
   ],
   "source": [
    "# Checking the NaN values after doing OneHotEncoding\n",
    "\n",
    "print(oneHotEncoding_features.isnull().sum())"
   ]
  },
  {
   "cell_type": "code",
   "execution_count": 10,
   "metadata": {},
   "outputs": [
    {
     "name": "stdout",
     "output_type": "stream",
     "text": [
      "OutcomeType                             0\n",
      "AnimalType                              0\n",
      "SexuponOutcome                          0\n",
      "AgeuponOutcome                          0\n",
      "Breed                                   0\n",
      "Color                                   0\n",
      "Year                                    0\n",
      "Month                                   0\n",
      "Day                                     0\n",
      "Dog                                     0\n",
      "Affenpinscher Mix                       0\n",
      "Afghan Hound Mix                        0\n",
      "Airedale Terrier                        0\n",
      "Airedale Terrier Mix                    0\n",
      "Airedale Terrier/Labrador Retriever     0\n",
      "Airedale Terrier/Miniature Schnauzer    0\n",
      "Akita                                   0\n",
      "Akita Mix                               0\n",
      "Akita/Australian Cattle Dog             0\n",
      "Akita/Chow Chow                         0\n",
      "Akita/German Shepherd                   0\n",
      "Akita/Labrador Retriever                0\n",
      "Akita/Pit Bull                          0\n",
      "Akita/Siberian Husky                    0\n",
      "Alaskan Husky                           0\n",
      "Alaskan Husky Mix                       0\n",
      "Alaskan Husky/Australian Shepherd       0\n",
      "Alaskan Husky/Border Collie             0\n",
      "Alaskan Husky/German Shepherd           0\n",
      "Alaskan Malamute                        0\n",
      "                                       ..\n",
      "White/Buff                              0\n",
      "White/Chocolate                         0\n",
      "White/Cream                             0\n",
      "White/Gold                              0\n",
      "White/Gray                              0\n",
      "White/Liver                             0\n",
      "White/Orange                            0\n",
      "White/Pink                              0\n",
      "White/Red                               0\n",
      "White/Red Merle                         0\n",
      "White/Red Tick                          0\n",
      "White/Silver                            0\n",
      "White/Tan                               0\n",
      "White/Tricolor                          0\n",
      "White/White                             0\n",
      "White/Yellow                            0\n",
      "White/Yellow Brindle                    0\n",
      "Yellow                                  0\n",
      "Yellow Brindle                          0\n",
      "Yellow Brindle/Blue                     0\n",
      "Yellow Brindle/Tan                      0\n",
      "Yellow Brindle/White                    0\n",
      "Yellow/Black                            0\n",
      "Yellow/White                            0\n",
      "Yellow/Yellow                           0\n",
      "Intact Female                           0\n",
      "Intact Male                             0\n",
      "Neutered Male                           0\n",
      "Spayed Female                           0\n",
      "Unknown                                 0\n",
      "Length: 1596, dtype: int64\n"
     ]
    }
   ],
   "source": [
    "# Remove Remaining NaN values:\n",
    "\n",
    "oneHotEncoding_features.dropna(inplace = True)\n",
    "\n",
    "\n",
    "print(oneHotEncoding_features.isnull().sum())\n",
    "\n",
    "# oneHotEncoding_features.shape\n",
    "\n",
    "# (26137, 1761) --> size of Data after oneHotEncoding and ignoring remaining NaNs in our data\n",
    "# (15467, 1596) --> size of Data after doing oneHotEncoding only Dog Data (also includes removing NaNs where necessary)"
   ]
  },
  {
   "cell_type": "markdown",
   "metadata": {},
   "source": [
    "# Building our Label Vector:"
   ]
  },
  {
   "cell_type": "code",
   "execution_count": 11,
   "metadata": {},
   "outputs": [
    {
     "data": {
      "text/plain": [
       "0    0.0\n",
       "2    2.0\n",
       "4    3.0\n",
       "5    3.0\n",
       "8    2.0\n",
       "Name: OutcomeType, dtype: float32"
      ]
     },
     "execution_count": 11,
     "metadata": {},
     "output_type": "execute_result"
    }
   ],
   "source": [
    "y = oneHotEncoding_features['OutcomeType']\n",
    "\n",
    "y.head()"
   ]
  },
  {
   "cell_type": "markdown",
   "metadata": {
    "collapsed": true
   },
   "source": [
    "# After doing OneHotEncoding, now will drop non-numerical columns and keep Number Columns. This will allow us to build our Feature Matrix:"
   ]
  },
  {
   "cell_type": "code",
   "execution_count": 12,
   "metadata": {},
   "outputs": [
    {
     "data": {
      "text/html": [
       "<div>\n",
       "<style>\n",
       "    .dataframe thead tr:only-child th {\n",
       "        text-align: right;\n",
       "    }\n",
       "\n",
       "    .dataframe thead th {\n",
       "        text-align: left;\n",
       "    }\n",
       "\n",
       "    .dataframe tbody tr th {\n",
       "        vertical-align: top;\n",
       "    }\n",
       "</style>\n",
       "<table border=\"1\" class=\"dataframe\">\n",
       "  <thead>\n",
       "    <tr style=\"text-align: right;\">\n",
       "      <th></th>\n",
       "      <th>AgeuponOutcome</th>\n",
       "      <th>Year</th>\n",
       "      <th>Month</th>\n",
       "      <th>Day</th>\n",
       "      <th>Dog</th>\n",
       "      <th>Affenpinscher Mix</th>\n",
       "      <th>Afghan Hound Mix</th>\n",
       "      <th>Airedale Terrier</th>\n",
       "      <th>Airedale Terrier Mix</th>\n",
       "      <th>Airedale Terrier/Labrador Retriever</th>\n",
       "      <th>...</th>\n",
       "      <th>Yellow Brindle/Tan</th>\n",
       "      <th>Yellow Brindle/White</th>\n",
       "      <th>Yellow/Black</th>\n",
       "      <th>Yellow/White</th>\n",
       "      <th>Yellow/Yellow</th>\n",
       "      <th>Intact Female</th>\n",
       "      <th>Intact Male</th>\n",
       "      <th>Neutered Male</th>\n",
       "      <th>Spayed Female</th>\n",
       "      <th>Unknown</th>\n",
       "    </tr>\n",
       "  </thead>\n",
       "  <tbody>\n",
       "    <tr>\n",
       "      <th>0</th>\n",
       "      <td>52.0</td>\n",
       "      <td>2014</td>\n",
       "      <td>2</td>\n",
       "      <td>12</td>\n",
       "      <td>1</td>\n",
       "      <td>0</td>\n",
       "      <td>0</td>\n",
       "      <td>0</td>\n",
       "      <td>0</td>\n",
       "      <td>0</td>\n",
       "      <td>...</td>\n",
       "      <td>0</td>\n",
       "      <td>0</td>\n",
       "      <td>0</td>\n",
       "      <td>0</td>\n",
       "      <td>0</td>\n",
       "      <td>0</td>\n",
       "      <td>0</td>\n",
       "      <td>1</td>\n",
       "      <td>0</td>\n",
       "      <td>0</td>\n",
       "    </tr>\n",
       "    <tr>\n",
       "      <th>2</th>\n",
       "      <td>104.0</td>\n",
       "      <td>2015</td>\n",
       "      <td>1</td>\n",
       "      <td>31</td>\n",
       "      <td>1</td>\n",
       "      <td>0</td>\n",
       "      <td>0</td>\n",
       "      <td>0</td>\n",
       "      <td>0</td>\n",
       "      <td>0</td>\n",
       "      <td>...</td>\n",
       "      <td>0</td>\n",
       "      <td>0</td>\n",
       "      <td>0</td>\n",
       "      <td>0</td>\n",
       "      <td>0</td>\n",
       "      <td>0</td>\n",
       "      <td>0</td>\n",
       "      <td>1</td>\n",
       "      <td>0</td>\n",
       "      <td>0</td>\n",
       "    </tr>\n",
       "    <tr>\n",
       "      <th>4</th>\n",
       "      <td>104.0</td>\n",
       "      <td>2013</td>\n",
       "      <td>11</td>\n",
       "      <td>15</td>\n",
       "      <td>1</td>\n",
       "      <td>0</td>\n",
       "      <td>0</td>\n",
       "      <td>0</td>\n",
       "      <td>0</td>\n",
       "      <td>0</td>\n",
       "      <td>...</td>\n",
       "      <td>0</td>\n",
       "      <td>0</td>\n",
       "      <td>0</td>\n",
       "      <td>0</td>\n",
       "      <td>0</td>\n",
       "      <td>0</td>\n",
       "      <td>0</td>\n",
       "      <td>1</td>\n",
       "      <td>0</td>\n",
       "      <td>0</td>\n",
       "    </tr>\n",
       "    <tr>\n",
       "      <th>5</th>\n",
       "      <td>4.0</td>\n",
       "      <td>2014</td>\n",
       "      <td>4</td>\n",
       "      <td>25</td>\n",
       "      <td>1</td>\n",
       "      <td>0</td>\n",
       "      <td>0</td>\n",
       "      <td>0</td>\n",
       "      <td>0</td>\n",
       "      <td>0</td>\n",
       "      <td>...</td>\n",
       "      <td>0</td>\n",
       "      <td>0</td>\n",
       "      <td>0</td>\n",
       "      <td>0</td>\n",
       "      <td>0</td>\n",
       "      <td>1</td>\n",
       "      <td>0</td>\n",
       "      <td>0</td>\n",
       "      <td>0</td>\n",
       "      <td>0</td>\n",
       "    </tr>\n",
       "    <tr>\n",
       "      <th>8</th>\n",
       "      <td>20.0</td>\n",
       "      <td>2014</td>\n",
       "      <td>2</td>\n",
       "      <td>4</td>\n",
       "      <td>1</td>\n",
       "      <td>0</td>\n",
       "      <td>0</td>\n",
       "      <td>0</td>\n",
       "      <td>0</td>\n",
       "      <td>0</td>\n",
       "      <td>...</td>\n",
       "      <td>0</td>\n",
       "      <td>0</td>\n",
       "      <td>0</td>\n",
       "      <td>0</td>\n",
       "      <td>0</td>\n",
       "      <td>0</td>\n",
       "      <td>0</td>\n",
       "      <td>0</td>\n",
       "      <td>1</td>\n",
       "      <td>0</td>\n",
       "    </tr>\n",
       "  </tbody>\n",
       "</table>\n",
       "<p>5 rows × 1591 columns</p>\n",
       "</div>"
      ],
      "text/plain": [
       "   AgeuponOutcome  Year  Month  Day  Dog  Affenpinscher Mix  Afghan Hound Mix  \\\n",
       "0            52.0  2014      2   12    1                  0                 0   \n",
       "2           104.0  2015      1   31    1                  0                 0   \n",
       "4           104.0  2013     11   15    1                  0                 0   \n",
       "5             4.0  2014      4   25    1                  0                 0   \n",
       "8            20.0  2014      2    4    1                  0                 0   \n",
       "\n",
       "   Airedale Terrier  Airedale Terrier Mix  \\\n",
       "0                 0                     0   \n",
       "2                 0                     0   \n",
       "4                 0                     0   \n",
       "5                 0                     0   \n",
       "8                 0                     0   \n",
       "\n",
       "   Airedale Terrier/Labrador Retriever   ...     Yellow Brindle/Tan  \\\n",
       "0                                    0   ...                      0   \n",
       "2                                    0   ...                      0   \n",
       "4                                    0   ...                      0   \n",
       "5                                    0   ...                      0   \n",
       "8                                    0   ...                      0   \n",
       "\n",
       "   Yellow Brindle/White  Yellow/Black  Yellow/White  Yellow/Yellow  \\\n",
       "0                     0             0             0              0   \n",
       "2                     0             0             0              0   \n",
       "4                     0             0             0              0   \n",
       "5                     0             0             0              0   \n",
       "8                     0             0             0              0   \n",
       "\n",
       "   Intact Female  Intact Male  Neutered Male  Spayed Female  Unknown  \n",
       "0              0            0              1              0        0  \n",
       "2              0            0              1              0        0  \n",
       "4              0            0              1              0        0  \n",
       "5              1            0              0              0        0  \n",
       "8              0            0              0              1        0  \n",
       "\n",
       "[5 rows x 1591 columns]"
      ]
     },
     "execution_count": 12,
     "metadata": {},
     "output_type": "execute_result"
    }
   ],
   "source": [
    "# Dropping Non-numerical columns and our label column:\n",
    "oneHotEncoding_features.drop(['SexuponOutcome','OutcomeType','AnimalType','Breed','Color'], axis=1, inplace=True)\n",
    "\n",
    "X = oneHotEncoding_features\n",
    "\n",
    "X.head()\n",
    "\n",
    "# print(getnewFeatures_X.isnull().sum())\n",
    "\n",
    "# getnewFeatures_X.shape"
   ]
  },
  {
   "cell_type": "markdown",
   "metadata": {},
   "source": [
    "# Splitting our data into testing and training: "
   ]
  },
  {
   "cell_type": "code",
   "execution_count": 13,
   "metadata": {},
   "outputs": [
    {
     "name": "stdout",
     "output_type": "stream",
     "text": [
      "X_Train size: (12373, 1591)\n",
      "y_train size: (12373,)\n",
      "X_Test size: (3094, 1591)\n",
      "y_test size: (3094,)\n"
     ]
    }
   ],
   "source": [
    "# Splitting the dataset into testing and training:\n",
    "X_train, X_test, y_train, y_test = train_test_split(X, y, test_size=0.20, random_state=2)\n",
    "\n",
    "print(\"X_Train size: \" + str(X_train.shape))\n",
    "print(\"y_train size: \" + str(y_train.shape))\n",
    "print(\"X_Test size: \" + str(X_test.shape))\n",
    "print(\"y_test size: \" + str(y_test.shape))"
   ]
  },
  {
   "cell_type": "markdown",
   "metadata": {},
   "source": [
    "# Using Random Forest Classifier:"
   ]
  },
  {
   "cell_type": "code",
   "execution_count": 14,
   "metadata": {
    "collapsed": true
   },
   "outputs": [],
   "source": [
    "#Instantiated Random Forest Classifier\n",
    "my_RandomForest = RandomForestClassifier(n_estimators = 19, bootstrap = True, random_state=2)"
   ]
  },
  {
   "cell_type": "code",
   "execution_count": 15,
   "metadata": {},
   "outputs": [
    {
     "data": {
      "text/plain": [
       "RandomForestClassifier(bootstrap=True, class_weight=None, criterion='gini',\n",
       "            max_depth=None, max_features='auto', max_leaf_nodes=None,\n",
       "            min_impurity_decrease=0.0, min_impurity_split=None,\n",
       "            min_samples_leaf=1, min_samples_split=2,\n",
       "            min_weight_fraction_leaf=0.0, n_estimators=19, n_jobs=1,\n",
       "            oob_score=False, random_state=2, verbose=0, warm_start=False)"
      ]
     },
     "execution_count": 15,
     "metadata": {},
     "output_type": "execute_result"
    }
   ],
   "source": [
    "# Training on the training set:\n",
    "my_RandomForest.fit(X_train, y_train)"
   ]
  },
  {
   "cell_type": "code",
   "execution_count": 16,
   "metadata": {},
   "outputs": [
    {
     "name": "stdout",
     "output_type": "stream",
     "text": [
      "Random Forest accuracy: 0.52617970265\n"
     ]
    }
   ],
   "source": [
    "# Testing on the testing set:\n",
    "y_predict_rf = my_RandomForest.predict(X_test)\n",
    "\n",
    "rf_accuracy = accuracy_score(y_test, y_predict_rf)\n",
    "\n",
    "print(\"Random Forest accuracy: \" + str(rf_accuracy))"
   ]
  },
  {
   "cell_type": "markdown",
   "metadata": {},
   "source": [
    "# Using Log Loss for Random Forest:"
   ]
  },
  {
   "cell_type": "code",
   "execution_count": 17,
   "metadata": {},
   "outputs": [
    {
     "name": "stdout",
     "output_type": "stream",
     "text": [
      "Log Loss score(Random Forest): 2.08722324417\n"
     ]
    }
   ],
   "source": [
    "# Dont display Numpy in scientific notation\n",
    "np.set_printoptions(precision=4)\n",
    "np.set_printoptions(suppress=True)\n",
    "\n",
    "get_prob = my_RandomForest.predict_proba(X_test)\n",
    "\n",
    "logloss_score = metrics.log_loss(y_test, get_prob)\n",
    "\n",
    "print(\"Log Loss score(Random Forest): \" + str(logloss_score))"
   ]
  },
  {
   "cell_type": "code",
   "execution_count": 18,
   "metadata": {},
   "outputs": [
    {
     "data": {
      "text/plain": [
       "Text(0.5,1,'log(x)')"
      ]
     },
     "execution_count": 18,
     "metadata": {},
     "output_type": "execute_result"
    },
    {
     "data": {
      "image/png": "[encoded data removed]",
      "text/plain": [
       "<matplotlib.figure.Figure at 0x1a0e1f2550>"
      ]
     },
     "metadata": {},
     "output_type": "display_data"
    }
   ],
   "source": [
    "t = arange(1e-5, 5.0, 0.00001)\n",
    "\n",
    "graph = figure(1, figsize=(12,10))\n",
    "\n",
    "axis = graph.add_subplot(211)\n",
    "\n",
    "axis.plot(t, np.log(t))\n",
    "\n",
    "axis.grid(True)\n",
    "\n",
    "axis.set_ylim(-8,1.5)\n",
    "axis.set_xlim(-0.1,2)\n",
    "axis.set_xlabel('x')\n",
    "axis.set_ylabel('y')\n",
    "axis.set_title('log(x)')"
   ]
  },
  {
   "cell_type": "markdown",
   "metadata": {
    "collapsed": true
   },
   "source": [
    "# Using KNN Classifier:"
   ]
  },
  {
   "cell_type": "code",
   "execution_count": 19,
   "metadata": {},
   "outputs": [
    {
     "name": "stdout",
     "output_type": "stream",
     "text": [
      "KNN Accuracy for  1 neighbors 0.439237233355\n",
      "KNN Accuracy for  2 neighbors 0.446347769877\n",
      "KNN Accuracy for  3 neighbors 0.459922430511\n",
      "KNN Accuracy for  4 neighbors 0.459922430511\n",
      "KNN Accuracy for  5 neighbors 0.456043956044\n",
      "KNN Accuracy for  6 neighbors 0.459922430511\n",
      "KNN Accuracy for  7 neighbors 0.466063348416\n",
      "KNN Accuracy for  8 neighbors 0.471881060116\n",
      "KNN Accuracy for  9 neighbors 0.467356173239\n",
      "KNN Accuracy for  10 neighbors 0.469295410472\n"
     ]
    }
   ],
   "source": [
    "# Testing out KNN Classifier on Dog Data up 10 neighbors:\n",
    "for i in range(1, 11):\n",
    "    knn_animal = KNeighborsClassifier(n_neighbors = i)\n",
    "    knn_animal.fit(X_train, y_train)\n",
    "    y_predict_knn = knn_animal.predict(X_test)\n",
    "\n",
    "    knn_accuracy = accuracy_score(y_test, y_predict_knn)\n",
    "\n",
    "    print(\"KNN Accuracy for  \" + str(i) + \" neighbors \" + str(knn_accuracy))"
   ]
  },
  {
   "cell_type": "markdown",
   "metadata": {},
   "source": [
    "# Using Log Loss for KNN:"
   ]
  },
  {
   "cell_type": "code",
   "execution_count": 20,
   "metadata": {},
   "outputs": [
    {
     "name": "stdout",
     "output_type": "stream",
     "text": [
      "Log Loss score(KNN): 3.17473115096\n"
     ]
    }
   ],
   "source": [
    "# Dont display Numpy in scientific notation\n",
    "np.set_printoptions(precision=4)\n",
    "np.set_printoptions(suppress=True)\n",
    "\n",
    "get_prob = knn_animal.predict_proba(X_test)\n",
    "\n",
    "logloss_score = metrics.log_loss(y_test, get_prob)\n",
    "\n",
    "print(\"Log Loss score(KNN): \" + str(logloss_score))"
   ]
  },
  {
   "cell_type": "markdown",
   "metadata": {},
   "source": [
    "# Using Decision Tree Classifier:"
   ]
  },
  {
   "cell_type": "code",
   "execution_count": 21,
   "metadata": {},
   "outputs": [
    {
     "name": "stdout",
     "output_type": "stream",
     "text": [
      "Decision Tree Accuracy: 0.476405946994\n"
     ]
    }
   ],
   "source": [
    "decision_tree_animal = DecisionTreeClassifier()\n",
    "decision_tree_animal.fit(X_train, y_train)\n",
    "y_predict_decision_tree = decision_tree_animal.predict(X_test)\n",
    "\n",
    "dt_accuracy = accuracy_score(y_test, y_predict_decision_tree)\n",
    "\n",
    "print(\"Decision Tree Accuracy: \" + str(dt_accuracy))"
   ]
  },
  {
   "cell_type": "markdown",
   "metadata": {},
   "source": [
    "# Using Log Loss for Decision Tree:"
   ]
  },
  {
   "cell_type": "code",
   "execution_count": 22,
   "metadata": {},
   "outputs": [
    {
     "name": "stdout",
     "output_type": "stream",
     "text": [
      "Log Loss score(Decision Tree): 18.0517045958\n"
     ]
    }
   ],
   "source": [
    "# Dont display Numpy in scientific notation\n",
    "np.set_printoptions(precision=4)\n",
    "np.set_printoptions(suppress=True)\n",
    "\n",
    "get_prob = decision_tree_animal.predict_proba(X_test)\n",
    "\n",
    "logloss_score = metrics.log_loss(y_test, get_prob)\n",
    "\n",
    "print(\"Log Loss score(Decision Tree): \" + str(logloss_score))"
   ]
  },
  {
   "cell_type": "markdown",
   "metadata": {},
   "source": [
    "# Using AdaBoost Classifier:"
   ]
  },
  {
   "cell_type": "code",
   "execution_count": 23,
   "metadata": {},
   "outputs": [
    {
     "name": "stdout",
     "output_type": "stream",
     "text": [
      "AdaBoost Classifier Accuracy: 0.536199095023\n"
     ]
    }
   ],
   "source": [
    "my_AdaBoost = AdaBoostClassifier(n_estimators = 19,random_state=2)\n",
    "my_AdaBoost.fit(X_train, y_train)\n",
    "y_predict_ada = my_AdaBoost.predict(X_test)\n",
    "score_ada = accuracy_score(y_test, y_predict_ada)\n",
    "\n",
    "# calculating the final accuracy of AdaBoost Classifier\n",
    "print(\"AdaBoost Classifier Accuracy: \" + str(score_ada))"
   ]
  },
  {
   "cell_type": "markdown",
   "metadata": {},
   "source": [
    "# Using Log Loss for AdaBoost:"
   ]
  },
  {
   "cell_type": "code",
   "execution_count": 24,
   "metadata": {},
   "outputs": [
    {
     "name": "stdout",
     "output_type": "stream",
     "text": [
      "Log Loss score(AdaBoost): 1.33525670334\n"
     ]
    }
   ],
   "source": [
    "# Dont display Numpy in scientific notation\n",
    "np.set_printoptions(precision=4)\n",
    "np.set_printoptions(suppress=True)\n",
    "\n",
    "get_prob = my_AdaBoost.predict_proba(X_test)\n",
    "\n",
    "logloss_score = metrics.log_loss(y_test, get_prob)\n",
    "\n",
    "print(\"Log Loss score(AdaBoost): \" + str(logloss_score))"
   ]
  },
  {
   "cell_type": "markdown",
   "metadata": {},
   "source": [
    "# Using ANN Classifier (1 hidden Layer):"
   ]
  },
  {
   "cell_type": "code",
   "execution_count": 25,
   "metadata": {},
   "outputs": [
    {
     "name": "stdout",
     "output_type": "stream",
     "text": [
      "ANN Accuracy: 0.478345184228\n"
     ]
    }
   ],
   "source": [
    "my_ANN = MLPClassifier(hidden_layer_sizes=(100,), activation= 'logistic', \n",
    "                       solver='adam', alpha=1e-5, random_state=1, \n",
    "                       learning_rate_init = 0.002)\n",
    "\n",
    "# Training on Training set\n",
    "my_ANN.fit(X_train, y_train)\n",
    "\n",
    "# Testing on the testing set:\n",
    "y_predict_ann = my_ANN.predict(X_test)\n",
    "#print(y_predict_ann)\n",
    "# We can now compare the \"predicted labels\" for the Testing Set with its \"actual labels\" to evaluate the accuracy \n",
    "score_ann = accuracy_score(y_test, y_predict_ann)\n",
    "\n",
    "print(\"ANN Accuracy: \" + str(score_ann))"
   ]
  },
  {
   "cell_type": "markdown",
   "metadata": {},
   "source": [
    "# Using Log Loss for ANN (1 hidden Layer):"
   ]
  },
  {
   "cell_type": "code",
   "execution_count": 26,
   "metadata": {},
   "outputs": [
    {
     "name": "stdout",
     "output_type": "stream",
     "text": [
      "Log Loss score(ANN[1 hidden Layer]): 1.16478132219\n"
     ]
    }
   ],
   "source": [
    "# Dont display Numpy in scientific notation\n",
    "np.set_printoptions(precision=4)\n",
    "np.set_printoptions(suppress=True)\n",
    "\n",
    "get_prob = my_ANN.predict_proba(X_test)\n",
    "\n",
    "logloss_score = metrics.log_loss(y_test, get_prob)\n",
    "\n",
    "print(\"Log Loss score(ANN[1 hidden Layer]): \" + str(logloss_score))"
   ]
  },
  {
   "cell_type": "markdown",
   "metadata": {},
   "source": [
    "# Using ANN Classifier (2 hidden Layers):"
   ]
  },
  {
   "cell_type": "code",
   "execution_count": 27,
   "metadata": {},
   "outputs": [
    {
     "name": "stdout",
     "output_type": "stream",
     "text": [
      "ANN Accuracy: 0.478345184228\n"
     ]
    }
   ],
   "source": [
    "my_ANN = MLPClassifier(hidden_layer_sizes=(100,100,), activation= 'logistic', \n",
    "                       solver='adam', alpha=1e-5, random_state=1, \n",
    "                       learning_rate_init = 0.002)\n",
    "\n",
    "# Training on Training set\n",
    "my_ANN.fit(X_train, y_train)\n",
    "\n",
    "# Testing on the testing set:\n",
    "y_predict_ann = my_ANN.predict(X_test)\n",
    "#print(y_predict_ann)\n",
    "# We can now compare the \"predicted labels\" for the Testing Set with its \"actual labels\" to evaluate the accuracy \n",
    "score_ann = accuracy_score(y_test, y_predict_ann)\n",
    "\n",
    "print(\"ANN Accuracy: \" + str(score_ann))"
   ]
  },
  {
   "cell_type": "markdown",
   "metadata": {},
   "source": [
    "# Using Log Loss for ANN (2 hidden Layers):"
   ]
  },
  {
   "cell_type": "code",
   "execution_count": 28,
   "metadata": {},
   "outputs": [
    {
     "name": "stdout",
     "output_type": "stream",
     "text": [
      "Log Loss score(ANN[2 hidden Layer]): 1.17115402796\n"
     ]
    }
   ],
   "source": [
    "# Dont display Numpy in scientific notation\n",
    "np.set_printoptions(precision=4)\n",
    "np.set_printoptions(suppress=True)\n",
    "\n",
    "get_prob = my_ANN.predict_proba(X_test)\n",
    "\n",
    "logloss_score = metrics.log_loss(y_test, get_prob)\n",
    "\n",
    "print(\"Log Loss score(ANN[2 hidden Layer]): \" + str(logloss_score))"
   ]
  },
  {
   "cell_type": "markdown",
   "metadata": {},
   "source": [
    "# Using ANN Classifier (3 hidden Layers):"
   ]
  },
  {
   "cell_type": "code",
   "execution_count": 29,
   "metadata": {},
   "outputs": [
    {
     "name": "stdout",
     "output_type": "stream",
     "text": [
      "ANN Accuracy: 0.462831286361\n"
     ]
    }
   ],
   "source": [
    "my_ANN = MLPClassifier(hidden_layer_sizes=(100,100,100,), activation= 'logistic', \n",
    "                       solver='adam', alpha=1e-5, random_state=1, \n",
    "                       learning_rate_init = 0.002)\n",
    "\n",
    "# Training on Training set\n",
    "my_ANN.fit(X_train, y_train)\n",
    "\n",
    "# Testing on the testing set:\n",
    "y_predict_ann = my_ANN.predict(X_test)\n",
    "#print(y_predict_ann)\n",
    "# We can now compare the \"predicted labels\" for the Testing Set with its \"actual labels\" to evaluate the accuracy \n",
    "score_ann = accuracy_score(y_test, y_predict_ann)\n",
    "\n",
    "print(\"ANN Accuracy: \" + str(score_ann))"
   ]
  },
  {
   "cell_type": "markdown",
   "metadata": {},
   "source": [
    "# Using Log Loss for ANN (3 hidden layers):"
   ]
  },
  {
   "cell_type": "code",
   "execution_count": 30,
   "metadata": {},
   "outputs": [
    {
     "name": "stdout",
     "output_type": "stream",
     "text": [
      "Log Loss score(ANN[3 hidden Layer]): 1.17151032207\n"
     ]
    }
   ],
   "source": [
    "# Dont display Numpy in scientific notation\n",
    "np.set_printoptions(precision=4)\n",
    "np.set_printoptions(suppress=True)\n",
    "\n",
    "get_prob = my_ANN.predict_proba(X_test)\n",
    "\n",
    "logloss_score = metrics.log_loss(y_test, get_prob)\n",
    "\n",
    "print(\"Log Loss score(ANN[3 hidden Layer]): \" + str(logloss_score))"
   ]
  },
  {
   "cell_type": "markdown",
   "metadata": {
    "collapsed": true
   },
   "source": [
    "# Using non-Linear SVM classifier:"
   ]
  },
  {
   "cell_type": "code",
   "execution_count": 36,
   "metadata": {},
   "outputs": [
    {
     "name": "stdout",
     "output_type": "stream",
     "text": [
      "Accuracy of Non-Linear SVM: 0.478345184228\n"
     ]
    }
   ],
   "source": [
    "# Instantiating Non_Linear SVM\n",
    "my_nonLinear_SVM = SVC(C=1, kernel='rbf', gamma=0.0005, random_state=1, probability=True)\n",
    "\n",
    "my_nonLinear_SVM.fit (X_train, y_train)\n",
    "\n",
    "# Testing on the testing set:\n",
    "y_predict_nlsvm = my_nonLinear_SVM.predict(X_test)\n",
    "\n",
    "# We can now compare the \"predicted labels\" for the Testing Set with its \"actual labels\" to evaluate the accuracy \n",
    "score_nlsvm = accuracy_score(y_test, y_predict_nlsvm)\n",
    "\n",
    "print(\"Accuracy of Non-Linear SVM: \" + str(score_nlsvm))"
   ]
  },
  {
   "cell_type": "markdown",
   "metadata": {},
   "source": [
    "# Using Log Loss for non-Linear SVM:"
   ]
  },
  {
   "cell_type": "code",
   "execution_count": 37,
   "metadata": {},
   "outputs": [
    {
     "name": "stdout",
     "output_type": "stream",
     "text": [
      "Log Loss score(non-Linear SVM): 1.12792485095\n"
     ]
    }
   ],
   "source": [
    "# Dont display Numpy in scientific notation\n",
    "# np.set_printoptions(precision=4)\n",
    "# np.set_printoptions(suppress=True)\n",
    "\n",
    "get_prob = my_nonLinear_SVM.predict_proba(X_test)\n",
    "\n",
    "logloss_score = metrics.log_loss(y_test, get_prob)\n",
    "\n",
    "print(\"Log Loss score(non-Linear SVM): \" + str(logloss_score))"
   ]
  },
  {
   "cell_type": "markdown",
   "metadata": {},
   "source": [
    "# Using PCA on Dog Data:"
   ]
  },
  {
   "cell_type": "code",
   "execution_count": 42,
   "metadata": {},
   "outputs": [
    {
     "data": {
      "text/html": [
       "<div>\n",
       "<style>\n",
       "    .dataframe thead tr:only-child th {\n",
       "        text-align: right;\n",
       "    }\n",
       "\n",
       "    .dataframe thead th {\n",
       "        text-align: left;\n",
       "    }\n",
       "\n",
       "    .dataframe tbody tr th {\n",
       "        vertical-align: top;\n",
       "    }\n",
       "</style>\n",
       "<table border=\"1\" class=\"dataframe\">\n",
       "  <thead>\n",
       "    <tr style=\"text-align: right;\">\n",
       "      <th></th>\n",
       "      <th>0</th>\n",
       "      <th>1</th>\n",
       "      <th>2</th>\n",
       "      <th>3</th>\n",
       "      <th>4</th>\n",
       "      <th>5</th>\n",
       "      <th>6</th>\n",
       "      <th>7</th>\n",
       "      <th>8</th>\n",
       "      <th>9</th>\n",
       "      <th>...</th>\n",
       "      <th>40</th>\n",
       "      <th>41</th>\n",
       "      <th>42</th>\n",
       "      <th>43</th>\n",
       "      <th>44</th>\n",
       "      <th>45</th>\n",
       "      <th>46</th>\n",
       "      <th>47</th>\n",
       "      <th>48</th>\n",
       "      <th>49</th>\n",
       "    </tr>\n",
       "  </thead>\n",
       "  <tbody>\n",
       "    <tr>\n",
       "      <th>0</th>\n",
       "      <td>-91.754224</td>\n",
       "      <td>-3.795850</td>\n",
       "      <td>4.625239</td>\n",
       "      <td>0.841289</td>\n",
       "      <td>-0.694537</td>\n",
       "      <td>-0.178353</td>\n",
       "      <td>0.033317</td>\n",
       "      <td>-0.168338</td>\n",
       "      <td>-0.112089</td>\n",
       "      <td>0.024919</td>\n",
       "      <td>...</td>\n",
       "      <td>-0.011131</td>\n",
       "      <td>-0.011300</td>\n",
       "      <td>0.002361</td>\n",
       "      <td>-0.004711</td>\n",
       "      <td>-0.011139</td>\n",
       "      <td>0.000853</td>\n",
       "      <td>-0.008344</td>\n",
       "      <td>0.012540</td>\n",
       "      <td>-0.002467</td>\n",
       "      <td>-0.012254</td>\n",
       "    </tr>\n",
       "    <tr>\n",
       "      <th>1</th>\n",
       "      <td>-39.783853</td>\n",
       "      <td>15.265818</td>\n",
       "      <td>6.004750</td>\n",
       "      <td>-0.078357</td>\n",
       "      <td>-0.645983</td>\n",
       "      <td>0.097122</td>\n",
       "      <td>0.797248</td>\n",
       "      <td>-0.564138</td>\n",
       "      <td>0.180216</td>\n",
       "      <td>-0.034278</td>\n",
       "      <td>...</td>\n",
       "      <td>-0.001792</td>\n",
       "      <td>-0.019035</td>\n",
       "      <td>-0.001651</td>\n",
       "      <td>-0.007239</td>\n",
       "      <td>-0.003399</td>\n",
       "      <td>0.003283</td>\n",
       "      <td>-0.001898</td>\n",
       "      <td>-0.027285</td>\n",
       "      <td>-0.012047</td>\n",
       "      <td>-0.002424</td>\n",
       "    </tr>\n",
       "    <tr>\n",
       "      <th>2</th>\n",
       "      <td>-39.761694</td>\n",
       "      <td>-0.567374</td>\n",
       "      <td>-4.392167</td>\n",
       "      <td>1.028022</td>\n",
       "      <td>-0.691298</td>\n",
       "      <td>-0.197107</td>\n",
       "      <td>-0.103988</td>\n",
       "      <td>-0.098608</td>\n",
       "      <td>-0.062141</td>\n",
       "      <td>-0.011025</td>\n",
       "      <td>...</td>\n",
       "      <td>-0.004486</td>\n",
       "      <td>-0.015367</td>\n",
       "      <td>0.003937</td>\n",
       "      <td>-0.011090</td>\n",
       "      <td>-0.008024</td>\n",
       "      <td>-0.015942</td>\n",
       "      <td>-0.010050</td>\n",
       "      <td>0.016338</td>\n",
       "      <td>-0.016930</td>\n",
       "      <td>-0.008499</td>\n",
       "    </tr>\n",
       "    <tr>\n",
       "      <th>3</th>\n",
       "      <td>-139.775297</td>\n",
       "      <td>9.157861</td>\n",
       "      <td>2.855619</td>\n",
       "      <td>0.686083</td>\n",
       "      <td>0.051628</td>\n",
       "      <td>0.646433</td>\n",
       "      <td>-0.220372</td>\n",
       "      <td>0.088791</td>\n",
       "      <td>0.040807</td>\n",
       "      <td>0.799936</td>\n",
       "      <td>...</td>\n",
       "      <td>0.002255</td>\n",
       "      <td>-0.006573</td>\n",
       "      <td>0.001816</td>\n",
       "      <td>-0.015421</td>\n",
       "      <td>0.004452</td>\n",
       "      <td>-0.023300</td>\n",
       "      <td>-0.019484</td>\n",
       "      <td>0.012299</td>\n",
       "      <td>-0.002333</td>\n",
       "      <td>0.000941</td>\n",
       "    </tr>\n",
       "    <tr>\n",
       "      <th>4</th>\n",
       "      <td>-123.741620</td>\n",
       "      <td>-11.847137</td>\n",
       "      <td>4.504239</td>\n",
       "      <td>0.860546</td>\n",
       "      <td>0.708056</td>\n",
       "      <td>-0.242425</td>\n",
       "      <td>-0.002378</td>\n",
       "      <td>-0.068847</td>\n",
       "      <td>-0.136267</td>\n",
       "      <td>-0.001498</td>\n",
       "      <td>...</td>\n",
       "      <td>-0.030156</td>\n",
       "      <td>-0.033901</td>\n",
       "      <td>0.007712</td>\n",
       "      <td>-0.013811</td>\n",
       "      <td>0.029639</td>\n",
       "      <td>0.049495</td>\n",
       "      <td>-0.027809</td>\n",
       "      <td>0.062747</td>\n",
       "      <td>-0.000613</td>\n",
       "      <td>0.011272</td>\n",
       "    </tr>\n",
       "  </tbody>\n",
       "</table>\n",
       "<p>5 rows × 50 columns</p>\n",
       "</div>"
      ],
      "text/plain": [
       "           0          1         2         3         4         5         6   \\\n",
       "0  -91.754224  -3.795850  4.625239  0.841289 -0.694537 -0.178353  0.033317   \n",
       "1  -39.783853  15.265818  6.004750 -0.078357 -0.645983  0.097122  0.797248   \n",
       "2  -39.761694  -0.567374 -4.392167  1.028022 -0.691298 -0.197107 -0.103988   \n",
       "3 -139.775297   9.157861  2.855619  0.686083  0.051628  0.646433 -0.220372   \n",
       "4 -123.741620 -11.847137  4.504239  0.860546  0.708056 -0.242425 -0.002378   \n",
       "\n",
       "         7         8         9     ...           40        41        42  \\\n",
       "0 -0.168338 -0.112089  0.024919    ...    -0.011131 -0.011300  0.002361   \n",
       "1 -0.564138  0.180216 -0.034278    ...    -0.001792 -0.019035 -0.001651   \n",
       "2 -0.098608 -0.062141 -0.011025    ...    -0.004486 -0.015367  0.003937   \n",
       "3  0.088791  0.040807  0.799936    ...     0.002255 -0.006573  0.001816   \n",
       "4 -0.068847 -0.136267 -0.001498    ...    -0.030156 -0.033901  0.007712   \n",
       "\n",
       "         43        44        45        46        47        48        49  \n",
       "0 -0.004711 -0.011139  0.000853 -0.008344  0.012540 -0.002467 -0.012254  \n",
       "1 -0.007239 -0.003399  0.003283 -0.001898 -0.027285 -0.012047 -0.002424  \n",
       "2 -0.011090 -0.008024 -0.015942 -0.010050  0.016338 -0.016930 -0.008499  \n",
       "3 -0.015421  0.004452 -0.023300 -0.019484  0.012299 -0.002333  0.000941  \n",
       "4 -0.013811  0.029639  0.049495 -0.027809  0.062747 -0.000613  0.011272  \n",
       "\n",
       "[5 rows x 50 columns]"
      ]
     },
     "execution_count": 42,
     "metadata": {},
     "output_type": "execute_result"
    }
   ],
   "source": [
    "# Setting up PCA on data after OneHotEncoding:\n",
    "\n",
    "#Used the PCA Algorithm to reduce our \n",
    "n = 50\n",
    "\n",
    "my_pca = PCA(n_components = n)\n",
    "\n",
    "X_PCA = my_pca.fit_transform(X)\n",
    "\n",
    "#Stored my result from PCA into a new DataFrame\n",
    "X_2 = pd.DataFrame(X_PCA)\n",
    "\n",
    "X_2.head()\n",
    "\n",
    "# X_2.shape\n",
    "\n",
    "# (15467, 50) --> size of Data for Dog Data only after reducing features"
   ]
  },
  {
   "cell_type": "markdown",
   "metadata": {},
   "source": [
    "# Splitting Data into Training and Testing :"
   ]
  },
  {
   "cell_type": "code",
   "execution_count": 43,
   "metadata": {},
   "outputs": [
    {
     "name": "stdout",
     "output_type": "stream",
     "text": [
      "X_Train size: (12373, 50)\n",
      "y_train size: (12373,)\n",
      "X_Test size: (3094, 50)\n",
      "y_test size: (3094,)\n"
     ]
    }
   ],
   "source": [
    "# Splitting the dataset into testing and training:\n",
    "X_train, X_test, y_train, y_test = train_test_split(X_2, y, test_size=0.20, random_state=2)\n",
    "\n",
    "print(\"X_Train size: \" + str(X_train.shape))\n",
    "print(\"y_train size: \" + str(y_train.shape))\n",
    "print(\"X_Test size: \" + str(X_test.shape))\n",
    "print(\"y_test size: \" + str(y_test.shape))"
   ]
  },
  {
   "cell_type": "markdown",
   "metadata": {},
   "source": [
    "# PCA: Using Random Forest Classifier"
   ]
  },
  {
   "cell_type": "code",
   "execution_count": 69,
   "metadata": {},
   "outputs": [
    {
     "name": "stdout",
     "output_type": "stream",
     "text": [
      "Random Forest accuracy(PCA): 0.521978021978\n"
     ]
    }
   ],
   "source": [
    "#Instantiated Random Forest Classifier\n",
    "my_RandomForest_PCA = RandomForestClassifier(n_estimators = 19, bootstrap = True, random_state=2)\n",
    "\n",
    "# Training on the training set:\n",
    "my_RandomForest_PCA.fit(X_train, y_train)\n",
    "\n",
    "# Testing on the testing set:\n",
    "y_predict_rf_PCA = my_RandomForest_PCA.predict(X_test)\n",
    "\n",
    "rf_accuracy_PCA = accuracy_score(y_test, y_predict_rf_PCA)\n",
    "\n",
    "print(\"Random Forest accuracy(PCA): \" + str(rf_accuracy_PCA))"
   ]
  },
  {
   "cell_type": "markdown",
   "metadata": {},
   "source": [
    "# PCA: Using Log Loss for Random Forest Classifier"
   ]
  },
  {
   "cell_type": "code",
   "execution_count": 70,
   "metadata": {},
   "outputs": [
    {
     "name": "stdout",
     "output_type": "stream",
     "text": [
      "Log Loss score(Random Forest Classifier): 2.05847352647\n"
     ]
    }
   ],
   "source": [
    "# Dont display Numpy in scientific notation\n",
    "np.set_printoptions(precision=4)\n",
    "np.set_printoptions(suppress=True)\n",
    "\n",
    "get_prob = my_RandomForest_PCA.predict_proba(X_test)\n",
    "\n",
    "logloss_score = metrics.log_loss(y_test, get_prob)\n",
    "\n",
    "print(\"Log Loss score(Random Forest Classifier): \" + str(logloss_score))"
   ]
  },
  {
   "cell_type": "markdown",
   "metadata": {},
   "source": [
    "# PCA: Using KNN Classifier:"
   ]
  },
  {
   "cell_type": "code",
   "execution_count": 71,
   "metadata": {},
   "outputs": [
    {
     "name": "stdout",
     "output_type": "stream",
     "text": [
      "KNN Accuracy(PCA) for  1 neighbors 0.430187459599\n",
      "KNN Accuracy(PCA) for  2 neighbors 0.441822882999\n",
      "KNN Accuracy(PCA) for  3 neighbors 0.452811893988\n",
      "KNN Accuracy(PCA) for  4 neighbors 0.467032967033\n",
      "KNN Accuracy(PCA) for  5 neighbors 0.46800258565\n",
      "KNN Accuracy(PCA) for  6 neighbors 0.466386554622\n",
      "KNN Accuracy(PCA) for  7 neighbors 0.473497091144\n",
      "KNN Accuracy(PCA) for  8 neighbors 0.472527472527\n",
      "KNN Accuracy(PCA) for  9 neighbors 0.473497091144\n",
      "KNN Accuracy(PCA) for  10 neighbors 0.468648998061\n"
     ]
    }
   ],
   "source": [
    "# Testing out KNN Classifier on Dog Data up 10 neighbors:\n",
    "for i in range(1, 11):\n",
    "    knn_animal_PCA = KNeighborsClassifier(n_neighbors = i)\n",
    "    knn_animal_PCA.fit(X_train, y_train)\n",
    "    y_predict_knn_PCA = knn_animal_PCA.predict(X_test)\n",
    "\n",
    "    knn_accuracy_PCA = accuracy_score(y_test, y_predict_knn_PCA)\n",
    "\n",
    "    print(\"KNN Accuracy(PCA) for  \" + str(i) + \" neighbors \" + str(knn_accuracy_PCA))"
   ]
  },
  {
   "cell_type": "markdown",
   "metadata": {},
   "source": [
    "# PCA: Using Log Loss for KNN"
   ]
  },
  {
   "cell_type": "code",
   "execution_count": 72,
   "metadata": {},
   "outputs": [
    {
     "name": "stdout",
     "output_type": "stream",
     "text": [
      "Log Loss score(KNN): 3.16090151452\n"
     ]
    }
   ],
   "source": [
    "# Dont display Numpy in scientific notation\n",
    "np.set_printoptions(precision=4)\n",
    "np.set_printoptions(suppress=True)\n",
    "\n",
    "get_prob = knn_animal_PCA.predict_proba(X_test)\n",
    "\n",
    "logloss_score = metrics.log_loss(y_test, get_prob)\n",
    "\n",
    "print(\"Log Loss score(KNN): \" + str(logloss_score))"
   ]
  },
  {
   "cell_type": "markdown",
   "metadata": {},
   "source": [
    "# PCA: Using Decision Tree Classifier:"
   ]
  },
  {
   "cell_type": "code",
   "execution_count": 73,
   "metadata": {},
   "outputs": [
    {
     "name": "stdout",
     "output_type": "stream",
     "text": [
      "Decision Tree Accuracy(PCA): 0.436005171299\n"
     ]
    }
   ],
   "source": [
    "decision_tree_animal_PCA = DecisionTreeClassifier()\n",
    "decision_tree_animal_PCA.fit(X_train, y_train)\n",
    "y_predict_decision_tree = decision_tree_animal_PCA.predict(X_test)\n",
    "\n",
    "dt_accuracy = accuracy_score(y_test, y_predict_decision_tree)\n",
    "\n",
    "print(\"Decision Tree Accuracy(PCA): \" + str(dt_accuracy))"
   ]
  },
  {
   "cell_type": "markdown",
   "metadata": {},
   "source": [
    "# PCA: Using Log Loss for Decision Tree"
   ]
  },
  {
   "cell_type": "code",
   "execution_count": 74,
   "metadata": {},
   "outputs": [
    {
     "name": "stdout",
     "output_type": "stream",
     "text": [
      "Log Loss score(Decision Tree): 19.4473219831\n"
     ]
    }
   ],
   "source": [
    "# Dont display Numpy in scientific notation\n",
    "np.set_printoptions(precision=4)\n",
    "np.set_printoptions(suppress=True)\n",
    "\n",
    "get_prob = decision_tree_animal_PCA.predict_proba(X_test)\n",
    "\n",
    "logloss_score = metrics.log_loss(y_test, get_prob)\n",
    "\n",
    "print(\"Log Loss score(Decision Tree): \" + str(logloss_score))"
   ]
  },
  {
   "cell_type": "markdown",
   "metadata": {},
   "source": [
    "# PCA: Using AdaBoost Classifier"
   ]
  },
  {
   "cell_type": "code",
   "execution_count": 75,
   "metadata": {},
   "outputs": [
    {
     "name": "stdout",
     "output_type": "stream",
     "text": [
      "AdaBoost Classifier Accuracy(PCA): 0.537491919845\n"
     ]
    }
   ],
   "source": [
    "my_AdaBoost_PCA = AdaBoostClassifier(n_estimators = 19,random_state=2)\n",
    "my_AdaBoost_PCA.fit(X_train, y_train)\n",
    "y_predict_ada = my_AdaBoost_PCA.predict(X_test)\n",
    "score_ada = accuracy_score(y_test, y_predict_ada)\n",
    "\n",
    "# calculating the final accuracy of AdaBoost Classifier\n",
    "print(\"AdaBoost Classifier Accuracy(PCA): \" + str(score_ada))"
   ]
  },
  {
   "cell_type": "markdown",
   "metadata": {},
   "source": [
    "# PCA: Using Log Loss for AdaBoost Classifier"
   ]
  },
  {
   "cell_type": "code",
   "execution_count": 76,
   "metadata": {},
   "outputs": [
    {
     "name": "stdout",
     "output_type": "stream",
     "text": [
      "Log Loss score(AdaBoost): 1.33161022416\n"
     ]
    }
   ],
   "source": [
    "# Dont display Numpy in scientific notation\n",
    "np.set_printoptions(precision=4)\n",
    "np.set_printoptions(suppress=True)\n",
    "\n",
    "get_prob = my_AdaBoost_PCA.predict_proba(X_test)\n",
    "\n",
    "logloss_score = metrics.log_loss(y_test, get_prob)\n",
    "\n",
    "print(\"Log Loss score(AdaBoost): \" + str(logloss_score))"
   ]
  },
  {
   "cell_type": "markdown",
   "metadata": {},
   "source": [
    "# PCA: Using ANN (1 hidden layer)"
   ]
  },
  {
   "cell_type": "code",
   "execution_count": 77,
   "metadata": {},
   "outputs": [
    {
     "name": "stdout",
     "output_type": "stream",
     "text": [
      "ANN Accuracy(PCA): 0.553005817712\n"
     ]
    }
   ],
   "source": [
    "my_ANN_PCA = MLPClassifier(hidden_layer_sizes=(100,), activation= 'logistic', \n",
    "                       solver='adam', alpha=1e-5, random_state=1, \n",
    "                       learning_rate_init = 0.002)\n",
    "\n",
    "# Training on Training set\n",
    "my_ANN_PCA.fit(X_train, y_train)\n",
    "\n",
    "# Testing on the testing set:\n",
    "y_predict_ann_PCA = my_ANN_PCA.predict(X_test)\n",
    "#print(y_predict_ann)\n",
    "# We can now compare the \"predicted labels\" for the Testing Set with its \"actual labels\" to evaluate the accuracy \n",
    "score_ann = accuracy_score(y_test, y_predict_ann_PCA)\n",
    "\n",
    "print(\"ANN Accuracy(PCA): \" + str(score_ann))"
   ]
  },
  {
   "cell_type": "markdown",
   "metadata": {},
   "source": [
    "# PCA: Using Log Loss for ANN(1 hidden layer)"
   ]
  },
  {
   "cell_type": "code",
   "execution_count": 78,
   "metadata": {},
   "outputs": [
    {
     "name": "stdout",
     "output_type": "stream",
     "text": [
      "Log Loss score(ANN[1 hidden later]): 1.03532315485\n"
     ]
    }
   ],
   "source": [
    "# Dont display Numpy in scientific notation\n",
    "np.set_printoptions(precision=4)\n",
    "np.set_printoptions(suppress=True)\n",
    "\n",
    "get_prob = my_ANN_PCA.predict_proba(X_test)\n",
    "\n",
    "logloss_score = metrics.log_loss(y_test, get_prob)\n",
    "\n",
    "print(\"Log Loss score(ANN[1 hidden later]): \" + str(logloss_score))"
   ]
  },
  {
   "cell_type": "markdown",
   "metadata": {},
   "source": [
    "# PCA: Using ANN (2 hidden layers)"
   ]
  },
  {
   "cell_type": "code",
   "execution_count": 79,
   "metadata": {},
   "outputs": [
    {
     "name": "stdout",
     "output_type": "stream",
     "text": [
      "ANN Accuracy(PCA): 0.558177117001\n"
     ]
    }
   ],
   "source": [
    "my_ANN_PCA = MLPClassifier(hidden_layer_sizes=(100,100,), activation= 'logistic', \n",
    "                       solver='adam', alpha=1e-5, random_state=1, \n",
    "                       learning_rate_init = 0.002)\n",
    "\n",
    "# Training on Training set\n",
    "my_ANN_PCA.fit(X_train, y_train)\n",
    "\n",
    "# Testing on the testing set:\n",
    "y_predict_ann_PCA = my_ANN_PCA.predict(X_test)\n",
    "#print(y_predict_ann)\n",
    "# We can now compare the \"predicted labels\" for the Testing Set with its \"actual labels\" to evaluate the accuracy \n",
    "score_ann = accuracy_score(y_test, y_predict_ann_PCA)\n",
    "\n",
    "print(\"ANN Accuracy(PCA): \" + str(score_ann))"
   ]
  },
  {
   "cell_type": "markdown",
   "metadata": {},
   "source": [
    "# PCA: Using Log Loss for ANN (2 hidden layers)"
   ]
  },
  {
   "cell_type": "code",
   "execution_count": 80,
   "metadata": {},
   "outputs": [
    {
     "name": "stdout",
     "output_type": "stream",
     "text": [
      "Log Loss score(ANN[2 hidden later]): 1.02825492759\n"
     ]
    }
   ],
   "source": [
    "# Dont display Numpy in scientific notation\n",
    "np.set_printoptions(precision=4)\n",
    "np.set_printoptions(suppress=True)\n",
    "\n",
    "get_prob = my_ANN_PCA.predict_proba(X_test)\n",
    "\n",
    "logloss_score = metrics.log_loss(y_test, get_prob)\n",
    "\n",
    "print(\"Log Loss score(ANN[2 hidden later]): \" + str(logloss_score))"
   ]
  },
  {
   "cell_type": "markdown",
   "metadata": {},
   "source": [
    "# PCA: Using ANN (3 hidden layers)"
   ]
  },
  {
   "cell_type": "code",
   "execution_count": 81,
   "metadata": {},
   "outputs": [
    {
     "name": "stdout",
     "output_type": "stream",
     "text": [
      "ANN Accuracy(PCA): 0.549450549451\n"
     ]
    }
   ],
   "source": [
    "my_ANN_PCA = MLPClassifier(hidden_layer_sizes=(100,100,100,), activation= 'logistic', \n",
    "                       solver='adam', alpha=1e-5, random_state=1, \n",
    "                       learning_rate_init = 0.002)\n",
    "\n",
    "# Training on Training set\n",
    "my_ANN_PCA.fit(X_train, y_train)\n",
    "\n",
    "# Testing on the testing set:\n",
    "y_predict_ann_PCA = my_ANN_PCA.predict(X_test)\n",
    "#print(y_predict_ann)\n",
    "# We can now compare the \"predicted labels\" for the Testing Set with its \"actual labels\" to evaluate the accuracy \n",
    "score_ann = accuracy_score(y_test, y_predict_ann_PCA)\n",
    "\n",
    "print(\"ANN Accuracy(PCA): \" + str(score_ann))"
   ]
  },
  {
   "cell_type": "markdown",
   "metadata": {},
   "source": [
    "# PCA: Using Log Loss for ANN (3 hidden layers)"
   ]
  },
  {
   "cell_type": "code",
   "execution_count": 82,
   "metadata": {},
   "outputs": [
    {
     "name": "stdout",
     "output_type": "stream",
     "text": [
      "Log Loss score(ANN[3 hidden later]): 1.03431733155\n"
     ]
    }
   ],
   "source": [
    "# Dont display Numpy in scientific notation\n",
    "np.set_printoptions(precision=4)\n",
    "np.set_printoptions(suppress=True)\n",
    "\n",
    "get_prob = my_ANN_PCA.predict_proba(X_test)\n",
    "\n",
    "logloss_score = metrics.log_loss(y_test, get_prob)\n",
    "\n",
    "print(\"Log Loss score(ANN[3 hidden later]): \" + str(logloss_score))"
   ]
  },
  {
   "cell_type": "markdown",
   "metadata": {},
   "source": [
    "# PCA: Using non-Linear SVM Classifier"
   ]
  },
  {
   "cell_type": "code",
   "execution_count": 83,
   "metadata": {},
   "outputs": [
    {
     "name": "stdout",
     "output_type": "stream",
     "text": [
      "Accuracy of Non-Linear SVM(PCA): 0.478345184228\n"
     ]
    }
   ],
   "source": [
    "# Instantiating Non_Linear SVM\n",
    "my_nonLinear_SVM_PCA = SVC(C=1, kernel='rbf', gamma=0.0005, random_state=1, probability=True)\n",
    "\n",
    "my_nonLinear_SVM_PCA.fit (X_train, y_train)\n",
    "\n",
    "# Testing on the testing set:\n",
    "y_predict_nlsvm = my_nonLinear_SVM_PCA.predict(X_test)\n",
    "\n",
    "# We can now compare the \"predicted labels\" for the Testing Set with its \"actual labels\" to evaluate the accuracy \n",
    "score_nlsvm = accuracy_score(y_test, y_predict_nlsvm)\n",
    "\n",
    "print(\"Accuracy of Non-Linear SVM(PCA): \" + str(score_nlsvm))"
   ]
  },
  {
   "cell_type": "markdown",
   "metadata": {},
   "source": [
    "# PCA: Using Log Loss for non-Linear SVM"
   ]
  },
  {
   "cell_type": "code",
   "execution_count": 84,
   "metadata": {},
   "outputs": [
    {
     "name": "stdout",
     "output_type": "stream",
     "text": [
      "Log Loss score(non-Linear SVM): 1.12818468298\n"
     ]
    }
   ],
   "source": [
    "# Dont display Numpy in scientific notation\n",
    "np.set_printoptions(precision=4)\n",
    "np.set_printoptions(suppress=True)\n",
    "\n",
    "get_prob = my_nonLinear_SVM_PCA.predict_proba(X_test)\n",
    "\n",
    "logloss_score = metrics.log_loss(y_test, get_prob)\n",
    "\n",
    "print(\"Log Loss score(non-Linear SVM): \" + str(logloss_score))"
   ]
  },
  {
   "cell_type": "code",
   "execution_count": null,
   "metadata": {
    "collapsed": true
   },
   "outputs": [],
   "source": []
  }
 ],
 "metadata": {
  "kernelspec": {
   "display_name": "Python 3",
   "language": "python",
   "name": "python3"
  },
  "language_info": {
   "codemirror_mode": {
    "name": "ipython",
    "version": 3
   },
   "file_extension": ".py",
   "mimetype": "text/x-python",
   "name": "python",
   "nbconvert_exporter": "python",
   "pygments_lexer": "ipython3",
   "version": "3.6.3"
  }
 },
 "nbformat": 4,
 "nbformat_minor": 2
}
