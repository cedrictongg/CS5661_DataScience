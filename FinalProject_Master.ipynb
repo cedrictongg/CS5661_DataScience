{
 "cells": [
  {
   "cell_type": "code",
   "execution_count": 1,
   "metadata": {},
   "outputs": [
    {
     "name": "stderr",
     "output_type": "stream",
     "text": [
      "/home/ctong/anaconda3/lib/python3.6/site-packages/sklearn/cross_validation.py:41: DeprecationWarning: This module was deprecated in version 0.18 in favor of the model_selection module into which all the refactored classes and functions are moved. Also note that the interface of the new CV iterators are different from that of this module. This module will be removed in 0.20.\n",
      "  \"This module will be removed in 0.20.\", DeprecationWarning)\n"
     ]
    }
   ],
   "source": [
    "# Importing required libraries \n",
    "\n",
    "from sklearn.model_selection import train_test_split\n",
    "from sklearn.neighbors import KNeighborsClassifier \n",
    "from sklearn.metrics import accuracy_score\n",
    "import pandas as pd \n",
    "import numpy as np \n",
    "from sklearn.neural_network import MLPClassifier\n",
    "from sklearn.model_selection import GridSearchCV\n",
    "from sklearn import metrics\n",
    "from sklearn.cross_validation import cross_val_score\n",
    "from sklearn.tree import DecisionTreeClassifier\n",
    "from sklearn.ensemble import RandomForestClassifier\n"
   ]
  },
  {
   "cell_type": "code",
   "execution_count": 2,
   "metadata": {},
   "outputs": [
    {
     "name": "stdout",
     "output_type": "stream",
     "text": [
      "  AnimalID     Name             DateTime      OutcomeType OutcomeSubtype  \\\n",
      "0  A671945  Hambone  2014-02-12 18:22:00  Return_to_owner            NaN   \n",
      "1  A656520    Emily  2013-10-13 12:44:00       Euthanasia      Suffering   \n",
      "2  A686464   Pearce  2015-01-31 12:28:00         Adoption         Foster   \n",
      "3  A683430      NaN  2014-07-11 19:09:00         Transfer        Partner   \n",
      "4  A667013      NaN  2013-11-15 12:52:00         Transfer        Partner   \n",
      "\n",
      "  AnimalType SexuponOutcome AgeuponOutcome                        Breed  \\\n",
      "0        Dog  Neutered Male         1 year        Shetland Sheepdog Mix   \n",
      "1        Cat  Spayed Female         1 year       Domestic Shorthair Mix   \n",
      "2        Dog  Neutered Male        2 years                 Pit Bull Mix   \n",
      "3        Cat    Intact Male        3 weeks       Domestic Shorthair Mix   \n",
      "4        Dog  Neutered Male        2 years  Lhasa Apso/Miniature Poodle   \n",
      "\n",
      "         Color  \n",
      "0  Brown/White  \n",
      "1  Cream Tabby  \n",
      "2   Blue/White  \n",
      "3   Blue Cream  \n",
      "4          Tan  \n"
     ]
    }
   ],
   "source": [
    "data = pd.read_csv('train.csv')\n",
    "print(data.head())"
   ]
  },
  {
   "cell_type": "code",
   "execution_count": 3,
   "metadata": {},
   "outputs": [],
   "source": [
    "# these tables we decided would not have any outcome to our project\n",
    "data.drop(['AnimalID', 'OutcomeSubtype'], axis=1, inplace=True)"
   ]
  },
  {
   "cell_type": "code",
   "execution_count": 8,
   "metadata": {},
   "outputs": [
    {
     "name": "stdout",
     "output_type": "stream",
     "text": [
      "      Name             DateTime      OutcomeType  AnimalType SexuponOutcome  \\\n",
      "0  Hambone  2014-02-12 18:22:00  Return_to_owner           1  Neutered Male   \n",
      "1    Emily  2013-10-13 12:44:00       Euthanasia           0  Spayed Female   \n",
      "2   Pearce  2015-01-31 12:28:00         Adoption           1  Neutered Male   \n",
      "3      NaN  2014-07-11 19:09:00         Transfer           0    Intact Male   \n",
      "4      NaN  2013-11-15 12:52:00         Transfer           1  Neutered Male   \n",
      "\n",
      "  AgeuponOutcome                        Breed        Color  \n",
      "0         1 year        Shetland Sheepdog Mix  Brown/White  \n",
      "1         1 year       Domestic Shorthair Mix  Cream Tabby  \n",
      "2        2 years                 Pit Bull Mix   Blue/White  \n",
      "3        3 weeks       Domestic Shorthair Mix   Blue Cream  \n",
      "4        2 years  Lhasa Apso/Miniature Poodle          Tan  \n",
      "['Name', 'DateTime', 'OutcomeType', 'AnimalType', 'SexuponOutcome', 'AgeuponOutcome', 'Breed', 'Color']\n"
     ]
    }
   ],
   "source": [
    "print(data.head())\n",
    "print(list(data))"
   ]
  },
  {
   "cell_type": "code",
   "execution_count": 5,
   "metadata": {},
   "outputs": [],
   "source": [
    "data['AnimalType'] = data['AnimalType'].map({'Cat': 0, 'Dog': 1})"
   ]
  },
  {
   "cell_type": "code",
   "execution_count": 7,
   "metadata": {},
   "outputs": [
    {
     "name": "stdout",
     "output_type": "stream",
     "text": [
      "      Name             DateTime      OutcomeType  AnimalType SexuponOutcome  \\\n",
      "0  Hambone  2014-02-12 18:22:00  Return_to_owner           1  Neutered Male   \n",
      "1    Emily  2013-10-13 12:44:00       Euthanasia           0  Spayed Female   \n",
      "2   Pearce  2015-01-31 12:28:00         Adoption           1  Neutered Male   \n",
      "3      NaN  2014-07-11 19:09:00         Transfer           0    Intact Male   \n",
      "4      NaN  2013-11-15 12:52:00         Transfer           1  Neutered Male   \n",
      "\n",
      "  AgeuponOutcome                        Breed        Color  \n",
      "0         1 year        Shetland Sheepdog Mix  Brown/White  \n",
      "1         1 year       Domestic Shorthair Mix  Cream Tabby  \n",
      "2        2 years                 Pit Bull Mix   Blue/White  \n",
      "3        3 weeks       Domestic Shorthair Mix   Blue Cream  \n",
      "4        2 years  Lhasa Apso/Miniature Poodle          Tan  \n"
     ]
    }
   ],
   "source": [
    "print(data.head())"
   ]
  },
  {
   "cell_type": "code",
   "execution_count": null,
   "metadata": {},
   "outputs": [],
   "source": []
  }
 ],
 "metadata": {
  "kernelspec": {
   "display_name": "Python 3",
   "language": "python",
   "name": "python3"
  },
  "language_info": {
   "codemirror_mode": {
    "name": "ipython",
    "version": 3
   },
   "file_extension": ".py",
   "mimetype": "text/x-python",
   "name": "python",
   "nbconvert_exporter": "python",
   "pygments_lexer": "ipython3",
   "version": "3.6.4"
  }
 },
 "nbformat": 4,
 "nbformat_minor": 2
}
